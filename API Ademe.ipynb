{
 "cells": [
  {
   "cell_type": "code",
   "execution_count": 1,
   "id": "f13c0a27-0241-44fa-a416-a8ee30d8c07d",
   "metadata": {},
   "outputs": [],
   "source": [
    "import pandas as pd\n",
    "import requests\n",
    "import numpy as np\n",
    "import time"
   ]
  },
  {
   "cell_type": "code",
   "execution_count": 10,
   "id": "76751409-24bf-4813-ab44-6ce41f6435de",
   "metadata": {},
   "outputs": [],
   "source": [
    "\"\"\" Initialisation des paramètres \"\"\"\n",
    "\n",
    "data = [] # Liste contenant les dataframes à concaténer"
   ]
  },
  {
   "cell_type": "code",
   "execution_count": 22,
   "id": "ab0f513a-85a6-48ac-9960-8041f89d6bcc",
   "metadata": {},
   "outputs": [],
   "source": [
    "\"\"\" Fonction permettant de récupérer les données \"\"\"\n",
    "\n",
    "def api_ademe(codes_insee, nbr_page = 10):\n",
    "    \n",
    "    base_url = \"https://koumoul.com/data-fair/api/v1/datasets/dpe-france/lines?page=\"\n",
    "    \n",
    "    for code_insee in codes_insee :\n",
    "        for i in range(1,10*nbr_page + 2,10):\n",
    "            time.sleep(5)\n",
    "            page_init = i\n",
    "            page_suiv = i + 9\n",
    "    \n",
    "            url = base_url + f\"{page_init}\" + \"&after=\" + f\"{page_suiv}\" + \"&format=json&qs=code_insee_commune_actualise:\" + code_insee\n",
    "            req_api = requests.get(url)\n",
    "            df = pd.json_normalize(req_api.json()['results'])\n",
    "            data.append(df[~df['geo_adresse'].isna()])\n",
    "\n",
    "    return pd.concat(data,axis=0,ignore_index=True)"
   ]
  },
  {
   "cell_type": "code",
   "execution_count": 23,
   "id": "55311fb3-c94b-4c76-89f3-96f824768069",
   "metadata": {},
   "outputs": [],
   "source": [
    "\"\"\" Export \"\"\"\n",
    "\n",
    "data_ademe = api_ademe(['75056'])\n",
    "\n",
    "data_ademe.to_csv('donnees_ademe.csv')"
   ]
  },
  {
   "cell_type": "code",
   "execution_count": null,
   "id": "0eff2a77-f756-45dc-8db8-b671fed135f6",
   "metadata": {},
   "outputs": [],
   "source": []
  }
 ],
 "metadata": {
  "kernelspec": {
   "display_name": "Python 3 (ipykernel)",
   "language": "python",
   "name": "python3"
  },
  "language_info": {
   "codemirror_mode": {
    "name": "ipython",
    "version": 3
   },
   "file_extension": ".py",
   "mimetype": "text/x-python",
   "name": "python",
   "nbconvert_exporter": "python",
   "pygments_lexer": "ipython3",
   "version": "3.10.13"
  }
 },
 "nbformat": 4,
 "nbformat_minor": 5
}
