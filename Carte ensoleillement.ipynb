{
 "cells": [
  {
   "cell_type": "markdown",
   "id": "ad0280c1-8323-41ad-aed3-85d511c314b5",
   "metadata": {},
   "source": [
    "# Carte de l'ensoleillement annuel moyen en France par départements "
   ]
  },
  {
   "cell_type": "markdown",
   "id": "6aff4f8c-ecaf-4ace-a374-b5a85aeeb88d",
   "metadata": {},
   "source": [
    "L'objectif de ce document est à la fois de se familisariser avec les fonds de carte et la génération de cartes, et de visualiser une donnée qui peut être pertinente pour notre étude : la carte de l'ensoleillement moyen annuel par département en France. "
   ]
  },
  {
   "cell_type": "code",
   "execution_count": 1,
   "id": "1920729e-2e95-4bd5-8aed-b2cc4126d97f",
   "metadata": {},
   "outputs": [],
   "source": [
    "import pandas as pd"
   ]
  },
  {
   "cell_type": "code",
   "execution_count": 2,
   "id": "9b7556e0-0bd3-426a-ba59-895ce4869c51",
   "metadata": {},
   "outputs": [
    {
     "data": {
      "text/html": [
       "<div>\n",
       "<style scoped>\n",
       "    .dataframe tbody tr th:only-of-type {\n",
       "        vertical-align: middle;\n",
       "    }\n",
       "\n",
       "    .dataframe tbody tr th {\n",
       "        vertical-align: top;\n",
       "    }\n",
       "\n",
       "    .dataframe thead th {\n",
       "        text-align: right;\n",
       "    }\n",
       "</style>\n",
       "<table border=\"1\" class=\"dataframe\">\n",
       "  <thead>\n",
       "    <tr style=\"text-align: right;\">\n",
       "      <th></th>\n",
       "      <th>Départements</th>\n",
       "      <th>Temps d'enseillement (jours/an)</th>\n",
       "    </tr>\n",
       "  </thead>\n",
       "  <tbody>\n",
       "    <tr>\n",
       "      <th>0</th>\n",
       "      <td>Ain</td>\n",
       "      <td>182</td>\n",
       "    </tr>\n",
       "    <tr>\n",
       "      <th>1</th>\n",
       "      <td>Aisne</td>\n",
       "      <td>142</td>\n",
       "    </tr>\n",
       "    <tr>\n",
       "      <th>2</th>\n",
       "      <td>Allier</td>\n",
       "      <td>161</td>\n",
       "    </tr>\n",
       "    <tr>\n",
       "      <th>3</th>\n",
       "      <td>Alpes de Haute Provence</td>\n",
       "      <td>241</td>\n",
       "    </tr>\n",
       "    <tr>\n",
       "      <th>4</th>\n",
       "      <td>Hautes-Alpes</td>\n",
       "      <td>232</td>\n",
       "    </tr>\n",
       "    <tr>\n",
       "      <th>...</th>\n",
       "      <td>...</td>\n",
       "      <td>...</td>\n",
       "    </tr>\n",
       "    <tr>\n",
       "      <th>88</th>\n",
       "      <td>Essonne</td>\n",
       "      <td>148</td>\n",
       "    </tr>\n",
       "    <tr>\n",
       "      <th>89</th>\n",
       "      <td>Hauts-de-Seine</td>\n",
       "      <td>107</td>\n",
       "    </tr>\n",
       "    <tr>\n",
       "      <th>90</th>\n",
       "      <td>Seine-Saint-Denis</td>\n",
       "      <td>126</td>\n",
       "    </tr>\n",
       "    <tr>\n",
       "      <th>91</th>\n",
       "      <td>Val-de-Marne</td>\n",
       "      <td>126</td>\n",
       "    </tr>\n",
       "    <tr>\n",
       "      <th>92</th>\n",
       "      <td>Val-d'Oise</td>\n",
       "      <td>131</td>\n",
       "    </tr>\n",
       "  </tbody>\n",
       "</table>\n",
       "<p>93 rows × 2 columns</p>\n",
       "</div>"
      ],
      "text/plain": [
       "               Départements  Temps d'enseillement (jours/an)\n",
       "0                       Ain                              182\n",
       "1                     Aisne                              142\n",
       "2                    Allier                              161\n",
       "3   Alpes de Haute Provence                              241\n",
       "4              Hautes-Alpes                              232\n",
       "..                      ...                              ...\n",
       "88                  Essonne                              148\n",
       "89           Hauts-de-Seine                              107\n",
       "90        Seine-Saint-Denis                              126\n",
       "91             Val-de-Marne                              126\n",
       "92               Val-d'Oise                              131\n",
       "\n",
       "[93 rows x 2 columns]"
      ]
     },
     "execution_count": 2,
     "metadata": {},
     "output_type": "execute_result"
    }
   ],
   "source": [
    "url_soleil='https://static.data.gouv.fr/resources/donnees-du-temps-densoleillement-par-departements-en-france/20221207-142648/temps-densoleillement-par-an-par-departement-feuille-1.csv'\n",
    "ensoleillement =pd.read_csv(url_soleil)\n",
    "ensoleillement"
   ]
  },
  {
   "cell_type": "code",
   "execution_count": null,
   "id": "c394e494-d00b-4d30-8050-ce93f58e9ff6",
   "metadata": {},
   "outputs": [],
   "source": []
  }
 ],
 "metadata": {
  "kernelspec": {
   "display_name": "Python 3 (ipykernel)",
   "language": "python",
   "name": "python3"
  },
  "language_info": {
   "codemirror_mode": {
    "name": "ipython",
    "version": 3
   },
   "file_extension": ".py",
   "mimetype": "text/x-python",
   "name": "python",
   "nbconvert_exporter": "python",
   "pygments_lexer": "ipython3",
   "version": "3.10.13"
  }
 },
 "nbformat": 4,
 "nbformat_minor": 5
}
