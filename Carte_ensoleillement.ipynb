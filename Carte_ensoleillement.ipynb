{
 "cells": [
  {
   "cell_type": "markdown",
   "id": "ad0280c1-8323-41ad-aed3-85d511c314b5",
   "metadata": {},
   "source": [
    "# Carte de l'ensoleillement annuel moyen en France par départements "
   ]
  },
  {
   "cell_type": "markdown",
   "id": "6aff4f8c-ecaf-4ace-a374-b5a85aeeb88d",
   "metadata": {},
   "source": [
    "L'objectif de ce document est de présenter le contexte climatique de la France, en visualisant des données classiques en météorologie sur des cartes."
   ]
  },
  {
   "cell_type": "markdown",
   "id": "aa022769-dccc-4d90-8a92-a49ed0f57477",
   "metadata": {},
   "source": [
    "## Importations des données"
   ]
  },
  {
   "cell_type": "markdown",
   "id": "803a6059-fa63-481d-8367-dff493896a33",
   "metadata": {},
   "source": [
    "On commence par importer les paquets et les variables du projet, stockées dans les fichiers \"requirements.txt\" et \"declarations.py\"."
   ]
  },
  {
   "cell_type": "code",
   "execution_count": null,
   "id": "9c9f9479-638c-4107-a41c-4dd9636e494e",
   "metadata": {
    "scrolled": true
   },
   "outputs": [],
   "source": [
    "!pip install -r requirements.txt"
   ]
  },
  {
   "cell_type": "code",
   "execution_count": 10,
   "id": "597e83f8-090c-49a2-910b-d8992d3287f6",
   "metadata": {},
   "outputs": [],
   "source": [
    "import declarations_AV as dec\n",
    "import matplotlib.pyplot as plt\n",
    "import pandas as pd"
   ]
  },
  {
   "cell_type": "markdown",
   "id": "88ca7c0d-ec81-43bb-9fdd-e1b7f15a778d",
   "metadata": {},
   "source": [
    "Maintenant que les imports sont faits, on cherche à afficher le tableau des données d'ensoleillement par département en France, au cours de l'année 2022"
   ]
  },
  {
   "cell_type": "code",
   "execution_count": 3,
   "id": "1965ca8e-5dea-4ea0-a27d-8c145cb742e5",
   "metadata": {},
   "outputs": [
    {
     "data": {
      "text/html": [
       "<div>\n",
       "<style scoped>\n",
       "    .dataframe tbody tr th:only-of-type {\n",
       "        vertical-align: middle;\n",
       "    }\n",
       "\n",
       "    .dataframe tbody tr th {\n",
       "        vertical-align: top;\n",
       "    }\n",
       "\n",
       "    .dataframe thead th {\n",
       "        text-align: right;\n",
       "    }\n",
       "</style>\n",
       "<table border=\"1\" class=\"dataframe\">\n",
       "  <thead>\n",
       "    <tr style=\"text-align: right;\">\n",
       "      <th></th>\n",
       "      <th>Départements</th>\n",
       "      <th>Temps d'ensoleillement (jours/an)</th>\n",
       "    </tr>\n",
       "  </thead>\n",
       "  <tbody>\n",
       "    <tr>\n",
       "      <th>0</th>\n",
       "      <td>Ain</td>\n",
       "      <td>182</td>\n",
       "    </tr>\n",
       "    <tr>\n",
       "      <th>1</th>\n",
       "      <td>Aisne</td>\n",
       "      <td>142</td>\n",
       "    </tr>\n",
       "    <tr>\n",
       "      <th>2</th>\n",
       "      <td>Allier</td>\n",
       "      <td>161</td>\n",
       "    </tr>\n",
       "  </tbody>\n",
       "</table>\n",
       "</div>"
      ],
      "text/plain": [
       "  Départements  Temps d'ensoleillement (jours/an)\n",
       "0          Ain                                182\n",
       "1        Aisne                                142\n",
       "2       Allier                                161"
      ]
     },
     "execution_count": 3,
     "metadata": {},
     "output_type": "execute_result"
    }
   ],
   "source": [
    "#On importe la table à partir d'un fichier csv\n",
    "ensoleillement=pd.read_csv(dec.url_soleil)\n",
    "#On renomme la dernière colonne, mal nommée dans le document original\n",
    "ensoleillement=ensoleillement.rename(columns={'Départements' : 'Départements',\"Temps d'enseillement (jours/an)\": \"Temps d'ensoleillement (jours/an)\"})\n",
    "#On affiche la table\n",
    "ensoleillement.head(3)"
   ]
  },
  {
   "cell_type": "markdown",
   "id": "2312841c-16ad-4851-b705-2db7b653f40a",
   "metadata": {},
   "source": [
    "On aimerait désormais, pour rendre la visualisation plus agréable, représenter ce tableau sur une carte. Cependant pour ceci, il faut que nous ajoutions des données géographiques pour chaque département. Nous nous proposons d'utiliser le module cartiflette, codé par des administrateurs de l'INSEE.\n",
    "\n",
    "On commence par importer le tableau des données géographiques par département."
   ]
  },
  {
   "cell_type": "code",
   "execution_count": 6,
   "id": "c394e494-d00b-4d30-8050-ce93f58e9ff6",
   "metadata": {},
   "outputs": [],
   "source": [
    "departements=dec.dep\n",
    "departements[\"area\"] = departements.to_crs(2154).area"
   ]
  },
  {
   "cell_type": "markdown",
   "id": "9bfedc4d-5f43-47d6-9697-350c4b23698e",
   "metadata": {},
   "source": [
    "On en affiche quelques bouts pour voir à quoi il resssemble."
   ]
  },
  {
   "cell_type": "code",
   "execution_count": 7,
   "id": "8c74257e-0067-4809-8b48-181013f04c96",
   "metadata": {},
   "outputs": [
    {
     "data": {
      "text/html": [
       "<div>\n",
       "<style scoped>\n",
       "    .dataframe tbody tr th:only-of-type {\n",
       "        vertical-align: middle;\n",
       "    }\n",
       "\n",
       "    .dataframe tbody tr th {\n",
       "        vertical-align: top;\n",
       "    }\n",
       "\n",
       "    .dataframe thead th {\n",
       "        text-align: right;\n",
       "    }\n",
       "</style>\n",
       "<table border=\"1\" class=\"dataframe\">\n",
       "  <thead>\n",
       "    <tr style=\"text-align: right;\">\n",
       "      <th></th>\n",
       "      <th>id</th>\n",
       "      <th>ID</th>\n",
       "      <th>NOM_M</th>\n",
       "      <th>NOM</th>\n",
       "      <th>INSEE_DEP</th>\n",
       "      <th>INSEE_REG</th>\n",
       "      <th>source</th>\n",
       "      <th>territoire</th>\n",
       "      <th>geometry</th>\n",
       "      <th>area</th>\n",
       "    </tr>\n",
       "  </thead>\n",
       "  <tbody>\n",
       "    <tr>\n",
       "      <th>0</th>\n",
       "      <td>DEPARTEM_FXX_00000000001</td>\n",
       "      <td>None</td>\n",
       "      <td>AIN</td>\n",
       "      <td>Ain</td>\n",
       "      <td>01</td>\n",
       "      <td>84</td>\n",
       "      <td>IGN:EXPRESS-COG-CARTO-TERRITOIRE</td>\n",
       "      <td>metropole</td>\n",
       "      <td>POLYGON ((5.00939 46.50701, 5.00924 46.50701, ...</td>\n",
       "      <td>5.774291e+09</td>\n",
       "    </tr>\n",
       "    <tr>\n",
       "      <th>1</th>\n",
       "      <td>DEPARTEM_FXX_00000000002</td>\n",
       "      <td>None</td>\n",
       "      <td>AISNE</td>\n",
       "      <td>Aisne</td>\n",
       "      <td>02</td>\n",
       "      <td>32</td>\n",
       "      <td>IGN:EXPRESS-COG-CARTO-TERRITOIRE</td>\n",
       "      <td>metropole</td>\n",
       "      <td>POLYGON ((3.07070 49.76692, 3.07055 49.76692, ...</td>\n",
       "      <td>7.418552e+09</td>\n",
       "    </tr>\n",
       "    <tr>\n",
       "      <th>2</th>\n",
       "      <td>DEPARTEM_FXX_00000000003</td>\n",
       "      <td>None</td>\n",
       "      <td>CORSE-DU-SUD</td>\n",
       "      <td>Corse-du-Sud</td>\n",
       "      <td>2A</td>\n",
       "      <td>94</td>\n",
       "      <td>IGN:EXPRESS-COG-CARTO-TERRITOIRE</td>\n",
       "      <td>metropole</td>\n",
       "      <td>MULTIPOLYGON (((8.59803 41.88006, 8.59803 41.8...</td>\n",
       "      <td>4.033539e+09</td>\n",
       "    </tr>\n",
       "  </tbody>\n",
       "</table>\n",
       "</div>"
      ],
      "text/plain": [
       "                         id    ID         NOM_M           NOM INSEE_DEP  \\\n",
       "0  DEPARTEM_FXX_00000000001  None           AIN           Ain        01   \n",
       "1  DEPARTEM_FXX_00000000002  None         AISNE         Aisne        02   \n",
       "2  DEPARTEM_FXX_00000000003  None  CORSE-DU-SUD  Corse-du-Sud        2A   \n",
       "\n",
       "  INSEE_REG                            source territoire  \\\n",
       "0        84  IGN:EXPRESS-COG-CARTO-TERRITOIRE  metropole   \n",
       "1        32  IGN:EXPRESS-COG-CARTO-TERRITOIRE  metropole   \n",
       "2        94  IGN:EXPRESS-COG-CARTO-TERRITOIRE  metropole   \n",
       "\n",
       "                                            geometry          area  \n",
       "0  POLYGON ((5.00939 46.50701, 5.00924 46.50701, ...  5.774291e+09  \n",
       "1  POLYGON ((3.07070 49.76692, 3.07055 49.76692, ...  7.418552e+09  \n",
       "2  MULTIPOLYGON (((8.59803 41.88006, 8.59803 41.8...  4.033539e+09  "
      ]
     },
     "execution_count": 7,
     "metadata": {},
     "output_type": "execute_result"
    }
   ],
   "source": [
    "departements.head(3)"
   ]
  },
  {
   "cell_type": "markdown",
   "id": "bf022114-f264-45a8-a137-b84e1c90c1d7",
   "metadata": {},
   "source": [
    "Maintenant, nous introduisons un nouveau tableau, rassemblant les deux précédents, afin de mettre côte à côte les données géographiques et les données d'ensoleillement. On commence simplement par corriger quelques fautes d'orthographes ou de typographie dans les noms des deux tables, pour assurer la bonne fusion des données."
   ]
  },
  {
   "cell_type": "code",
   "execution_count": 8,
   "id": "1f950752-0faa-4478-990a-52b1b9005bd7",
   "metadata": {},
   "outputs": [],
   "source": [
    "ensoleillement.at[25,'Départements']=\"Eure-et-Loir\"\n",
    "ensoleillement.at[3,'Départements']=\"Alpes-de-Haute-Provence\"\n",
    "ensoleillement.at[19,'Départements']=\"Côte-d'Or\"\n",
    "ensoleillement.at[87,'Départements']=\"Territoire de Belfort\"\n",
    "departements.at[37,'NOM']='Indre-et-Loire'"
   ]
  },
  {
   "cell_type": "markdown",
   "id": "9f232478-3dab-4527-88db-900bfadcd139",
   "metadata": {},
   "source": [
    "Maintenant, nous pouvons fusionner les deux tables."
   ]
  },
  {
   "cell_type": "code",
   "execution_count": 9,
   "id": "86f0fd2f-9bc5-4d15-90b0-2448755d376c",
   "metadata": {},
   "outputs": [
    {
     "data": {
      "text/html": [
       "<div>\n",
       "<style scoped>\n",
       "    .dataframe tbody tr th:only-of-type {\n",
       "        vertical-align: middle;\n",
       "    }\n",
       "\n",
       "    .dataframe tbody tr th {\n",
       "        vertical-align: top;\n",
       "    }\n",
       "\n",
       "    .dataframe thead th {\n",
       "        text-align: right;\n",
       "    }\n",
       "</style>\n",
       "<table border=\"1\" class=\"dataframe\">\n",
       "  <thead>\n",
       "    <tr style=\"text-align: right;\">\n",
       "      <th></th>\n",
       "      <th>NOM</th>\n",
       "      <th>geometry</th>\n",
       "      <th>area</th>\n",
       "      <th>Temps d'ensoleillement (jours/an)</th>\n",
       "    </tr>\n",
       "  </thead>\n",
       "  <tbody>\n",
       "    <tr>\n",
       "      <th>0</th>\n",
       "      <td>Ain</td>\n",
       "      <td>POLYGON ((5.00939 46.50701, 5.00924 46.50701, ...</td>\n",
       "      <td>5.774291e+09</td>\n",
       "      <td>182</td>\n",
       "    </tr>\n",
       "    <tr>\n",
       "      <th>1</th>\n",
       "      <td>Aisne</td>\n",
       "      <td>POLYGON ((3.07070 49.76692, 3.07055 49.76692, ...</td>\n",
       "      <td>7.418552e+09</td>\n",
       "      <td>142</td>\n",
       "    </tr>\n",
       "    <tr>\n",
       "      <th>2</th>\n",
       "      <td>Allier</td>\n",
       "      <td>POLYGON ((2.56379 46.53199, 2.56379 46.53189, ...</td>\n",
       "      <td>7.365673e+09</td>\n",
       "      <td>161</td>\n",
       "    </tr>\n",
       "  </tbody>\n",
       "</table>\n",
       "</div>"
      ],
      "text/plain": [
       "      NOM                                           geometry          area  \\\n",
       "0     Ain  POLYGON ((5.00939 46.50701, 5.00924 46.50701, ...  5.774291e+09   \n",
       "1   Aisne  POLYGON ((3.07070 49.76692, 3.07055 49.76692, ...  7.418552e+09   \n",
       "2  Allier  POLYGON ((2.56379 46.53199, 2.56379 46.53189, ...  7.365673e+09   \n",
       "\n",
       "   Temps d'ensoleillement (jours/an)  \n",
       "0                                182  \n",
       "1                                142  \n",
       "2                                161  "
      ]
     },
     "execution_count": 9,
     "metadata": {},
     "output_type": "execute_result"
    }
   ],
   "source": [
    "soleil=departements.merge(ensoleillement, left_on='NOM', right_on='Départements')[['NOM','geometry', 'area', \"Temps d'ensoleillement (jours/an)\"]]\n",
    "soleil.head(3)"
   ]
  },
  {
   "cell_type": "markdown",
   "id": "0cee1e1e",
   "metadata": {},
   "source": [
    "On réalise à présent une carte de France de l'ensoleillement à partir des données récupérées : "
   ]
  },
  {
   "cell_type": "code",
   "execution_count": 11,
   "id": "b857cd7e-50df-4247-8520-6e4959398b36",
   "metadata": {},
   "outputs": [
    {
     "name": "stderr",
     "output_type": "stream",
     "text": [
      "C:\\Users\\auran\\AppData\\Local\\Packages\\PythonSoftwareFoundation.Python.3.10_qbz5n2kfra8p0\\LocalCache\\local-packages\\Python310\\site-packages\\geopandas\\plotting.py:730: FutureWarning: is_categorical_dtype is deprecated and will be removed in a future version. Use isinstance(dtype, CategoricalDtype) instead\n",
      "  if pd.api.types.is_categorical_dtype(values.dtype):\n"
     ]
    },
    {
     "data": {
      "image/png": "[encoded data removed]",
      "text/plain": [
       "<Figure size 640x480 with 2 Axes>"
      ]
     },
     "metadata": {},
     "output_type": "display_data"
    }
   ],
   "source": [
    "axis = soleil.plot(column = \"Temps d'ensoleillement (jours/an)\",legend='True', \n",
    "                   legend_kwds={\"orientation\":\"horizontal\"})\n",
    "axis.set_axis_off()\n",
    "plt.show()"
   ]
  },
  {
   "cell_type": "markdown",
   "id": "74d3fa47-b61e-4976-841d-95fc224cd466",
   "metadata": {},
   "source": [
    "Voilà la carte ! On remarque bien qu'il n'y a pas de données d'ensoleillement pour la Creuse ! De plus on n'a pas vraiment de source sur ces données, c'est-à-dire qu'on ne sait pas s'il s'agit d'une moyenne effectuée sur plusieurs années, ou seulement sur la dernière année. De plus, le résultat sur le Gers est particulièrement étonnant. A l'avenir, il ne faudra sans doute pas considérer ce département lorsque l'on utilisera les données d'ensoleillement."
   ]
  }
 ],
 "metadata": {
  "kernelspec": {
   "display_name": "Python 3 (ipykernel)",
   "language": "python",
   "name": "python3"
  },
  "language_info": {
   "codemirror_mode": {
    "name": "ipython",
    "version": 3
   },
   "file_extension": ".py",
   "mimetype": "text/x-python",
   "name": "python",
   "nbconvert_exporter": "python",
   "pygments_lexer": "ipython3",
   "version": "3.10.11"
  }
 },
 "nbformat": 4,
 "nbformat_minor": 5
}
