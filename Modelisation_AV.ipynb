{
 "cells": [
  {
   "cell_type": "markdown",
   "metadata": {},
   "source": [
    "## Modélisation "
   ]
  },
  {
   "cell_type": "code",
   "execution_count": null,
   "metadata": {},
   "outputs": [],
   "source": [
    "!pip install import-ipynb"
   ]
  },
  {
   "cell_type": "code",
   "execution_count": null,
   "metadata": {},
   "outputs": [],
   "source": [
    "import import_ipynb\n",
    "import declarations_AV as dec\n",
    "import Recuperation_des_donnees_AV as donnees\n",
    "import Carte_ensoleillement_AV as sol"
   ]
  },
  {
   "cell_type": "markdown",
   "metadata": {},
   "source": [
    "Le but de cette partie est de prédire la consommation d'électricité par habitants à partir des données météo que nous avons récoltées."
   ]
  },
  {
   "cell_type": "markdown",
   "metadata": {},
   "source": [
    "### 1- Création d'un dataset alliant les données de consommation, températures et ensoleillement récupérées"
   ]
  },
  {
   "cell_type": "markdown",
   "metadata": {},
   "source": [
    "Avant de commencer la modélisation, il est nécessaire de rassembler toutes les données collectées que nous utiliserons dans la modélisation dans un même DataFrame. Nous nous intéressons en particulier à l'année 2021."
   ]
  },
  {
   "cell_type": "code",
   "execution_count": 12,
   "metadata": {},
   "outputs": [
    {
     "data": {
      "text/html": [
       "<div>\n",
       "<style scoped>\n",
       "    .dataframe tbody tr th:only-of-type {\n",
       "        vertical-align: middle;\n",
       "    }\n",
       "\n",
       "    .dataframe tbody tr th {\n",
       "        vertical-align: top;\n",
       "    }\n",
       "\n",
       "    .dataframe thead th {\n",
       "        text-align: right;\n",
       "    }\n",
       "</style>\n",
       "<table border=\"1\" class=\"dataframe\">\n",
       "  <thead>\n",
       "    <tr style=\"text-align: right;\">\n",
       "      <th></th>\n",
       "      <th>Code Département</th>\n",
       "      <th>Libellé Département</th>\n",
       "      <th>Consommation Résidentiel  (MWh)</th>\n",
       "      <th>tmoy</th>\n",
       "      <th>tmax</th>\n",
       "      <th>tmin</th>\n",
       "      <th>Temps d'ensoleillement (jours/an)</th>\n",
       "    </tr>\n",
       "  </thead>\n",
       "  <tbody>\n",
       "    <tr>\n",
       "      <th>0</th>\n",
       "      <td>01</td>\n",
       "      <td>Ain</td>\n",
       "      <td>1.862766e+06</td>\n",
       "      <td>11.262192</td>\n",
       "      <td>33.2</td>\n",
       "      <td>-10.3</td>\n",
       "      <td>182.0</td>\n",
       "    </tr>\n",
       "    <tr>\n",
       "      <th>1</th>\n",
       "      <td>02</td>\n",
       "      <td>Aisne</td>\n",
       "      <td>1.364467e+06</td>\n",
       "      <td>10.729589</td>\n",
       "      <td>30.3</td>\n",
       "      <td>-7.8</td>\n",
       "      <td>142.0</td>\n",
       "    </tr>\n",
       "    <tr>\n",
       "      <th>2</th>\n",
       "      <td>03</td>\n",
       "      <td>Allier</td>\n",
       "      <td>9.465712e+05</td>\n",
       "      <td>11.470959</td>\n",
       "      <td>34.5</td>\n",
       "      <td>-8.7</td>\n",
       "      <td>161.0</td>\n",
       "    </tr>\n",
       "    <tr>\n",
       "      <th>3</th>\n",
       "      <td>04</td>\n",
       "      <td>Alpes-de-Haute-Provence</td>\n",
       "      <td>5.948674e+05</td>\n",
       "      <td>13.428082</td>\n",
       "      <td>38.3</td>\n",
       "      <td>-5.4</td>\n",
       "      <td>241.0</td>\n",
       "    </tr>\n",
       "    <tr>\n",
       "      <th>4</th>\n",
       "      <td>05</td>\n",
       "      <td>Hautes-Alpes</td>\n",
       "      <td>5.095034e+05</td>\n",
       "      <td>11.055753</td>\n",
       "      <td>33.9</td>\n",
       "      <td>-10.8</td>\n",
       "      <td>232.0</td>\n",
       "    </tr>\n",
       "  </tbody>\n",
       "</table>\n",
       "</div>"
      ],
      "text/plain": [
       "  Code Département      Libellé Département  Consommation Résidentiel  (MWh)  \\\n",
       "0               01                      Ain                     1.862766e+06   \n",
       "1               02                    Aisne                     1.364467e+06   \n",
       "2               03                   Allier                     9.465712e+05   \n",
       "3               04  Alpes-de-Haute-Provence                     5.948674e+05   \n",
       "4               05             Hautes-Alpes                     5.095034e+05   \n",
       "\n",
       "        tmoy  tmax  tmin  Temps d'ensoleillement (jours/an)  \n",
       "0  11.262192  33.2 -10.3                              182.0  \n",
       "1  10.729589  30.3  -7.8                              142.0  \n",
       "2  11.470959  34.5  -8.7                              161.0  \n",
       "3  13.428082  38.3  -5.4                              241.0  \n",
       "4  11.055753  33.9 -10.8                              232.0  "
      ]
     },
     "execution_count": 12,
     "metadata": {},
     "output_type": "execute_result"
    }
   ],
   "source": [
    "df_2021=donnees.dico_df_cons_tot[2021].merge(donnees.dico_df_temp[2021], how='left', left_on='Code Département', right_on='code_insee_departement')\n",
    "df_2021=df_2021.merge(sol.ensoleillement, how='left', left_on='Libellé Département', right_on='Départements')\n",
    "df_2021=df_2021.drop(['code_insee_departement', 'departement','Départements'], axis='columns')\n",
    "df_2021.head()"
   ]
  }
 ],
 "metadata": {
  "kernelspec": {
   "display_name": "Python 3",
   "language": "python",
   "name": "python3"
  },
  "language_info": {
   "codemirror_mode": {
    "name": "ipython",
    "version": 3
   },
   "file_extension": ".py",
   "mimetype": "text/x-python",
   "name": "python",
   "nbconvert_exporter": "python",
   "pygments_lexer": "ipython3",
   "version": "3.10.11"
  }
 },
 "nbformat": 4,
 "nbformat_minor": 2
}
