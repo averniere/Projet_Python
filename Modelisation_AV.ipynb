{
 "cells": [
  {
   "cell_type": "markdown",
   "metadata": {},
   "source": [
    "## Modélisation "
   ]
  },
  {
   "cell_type": "code",
   "execution_count": null,
   "metadata": {},
   "outputs": [],
   "source": [
    "!pip install import-ipynb"
   ]
  },
  {
   "cell_type": "code",
   "execution_count": null,
   "metadata": {},
   "outputs": [],
   "source": [
    "import import_ipynb\n",
    "import declarations_AV as dec\n",
    "import Recuperation_des_donnees_AV as donnees\n",
    "import Carte_ensoleillement_AV as sol"
   ]
  },
  {
   "cell_type": "markdown",
   "metadata": {},
   "source": [
    "Le but de cette partie est de prédire la consommation d'électricité par habitants à partir des données météo que nous avons récoltées."
   ]
  },
  {
   "cell_type": "markdown",
   "metadata": {},
   "source": [
    "### 1- Création d'un dataset alliant les données de consommation, températures et ensoleillement récupérées"
   ]
  },
  {
   "cell_type": "markdown",
   "metadata": {},
   "source": [
    "Avant de commencer la modélisation, il est nécessaire de rassembler toutes les données collectées que nous utiliserons dans la modélisation dans un même DataFrame. Nous nous intéressons en particulier à l'année 2021."
   ]
  },
  {
   "cell_type": "code",
   "execution_count": 26,
   "metadata": {},
   "outputs": [
    {
     "data": {
      "text/html": [
       "<div>\n",
       "<style scoped>\n",
       "    .dataframe tbody tr th:only-of-type {\n",
       "        vertical-align: middle;\n",
       "    }\n",
       "\n",
       "    .dataframe tbody tr th {\n",
       "        vertical-align: top;\n",
       "    }\n",
       "\n",
       "    .dataframe thead th {\n",
       "        text-align: right;\n",
       "    }\n",
       "</style>\n",
       "<table border=\"1\" class=\"dataframe\">\n",
       "  <thead>\n",
       "    <tr style=\"text-align: right;\">\n",
       "      <th></th>\n",
       "      <th>Code Département</th>\n",
       "      <th>Libellé Département</th>\n",
       "      <th>Consommation Résidentiel  (MWh)</th>\n",
       "      <th>tmoy</th>\n",
       "      <th>tmax</th>\n",
       "      <th>tmin</th>\n",
       "      <th>Temps d'ensoleillement (jours/an)</th>\n",
       "    </tr>\n",
       "  </thead>\n",
       "  <tbody>\n",
       "    <tr>\n",
       "      <th>0</th>\n",
       "      <td>01</td>\n",
       "      <td>Ain</td>\n",
       "      <td>1.805527e+06</td>\n",
       "      <td>12.769262</td>\n",
       "      <td>38.9</td>\n",
       "      <td>-5.3</td>\n",
       "      <td>182.0</td>\n",
       "    </tr>\n",
       "    <tr>\n",
       "      <th>1</th>\n",
       "      <td>02</td>\n",
       "      <td>Aisne</td>\n",
       "      <td>1.281305e+06</td>\n",
       "      <td>12.189617</td>\n",
       "      <td>37.9</td>\n",
       "      <td>-4.7</td>\n",
       "      <td>142.0</td>\n",
       "    </tr>\n",
       "    <tr>\n",
       "      <th>2</th>\n",
       "      <td>03</td>\n",
       "      <td>Allier</td>\n",
       "      <td>8.808159e+05</td>\n",
       "      <td>13.042760</td>\n",
       "      <td>40.2</td>\n",
       "      <td>-6.3</td>\n",
       "      <td>161.0</td>\n",
       "    </tr>\n",
       "  </tbody>\n",
       "</table>\n",
       "</div>"
      ],
      "text/plain": [
       "  Code Département Libellé Département  Consommation Résidentiel  (MWh)  \\\n",
       "0               01                 Ain                     1.805527e+06   \n",
       "1               02               Aisne                     1.281305e+06   \n",
       "2               03              Allier                     8.808159e+05   \n",
       "\n",
       "        tmoy  tmax  tmin  Temps d'ensoleillement (jours/an)  \n",
       "0  12.769262  38.9  -5.3                              182.0  \n",
       "1  12.189617  37.9  -4.7                              142.0  \n",
       "2  13.042760  40.2  -6.3                              161.0  "
      ]
     },
     "execution_count": 26,
     "metadata": {},
     "output_type": "execute_result"
    }
   ],
   "source": [
    "df_2020=donnees.dico_df_cons_tot[2020].merge(donnees.dico_df_temp[2020], how='left', left_on='Code Département', right_on='code_insee_departement')\n",
    "df_2020=df_2020.merge(sol.ensoleillement, how='left', left_on='Libellé Département', right_on='Départements')\n",
    "df_2020=df_2020.drop(['code_insee_departement', 'departement','Départements'], axis='columns')\n",
    "df_2020.head(3)"
   ]
  },
  {
   "cell_type": "code",
   "execution_count": 27,
   "metadata": {},
   "outputs": [
    {
     "name": "stdout",
     "output_type": "stream",
     "text": [
      "NaN occurrences in Columns:\n",
      "Code Département                     0\n",
      "Libellé Département                  0\n",
      "Consommation Résidentiel  (MWh)      0\n",
      "tmoy                                 0\n",
      "tmax                                 0\n",
      "tmin                                 0\n",
      "Temps d'ensoleillement (jours/an)    4\n",
      "dtype: int64\n"
     ]
    }
   ],
   "source": [
    "print(\"NaN occurrences in Columns:\")\n",
    "print(df_2020.isnull().sum(axis=0))"
   ]
  },
  {
   "cell_type": "code",
   "execution_count": 28,
   "metadata": {},
   "outputs": [
    {
     "data": {
      "text/plain": [
       "(92, 7)"
      ]
     },
     "execution_count": 28,
     "metadata": {},
     "output_type": "execute_result"
    }
   ],
   "source": [
    "# On supprime les départements pour lesquels on a des valeurs d'ensoleillement manquantes\n",
    "df_2020=df_2020.dropna(how='any')\n",
    "df_2020.shape"
   ]
  }
 ],
 "metadata": {
  "kernelspec": {
   "display_name": "Python 3",
   "language": "python",
   "name": "python3"
  },
  "language_info": {
   "codemirror_mode": {
    "name": "ipython",
    "version": 3
   },
   "file_extension": ".py",
   "mimetype": "text/x-python",
   "name": "python",
   "nbconvert_exporter": "python",
   "pygments_lexer": "ipython3",
   "version": "3.10.11"
  }
 },
 "nbformat": 4,
 "nbformat_minor": 2
}
