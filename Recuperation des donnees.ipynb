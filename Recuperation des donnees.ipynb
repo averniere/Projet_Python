{
 "cells": [
  {
   "cell_type": "markdown",
   "metadata": {},
   "source": [
    "# Prédiction de la consommation d'énergie des ménages \n",
    "\n",
    "Ce projet a été réalisé par Aurane Vernière, Killian Pliszczak et Hugo Capot, élève en deuxième année de l'ENSAE, dans le cadre d'un projet pour la matière \"Python pour la Data Science\".\n"
   ]
  },
  {
   "cell_type": "markdown",
   "metadata": {},
   "source": [
    "Notre travail se décompose en deux études à des échelles différentes. \n",
    "\n",
    "Nous nous sommes d'abord donnés pour but d'étudier la corrélation (et éventuellement la relation de causalité) entre consommation d'électricité du secteur résidentiel et la météo à l'échelle des départements français. En effet, grâce aux données disponibles sur le site d'Enedis, filiale d'EDF chargée de la distribution d'électricité en France, nous pouvons récupérer les données de consommation d'électricté du secteur résidentiel à l'échelle des départements pour les années 2011 à 2021. De plus, nous pouvons récupérer via l'API \"<i>Température quotidienne départementale depuis janvier 2018</i>\" d'Open Data Réseaux Energie (ODRE) les températures moyennes, minimales et maximales par département. \n",
    "\n",
    "La deuxième partie de notre travail sera consacrée, si nous avons le temps, à une régression de la consommation d'électricté sur des variables additionnelles, notamment les Diagnostics de Performance Energétique (DPE), auxquels nous avons uniquement accès par adresse. Nous nous restreindrons alors uniquement aux communes pour lesquelles nous avons aussi pu webscrapper des données météo. "
   ]
  },
  {
   "cell_type": "markdown",
   "metadata": {},
   "source": [
    "## Mise en route"
   ]
  },
  {
   "cell_type": "markdown",
   "metadata": {},
   "source": [
    "Nous commençons par introduire les librairies et modules qui nous seront utiles."
   ]
  },
  {
   "cell_type": "code",
   "execution_count": 1,
   "metadata": {},
   "outputs": [
    {
     "name": "stdout",
     "output_type": "stream",
     "text": [
      "Requirement already satisfied: pandas in /opt/mamba/lib/python3.10/site-packages (2.1.4)\n",
      "Requirement already satisfied: numpy<2,>=1.22.4 in /opt/mamba/lib/python3.10/site-packages (from pandas) (1.26.2)\n",
      "Requirement already satisfied: python-dateutil>=2.8.2 in /opt/mamba/lib/python3.10/site-packages (from pandas) (2.8.2)\n",
      "Requirement already satisfied: pytz>=2020.1 in /opt/mamba/lib/python3.10/site-packages (from pandas) (2023.3.post1)\n",
      "Requirement already satisfied: tzdata>=2022.1 in /opt/mamba/lib/python3.10/site-packages (from pandas) (2023.3)\n",
      "Requirement already satisfied: six>=1.5 in /opt/mamba/lib/python3.10/site-packages (from python-dateutil>=2.8.2->pandas) (1.16.0)\n",
      "Requirement already satisfied: geopandas in /opt/mamba/lib/python3.10/site-packages (0.12.2)\n",
      "Requirement already satisfied: pandas>=1.0.0 in /opt/mamba/lib/python3.10/site-packages (from geopandas) (2.1.4)\n",
      "Requirement already satisfied: shapely>=1.7 in /opt/mamba/lib/python3.10/site-packages (from geopandas) (2.0.2)\n",
      "Requirement already satisfied: fiona>=1.8 in /opt/mamba/lib/python3.10/site-packages (from geopandas) (1.9.3)\n",
      "Requirement already satisfied: pyproj>=2.6.1.post1 in /opt/mamba/lib/python3.10/site-packages (from geopandas) (3.6.1)\n",
      "Requirement already satisfied: packaging in /opt/mamba/lib/python3.10/site-packages (from geopandas) (23.1)\n",
      "Requirement already satisfied: attrs>=19.2.0 in /opt/mamba/lib/python3.10/site-packages (from fiona>=1.8->geopandas) (23.1.0)\n",
      "Requirement already satisfied: certifi in /opt/mamba/lib/python3.10/site-packages (from fiona>=1.8->geopandas) (2023.11.17)\n",
      "Requirement already satisfied: click~=8.0 in /opt/mamba/lib/python3.10/site-packages (from fiona>=1.8->geopandas) (8.1.7)\n",
      "Requirement already satisfied: click-plugins>=1.0 in /opt/mamba/lib/python3.10/site-packages (from fiona>=1.8->geopandas) (1.1.1)\n",
      "Requirement already satisfied: cligj>=0.5 in /opt/mamba/lib/python3.10/site-packages (from fiona>=1.8->geopandas) (0.7.2)\n",
      "Requirement already satisfied: munch>=2.3.2 in /opt/mamba/lib/python3.10/site-packages (from fiona>=1.8->geopandas) (4.0.0)\n",
      "Requirement already satisfied: numpy<2,>=1.22.4 in /opt/mamba/lib/python3.10/site-packages (from pandas>=1.0.0->geopandas) (1.26.2)\n",
      "Requirement already satisfied: python-dateutil>=2.8.2 in /opt/mamba/lib/python3.10/site-packages (from pandas>=1.0.0->geopandas) (2.8.2)\n",
      "Requirement already satisfied: pytz>=2020.1 in /opt/mamba/lib/python3.10/site-packages (from pandas>=1.0.0->geopandas) (2023.3.post1)\n",
      "Requirement already satisfied: tzdata>=2022.1 in /opt/mamba/lib/python3.10/site-packages (from pandas>=1.0.0->geopandas) (2023.3)\n",
      "Requirement already satisfied: six>=1.5 in /opt/mamba/lib/python3.10/site-packages (from python-dateutil>=2.8.2->pandas>=1.0.0->geopandas) (1.16.0)\n",
      "Requirement already satisfied: geoviews in /opt/mamba/lib/python3.10/site-packages (1.11.0)\n",
      "Requirement already satisfied: bokeh<3.4.0,>=3.2.0 in /opt/mamba/lib/python3.10/site-packages (from geoviews) (3.3.2)\n",
      "Requirement already satisfied: cartopy>=0.18.0 in /opt/mamba/lib/python3.10/site-packages (from geoviews) (0.22.0)\n",
      "Requirement already satisfied: holoviews>=1.16.0 in /opt/mamba/lib/python3.10/site-packages (from geoviews) (1.18.1)\n",
      "Requirement already satisfied: packaging in /opt/mamba/lib/python3.10/site-packages (from geoviews) (23.1)\n",
      "Requirement already satisfied: numpy in /opt/mamba/lib/python3.10/site-packages (from geoviews) (1.26.2)\n",
      "Requirement already satisfied: shapely in /opt/mamba/lib/python3.10/site-packages (from geoviews) (2.0.2)\n",
      "Requirement already satisfied: param in /opt/mamba/lib/python3.10/site-packages (from geoviews) (2.0.1)\n",
      "Requirement already satisfied: panel>=1.0.0 in /opt/mamba/lib/python3.10/site-packages (from geoviews) (1.3.6)\n",
      "Requirement already satisfied: pyproj in /opt/mamba/lib/python3.10/site-packages (from geoviews) (3.6.1)\n",
      "Requirement already satisfied: xyzservices in /opt/mamba/lib/python3.10/site-packages (from geoviews) (2023.10.1)\n",
      "Requirement already satisfied: Jinja2>=2.9 in /opt/mamba/lib/python3.10/site-packages (from bokeh<3.4.0,>=3.2.0->geoviews) (3.1.2)\n",
      "Requirement already satisfied: contourpy>=1 in /opt/mamba/lib/python3.10/site-packages (from bokeh<3.4.0,>=3.2.0->geoviews) (1.2.0)\n",
      "Requirement already satisfied: pandas>=1.2 in /opt/mamba/lib/python3.10/site-packages (from bokeh<3.4.0,>=3.2.0->geoviews) (2.1.4)\n",
      "Requirement already satisfied: pillow>=7.1.0 in /opt/mamba/lib/python3.10/site-packages (from bokeh<3.4.0,>=3.2.0->geoviews) (10.1.0)\n",
      "Requirement already satisfied: PyYAML>=3.10 in /opt/mamba/lib/python3.10/site-packages (from bokeh<3.4.0,>=3.2.0->geoviews) (6.0.1)\n",
      "Requirement already satisfied: tornado>=5.1 in /opt/mamba/lib/python3.10/site-packages (from bokeh<3.4.0,>=3.2.0->geoviews) (6.3.3)\n",
      "Requirement already satisfied: matplotlib>=3.4 in /opt/mamba/lib/python3.10/site-packages (from cartopy>=0.18.0->geoviews) (3.8.2)\n",
      "Requirement already satisfied: pyshp>=2.1 in /opt/mamba/lib/python3.10/site-packages (from cartopy>=0.18.0->geoviews) (2.3.1)\n",
      "Requirement already satisfied: pyviz-comms>=0.7.4 in /opt/mamba/lib/python3.10/site-packages (from holoviews>=1.16.0->geoviews) (3.0.0)\n",
      "Requirement already satisfied: colorcet in /opt/mamba/lib/python3.10/site-packages (from holoviews>=1.16.0->geoviews) (3.0.1)\n",
      "Requirement already satisfied: markdown in /opt/mamba/lib/python3.10/site-packages (from panel>=1.0.0->geoviews) (3.5.1)\n",
      "Requirement already satisfied: markdown-it-py in /opt/mamba/lib/python3.10/site-packages (from panel>=1.0.0->geoviews) (3.0.0)\n",
      "Requirement already satisfied: linkify-it-py in /opt/mamba/lib/python3.10/site-packages (from panel>=1.0.0->geoviews) (2.0.2)\n",
      "Requirement already satisfied: mdit-py-plugins in /opt/mamba/lib/python3.10/site-packages (from panel>=1.0.0->geoviews) (0.4.0)\n",
      "Requirement already satisfied: requests in /opt/mamba/lib/python3.10/site-packages (from panel>=1.0.0->geoviews) (2.31.0)\n",
      "Requirement already satisfied: tqdm>=4.48.0 in /opt/mamba/lib/python3.10/site-packages (from panel>=1.0.0->geoviews) (4.66.1)\n",
      "Requirement already satisfied: bleach in /opt/mamba/lib/python3.10/site-packages (from panel>=1.0.0->geoviews) (6.1.0)\n",
      "Requirement already satisfied: typing-extensions in /opt/mamba/lib/python3.10/site-packages (from panel>=1.0.0->geoviews) (4.9.0)\n",
      "Requirement already satisfied: certifi in /opt/mamba/lib/python3.10/site-packages (from pyproj->geoviews) (2023.11.17)\n",
      "Requirement already satisfied: MarkupSafe>=2.0 in /opt/mamba/lib/python3.10/site-packages (from Jinja2>=2.9->bokeh<3.4.0,>=3.2.0->geoviews) (2.1.3)\n",
      "Requirement already satisfied: cycler>=0.10 in /opt/mamba/lib/python3.10/site-packages (from matplotlib>=3.4->cartopy>=0.18.0->geoviews) (0.12.1)\n",
      "Requirement already satisfied: fonttools>=4.22.0 in /opt/mamba/lib/python3.10/site-packages (from matplotlib>=3.4->cartopy>=0.18.0->geoviews) (4.46.0)\n",
      "Requirement already satisfied: kiwisolver>=1.3.1 in /opt/mamba/lib/python3.10/site-packages (from matplotlib>=3.4->cartopy>=0.18.0->geoviews) (1.4.5)\n",
      "Requirement already satisfied: pyparsing>=2.3.1 in /opt/mamba/lib/python3.10/site-packages (from matplotlib>=3.4->cartopy>=0.18.0->geoviews) (3.1.1)\n",
      "Requirement already satisfied: python-dateutil>=2.7 in /opt/mamba/lib/python3.10/site-packages (from matplotlib>=3.4->cartopy>=0.18.0->geoviews) (2.8.2)\n",
      "Requirement already satisfied: pytz>=2020.1 in /opt/mamba/lib/python3.10/site-packages (from pandas>=1.2->bokeh<3.4.0,>=3.2.0->geoviews) (2023.3.post1)\n",
      "Requirement already satisfied: tzdata>=2022.1 in /opt/mamba/lib/python3.10/site-packages (from pandas>=1.2->bokeh<3.4.0,>=3.2.0->geoviews) (2023.3)\n",
      "Requirement already satisfied: six>=1.9.0 in /opt/mamba/lib/python3.10/site-packages (from bleach->panel>=1.0.0->geoviews) (1.16.0)\n",
      "Requirement already satisfied: webencodings in /opt/mamba/lib/python3.10/site-packages (from bleach->panel>=1.0.0->geoviews) (0.5.1)\n",
      "Requirement already satisfied: pyct>=0.4.4 in /opt/mamba/lib/python3.10/site-packages (from colorcet->holoviews>=1.16.0->geoviews) (0.5.0)\n",
      "Requirement already satisfied: uc-micro-py in /opt/mamba/lib/python3.10/site-packages (from linkify-it-py->panel>=1.0.0->geoviews) (1.0.2)\n",
      "Requirement already satisfied: mdurl~=0.1 in /opt/mamba/lib/python3.10/site-packages (from markdown-it-py->panel>=1.0.0->geoviews) (0.1.2)\n",
      "Requirement already satisfied: charset-normalizer<4,>=2 in /opt/mamba/lib/python3.10/site-packages (from requests->panel>=1.0.0->geoviews) (3.2.0)\n",
      "Requirement already satisfied: idna<4,>=2.5 in /opt/mamba/lib/python3.10/site-packages (from requests->panel>=1.0.0->geoviews) (3.4)\n",
      "Requirement already satisfied: urllib3<3,>=1.21.1 in /opt/mamba/lib/python3.10/site-packages (from requests->panel>=1.0.0->geoviews) (1.26.18)\n",
      "Requirement already satisfied: lxml in /opt/mamba/lib/python3.10/site-packages (4.9.4)\n",
      "\u001b[31mERROR: Could not find a version that satisfies the requirement urllib (from versions: none)\u001b[0m\u001b[31m\n",
      "\u001b[0m\u001b[31mERROR: No matching distribution found for urllib\u001b[0m\u001b[31m\n",
      "\u001b[0mRequirement already satisfied: matplotlib in /opt/mamba/lib/python3.10/site-packages (3.8.2)\n",
      "Requirement already satisfied: contourpy>=1.0.1 in /opt/mamba/lib/python3.10/site-packages (from matplotlib) (1.2.0)\n",
      "Requirement already satisfied: cycler>=0.10 in /opt/mamba/lib/python3.10/site-packages (from matplotlib) (0.12.1)\n",
      "Requirement already satisfied: fonttools>=4.22.0 in /opt/mamba/lib/python3.10/site-packages (from matplotlib) (4.46.0)\n",
      "Requirement already satisfied: kiwisolver>=1.3.1 in /opt/mamba/lib/python3.10/site-packages (from matplotlib) (1.4.5)\n",
      "Requirement already satisfied: numpy<2,>=1.21 in /opt/mamba/lib/python3.10/site-packages (from matplotlib) (1.26.2)\n",
      "Requirement already satisfied: packaging>=20.0 in /opt/mamba/lib/python3.10/site-packages (from matplotlib) (23.1)\n",
      "Requirement already satisfied: pillow>=8 in /opt/mamba/lib/python3.10/site-packages (from matplotlib) (10.1.0)\n",
      "Requirement already satisfied: pyparsing>=2.3.1 in /opt/mamba/lib/python3.10/site-packages (from matplotlib) (3.1.1)\n",
      "Requirement already satisfied: python-dateutil>=2.7 in /opt/mamba/lib/python3.10/site-packages (from matplotlib) (2.8.2)\n",
      "Requirement already satisfied: six>=1.5 in /opt/mamba/lib/python3.10/site-packages (from python-dateutil>=2.7->matplotlib) (1.16.0)\n",
      "Requirement already satisfied: requests in /opt/mamba/lib/python3.10/site-packages (2.31.0)\n",
      "Requirement already satisfied: py7zr in /opt/mamba/lib/python3.10/site-packages (0.20.8)\n",
      "Requirement already satisfied: geopandas in /opt/mamba/lib/python3.10/site-packages (0.12.2)\n",
      "Requirement already satisfied: openpyxl in /opt/mamba/lib/python3.10/site-packages (3.1.2)\n",
      "Requirement already satisfied: tqdm in /opt/mamba/lib/python3.10/site-packages (4.66.1)\n",
      "Requirement already satisfied: s3fs in /opt/mamba/lib/python3.10/site-packages (2023.12.2)\n",
      "Requirement already satisfied: PyYAML in /opt/mamba/lib/python3.10/site-packages (6.0.1)\n",
      "Requirement already satisfied: xlrd in /opt/mamba/lib/python3.10/site-packages (2.0.1)\n",
      "Requirement already satisfied: charset-normalizer<4,>=2 in /opt/mamba/lib/python3.10/site-packages (from requests) (3.2.0)\n",
      "Requirement already satisfied: idna<4,>=2.5 in /opt/mamba/lib/python3.10/site-packages (from requests) (3.4)\n",
      "Requirement already satisfied: urllib3<3,>=1.21.1 in /opt/mamba/lib/python3.10/site-packages (from requests) (1.26.18)\n",
      "Requirement already satisfied: certifi>=2017.4.17 in /opt/mamba/lib/python3.10/site-packages (from requests) (2023.11.17)\n",
      "Requirement already satisfied: texttable in /opt/mamba/lib/python3.10/site-packages (from py7zr) (1.7.0)\n",
      "Requirement already satisfied: pycryptodomex>=3.16.0 in /opt/mamba/lib/python3.10/site-packages (from py7zr) (3.19.0)\n",
      "Requirement already satisfied: pyzstd>=0.15.9 in /opt/mamba/lib/python3.10/site-packages (from py7zr) (0.15.9)\n",
      "Requirement already satisfied: pyppmd<1.2.0,>=1.1.0 in /opt/mamba/lib/python3.10/site-packages (from py7zr) (1.1.0)\n",
      "Requirement already satisfied: pybcj<1.1.0,>=1.0.0 in /opt/mamba/lib/python3.10/site-packages (from py7zr) (1.0.2)\n",
      "Requirement already satisfied: multivolumefile>=0.2.3 in /opt/mamba/lib/python3.10/site-packages (from py7zr) (0.2.3)\n",
      "Requirement already satisfied: inflate64<1.1.0,>=1.0.0 in /opt/mamba/lib/python3.10/site-packages (from py7zr) (1.0.0)\n",
      "Requirement already satisfied: brotli>=1.1.0 in /opt/mamba/lib/python3.10/site-packages (from py7zr) (1.1.0)\n",
      "Requirement already satisfied: psutil in /opt/mamba/lib/python3.10/site-packages (from py7zr) (5.9.7)\n",
      "Requirement already satisfied: pandas>=1.0.0 in /opt/mamba/lib/python3.10/site-packages (from geopandas) (2.1.4)\n",
      "Requirement already satisfied: shapely>=1.7 in /opt/mamba/lib/python3.10/site-packages (from geopandas) (2.0.2)\n",
      "Requirement already satisfied: fiona>=1.8 in /opt/mamba/lib/python3.10/site-packages (from geopandas) (1.9.3)\n",
      "Requirement already satisfied: pyproj>=2.6.1.post1 in /opt/mamba/lib/python3.10/site-packages (from geopandas) (3.6.1)\n",
      "Requirement already satisfied: packaging in /opt/mamba/lib/python3.10/site-packages (from geopandas) (23.1)\n",
      "Requirement already satisfied: et-xmlfile in /opt/mamba/lib/python3.10/site-packages (from openpyxl) (1.1.0)\n",
      "Requirement already satisfied: aiobotocore<3.0.0,>=2.5.4 in /opt/mamba/lib/python3.10/site-packages (from s3fs) (2.9.0)\n",
      "Requirement already satisfied: fsspec==2023.12.2 in /opt/mamba/lib/python3.10/site-packages (from s3fs) (2023.12.2)\n",
      "Requirement already satisfied: aiohttp!=4.0.0a0,!=4.0.0a1 in /opt/mamba/lib/python3.10/site-packages (from s3fs) (3.9.1)\n",
      "Requirement already satisfied: botocore<1.33.14,>=1.33.2 in /opt/mamba/lib/python3.10/site-packages (from aiobotocore<3.0.0,>=2.5.4->s3fs) (1.33.13)\n",
      "Requirement already satisfied: wrapt<2.0.0,>=1.10.10 in /opt/mamba/lib/python3.10/site-packages (from aiobotocore<3.0.0,>=2.5.4->s3fs) (1.16.0)\n",
      "Requirement already satisfied: aioitertools<1.0.0,>=0.5.1 in /opt/mamba/lib/python3.10/site-packages (from aiobotocore<3.0.0,>=2.5.4->s3fs) (0.11.0)\n",
      "Requirement already satisfied: attrs>=17.3.0 in /opt/mamba/lib/python3.10/site-packages (from aiohttp!=4.0.0a0,!=4.0.0a1->s3fs) (23.1.0)\n",
      "Requirement already satisfied: multidict<7.0,>=4.5 in /opt/mamba/lib/python3.10/site-packages (from aiohttp!=4.0.0a0,!=4.0.0a1->s3fs) (6.0.4)\n",
      "Requirement already satisfied: yarl<2.0,>=1.0 in /opt/mamba/lib/python3.10/site-packages (from aiohttp!=4.0.0a0,!=4.0.0a1->s3fs) (1.9.3)\n",
      "Requirement already satisfied: frozenlist>=1.1.1 in /opt/mamba/lib/python3.10/site-packages (from aiohttp!=4.0.0a0,!=4.0.0a1->s3fs) (1.4.1)\n",
      "Requirement already satisfied: aiosignal>=1.1.2 in /opt/mamba/lib/python3.10/site-packages (from aiohttp!=4.0.0a0,!=4.0.0a1->s3fs) (1.3.1)\n",
      "Requirement already satisfied: async-timeout<5.0,>=4.0 in /opt/mamba/lib/python3.10/site-packages (from aiohttp!=4.0.0a0,!=4.0.0a1->s3fs) (4.0.3)\n",
      "Requirement already satisfied: click~=8.0 in /opt/mamba/lib/python3.10/site-packages (from fiona>=1.8->geopandas) (8.1.7)\n",
      "Requirement already satisfied: click-plugins>=1.0 in /opt/mamba/lib/python3.10/site-packages (from fiona>=1.8->geopandas) (1.1.1)\n",
      "Requirement already satisfied: cligj>=0.5 in /opt/mamba/lib/python3.10/site-packages (from fiona>=1.8->geopandas) (0.7.2)\n",
      "Requirement already satisfied: munch>=2.3.2 in /opt/mamba/lib/python3.10/site-packages (from fiona>=1.8->geopandas) (4.0.0)\n",
      "Requirement already satisfied: numpy<2,>=1.22.4 in /opt/mamba/lib/python3.10/site-packages (from pandas>=1.0.0->geopandas) (1.26.2)\n",
      "Requirement already satisfied: python-dateutil>=2.8.2 in /opt/mamba/lib/python3.10/site-packages (from pandas>=1.0.0->geopandas) (2.8.2)\n",
      "Requirement already satisfied: pytz>=2020.1 in /opt/mamba/lib/python3.10/site-packages (from pandas>=1.0.0->geopandas) (2023.3.post1)\n",
      "Requirement already satisfied: tzdata>=2022.1 in /opt/mamba/lib/python3.10/site-packages (from pandas>=1.0.0->geopandas) (2023.3)\n",
      "Requirement already satisfied: jmespath<2.0.0,>=0.7.1 in /opt/mamba/lib/python3.10/site-packages (from botocore<1.33.14,>=1.33.2->aiobotocore<3.0.0,>=2.5.4->s3fs) (1.0.1)\n",
      "Requirement already satisfied: six>=1.5 in /opt/mamba/lib/python3.10/site-packages (from python-dateutil>=2.8.2->pandas>=1.0.0->geopandas) (1.16.0)\n",
      "Collecting git+https://github.com/inseefrlab/cartiflette@80b8a5a28371feb6df31d55bcc2617948a5f9b1a\n",
      "  Cloning https://github.com/inseefrlab/cartiflette (to revision 80b8a5a28371feb6df31d55bcc2617948a5f9b1a) to /tmp/pip-req-build-pos5s6xf\n",
      "  Running command git clone --filter=blob:none --quiet https://github.com/inseefrlab/cartiflette /tmp/pip-req-build-pos5s6xf\n",
      "  Running command git rev-parse -q --verify 'sha^80b8a5a28371feb6df31d55bcc2617948a5f9b1a'\n",
      "  Running command git fetch -q https://github.com/inseefrlab/cartiflette 80b8a5a28371feb6df31d55bcc2617948a5f9b1a\n",
      "  Running command git checkout -q 80b8a5a28371feb6df31d55bcc2617948a5f9b1a\n",
      "  Resolved https://github.com/inseefrlab/cartiflette to commit 80b8a5a28371feb6df31d55bcc2617948a5f9b1a\n",
      "  Installing build dependencies ... \u001b[?25ldone\n",
      "\u001b[?25h  Getting requirements to build wheel ... \u001b[?25ldone\n",
      "\u001b[?25h  Preparing metadata (pyproject.toml) ... \u001b[?25ldone\n",
      "\u001b[?25hRequirement already satisfied: PyYAML<7.0,>=6.0 in /opt/mamba/lib/python3.10/site-packages (from cartiflette==0.0.1) (6.0.1)\n",
      "Requirement already satisfied: appdirs<2.0.0,>=1.4.4 in /opt/mamba/lib/python3.10/site-packages (from cartiflette==0.0.1) (1.4.4)\n",
      "Requirement already satisfied: geopandas<0.13.0,>=0.12.2 in /opt/mamba/lib/python3.10/site-packages (from cartiflette==0.0.1) (0.12.2)\n",
      "Requirement already satisfied: matplotlib<4.0.0,>=3.7.1 in /opt/mamba/lib/python3.10/site-packages (from cartiflette==0.0.1) (3.8.2)\n",
      "Requirement already satisfied: openpyxl<4.0.0,>=3.1.1 in /opt/mamba/lib/python3.10/site-packages (from cartiflette==0.0.1) (3.1.2)\n",
      "Requirement already satisfied: owslib<0.29.0,>=0.28.1 in /opt/mamba/lib/python3.10/site-packages (from cartiflette==0.0.1) (0.28.1)\n",
      "Requirement already satisfied: py7zr<0.21.0,>=0.20.4 in /opt/mamba/lib/python3.10/site-packages (from cartiflette==0.0.1) (0.20.8)\n",
      "Requirement already satisfied: requests<3.0.0,>=2.28.2 in /opt/mamba/lib/python3.10/site-packages (from cartiflette==0.0.1) (2.31.0)\n",
      "Requirement already satisfied: s3fs<2024.0.0,>=2023.3.0 in /opt/mamba/lib/python3.10/site-packages (from cartiflette==0.0.1) (2023.12.2)\n",
      "Requirement already satisfied: topojson<2.0,>=1.5 in /opt/mamba/lib/python3.10/site-packages (from cartiflette==0.0.1) (1.7)\n",
      "Requirement already satisfied: tqdm<5.0.0,>=4.65.0 in /opt/mamba/lib/python3.10/site-packages (from cartiflette==0.0.1) (4.66.1)\n",
      "Requirement already satisfied: xlrd<3.0.0,>=2.0.1 in /opt/mamba/lib/python3.10/site-packages (from cartiflette==0.0.1) (2.0.1)\n",
      "Requirement already satisfied: pandas>=1.0.0 in /opt/mamba/lib/python3.10/site-packages (from geopandas<0.13.0,>=0.12.2->cartiflette==0.0.1) (2.1.4)\n",
      "Requirement already satisfied: shapely>=1.7 in /opt/mamba/lib/python3.10/site-packages (from geopandas<0.13.0,>=0.12.2->cartiflette==0.0.1) (2.0.2)\n",
      "Requirement already satisfied: fiona>=1.8 in /opt/mamba/lib/python3.10/site-packages (from geopandas<0.13.0,>=0.12.2->cartiflette==0.0.1) (1.9.3)\n",
      "Requirement already satisfied: pyproj>=2.6.1.post1 in /opt/mamba/lib/python3.10/site-packages (from geopandas<0.13.0,>=0.12.2->cartiflette==0.0.1) (3.6.1)\n",
      "Requirement already satisfied: packaging in /opt/mamba/lib/python3.10/site-packages (from geopandas<0.13.0,>=0.12.2->cartiflette==0.0.1) (23.1)\n",
      "Requirement already satisfied: contourpy>=1.0.1 in /opt/mamba/lib/python3.10/site-packages (from matplotlib<4.0.0,>=3.7.1->cartiflette==0.0.1) (1.2.0)\n",
      "Requirement already satisfied: cycler>=0.10 in /opt/mamba/lib/python3.10/site-packages (from matplotlib<4.0.0,>=3.7.1->cartiflette==0.0.1) (0.12.1)\n",
      "Requirement already satisfied: fonttools>=4.22.0 in /opt/mamba/lib/python3.10/site-packages (from matplotlib<4.0.0,>=3.7.1->cartiflette==0.0.1) (4.46.0)\n",
      "Requirement already satisfied: kiwisolver>=1.3.1 in /opt/mamba/lib/python3.10/site-packages (from matplotlib<4.0.0,>=3.7.1->cartiflette==0.0.1) (1.4.5)\n",
      "Requirement already satisfied: numpy<2,>=1.21 in /opt/mamba/lib/python3.10/site-packages (from matplotlib<4.0.0,>=3.7.1->cartiflette==0.0.1) (1.26.2)\n",
      "Requirement already satisfied: pillow>=8 in /opt/mamba/lib/python3.10/site-packages (from matplotlib<4.0.0,>=3.7.1->cartiflette==0.0.1) (10.1.0)\n",
      "Requirement already satisfied: pyparsing>=2.3.1 in /opt/mamba/lib/python3.10/site-packages (from matplotlib<4.0.0,>=3.7.1->cartiflette==0.0.1) (3.1.1)\n",
      "Requirement already satisfied: python-dateutil>=2.7 in /opt/mamba/lib/python3.10/site-packages (from matplotlib<4.0.0,>=3.7.1->cartiflette==0.0.1) (2.8.2)\n",
      "Requirement already satisfied: et-xmlfile in /opt/mamba/lib/python3.10/site-packages (from openpyxl<4.0.0,>=3.1.1->cartiflette==0.0.1) (1.1.0)\n",
      "Requirement already satisfied: lxml in /opt/mamba/lib/python3.10/site-packages (from owslib<0.29.0,>=0.28.1->cartiflette==0.0.1) (4.9.4)\n",
      "Requirement already satisfied: pytz in /opt/mamba/lib/python3.10/site-packages (from owslib<0.29.0,>=0.28.1->cartiflette==0.0.1) (2023.3.post1)\n",
      "Requirement already satisfied: texttable in /opt/mamba/lib/python3.10/site-packages (from py7zr<0.21.0,>=0.20.4->cartiflette==0.0.1) (1.7.0)\n",
      "Requirement already satisfied: pycryptodomex>=3.16.0 in /opt/mamba/lib/python3.10/site-packages (from py7zr<0.21.0,>=0.20.4->cartiflette==0.0.1) (3.19.0)\n",
      "Requirement already satisfied: pyzstd>=0.15.9 in /opt/mamba/lib/python3.10/site-packages (from py7zr<0.21.0,>=0.20.4->cartiflette==0.0.1) (0.15.9)\n",
      "Requirement already satisfied: pyppmd<1.2.0,>=1.1.0 in /opt/mamba/lib/python3.10/site-packages (from py7zr<0.21.0,>=0.20.4->cartiflette==0.0.1) (1.1.0)\n",
      "Requirement already satisfied: pybcj<1.1.0,>=1.0.0 in /opt/mamba/lib/python3.10/site-packages (from py7zr<0.21.0,>=0.20.4->cartiflette==0.0.1) (1.0.2)\n",
      "Requirement already satisfied: multivolumefile>=0.2.3 in /opt/mamba/lib/python3.10/site-packages (from py7zr<0.21.0,>=0.20.4->cartiflette==0.0.1) (0.2.3)\n",
      "Requirement already satisfied: inflate64<1.1.0,>=1.0.0 in /opt/mamba/lib/python3.10/site-packages (from py7zr<0.21.0,>=0.20.4->cartiflette==0.0.1) (1.0.0)\n",
      "Requirement already satisfied: brotli>=1.1.0 in /opt/mamba/lib/python3.10/site-packages (from py7zr<0.21.0,>=0.20.4->cartiflette==0.0.1) (1.1.0)\n",
      "Requirement already satisfied: psutil in /opt/mamba/lib/python3.10/site-packages (from py7zr<0.21.0,>=0.20.4->cartiflette==0.0.1) (5.9.7)\n",
      "Requirement already satisfied: charset-normalizer<4,>=2 in /opt/mamba/lib/python3.10/site-packages (from requests<3.0.0,>=2.28.2->cartiflette==0.0.1) (3.2.0)\n",
      "Requirement already satisfied: idna<4,>=2.5 in /opt/mamba/lib/python3.10/site-packages (from requests<3.0.0,>=2.28.2->cartiflette==0.0.1) (3.4)\n",
      "Requirement already satisfied: urllib3<3,>=1.21.1 in /opt/mamba/lib/python3.10/site-packages (from requests<3.0.0,>=2.28.2->cartiflette==0.0.1) (1.26.18)\n",
      "Requirement already satisfied: certifi>=2017.4.17 in /opt/mamba/lib/python3.10/site-packages (from requests<3.0.0,>=2.28.2->cartiflette==0.0.1) (2023.11.17)\n",
      "Requirement already satisfied: aiobotocore<3.0.0,>=2.5.4 in /opt/mamba/lib/python3.10/site-packages (from s3fs<2024.0.0,>=2023.3.0->cartiflette==0.0.1) (2.9.0)\n",
      "Requirement already satisfied: fsspec==2023.12.2 in /opt/mamba/lib/python3.10/site-packages (from s3fs<2024.0.0,>=2023.3.0->cartiflette==0.0.1) (2023.12.2)\n",
      "Requirement already satisfied: aiohttp!=4.0.0a0,!=4.0.0a1 in /opt/mamba/lib/python3.10/site-packages (from s3fs<2024.0.0,>=2023.3.0->cartiflette==0.0.1) (3.9.1)\n",
      "Requirement already satisfied: botocore<1.33.14,>=1.33.2 in /opt/mamba/lib/python3.10/site-packages (from aiobotocore<3.0.0,>=2.5.4->s3fs<2024.0.0,>=2023.3.0->cartiflette==0.0.1) (1.33.13)\n",
      "Requirement already satisfied: wrapt<2.0.0,>=1.10.10 in /opt/mamba/lib/python3.10/site-packages (from aiobotocore<3.0.0,>=2.5.4->s3fs<2024.0.0,>=2023.3.0->cartiflette==0.0.1) (1.16.0)\n",
      "Requirement already satisfied: aioitertools<1.0.0,>=0.5.1 in /opt/mamba/lib/python3.10/site-packages (from aiobotocore<3.0.0,>=2.5.4->s3fs<2024.0.0,>=2023.3.0->cartiflette==0.0.1) (0.11.0)\n",
      "Requirement already satisfied: attrs>=17.3.0 in /opt/mamba/lib/python3.10/site-packages (from aiohttp!=4.0.0a0,!=4.0.0a1->s3fs<2024.0.0,>=2023.3.0->cartiflette==0.0.1) (23.1.0)\n",
      "Requirement already satisfied: multidict<7.0,>=4.5 in /opt/mamba/lib/python3.10/site-packages (from aiohttp!=4.0.0a0,!=4.0.0a1->s3fs<2024.0.0,>=2023.3.0->cartiflette==0.0.1) (6.0.4)\n",
      "Requirement already satisfied: yarl<2.0,>=1.0 in /opt/mamba/lib/python3.10/site-packages (from aiohttp!=4.0.0a0,!=4.0.0a1->s3fs<2024.0.0,>=2023.3.0->cartiflette==0.0.1) (1.9.3)\n",
      "Requirement already satisfied: frozenlist>=1.1.1 in /opt/mamba/lib/python3.10/site-packages (from aiohttp!=4.0.0a0,!=4.0.0a1->s3fs<2024.0.0,>=2023.3.0->cartiflette==0.0.1) (1.4.1)\n",
      "Requirement already satisfied: aiosignal>=1.1.2 in /opt/mamba/lib/python3.10/site-packages (from aiohttp!=4.0.0a0,!=4.0.0a1->s3fs<2024.0.0,>=2023.3.0->cartiflette==0.0.1) (1.3.1)\n",
      "Requirement already satisfied: async-timeout<5.0,>=4.0 in /opt/mamba/lib/python3.10/site-packages (from aiohttp!=4.0.0a0,!=4.0.0a1->s3fs<2024.0.0,>=2023.3.0->cartiflette==0.0.1) (4.0.3)\n",
      "Requirement already satisfied: click~=8.0 in /opt/mamba/lib/python3.10/site-packages (from fiona>=1.8->geopandas<0.13.0,>=0.12.2->cartiflette==0.0.1) (8.1.7)\n",
      "Requirement already satisfied: click-plugins>=1.0 in /opt/mamba/lib/python3.10/site-packages (from fiona>=1.8->geopandas<0.13.0,>=0.12.2->cartiflette==0.0.1) (1.1.1)\n",
      "Requirement already satisfied: cligj>=0.5 in /opt/mamba/lib/python3.10/site-packages (from fiona>=1.8->geopandas<0.13.0,>=0.12.2->cartiflette==0.0.1) (0.7.2)\n",
      "Requirement already satisfied: munch>=2.3.2 in /opt/mamba/lib/python3.10/site-packages (from fiona>=1.8->geopandas<0.13.0,>=0.12.2->cartiflette==0.0.1) (4.0.0)\n",
      "Requirement already satisfied: tzdata>=2022.1 in /opt/mamba/lib/python3.10/site-packages (from pandas>=1.0.0->geopandas<0.13.0,>=0.12.2->cartiflette==0.0.1) (2023.3)\n",
      "Requirement already satisfied: six>=1.5 in /opt/mamba/lib/python3.10/site-packages (from python-dateutil>=2.7->matplotlib<4.0.0,>=3.7.1->cartiflette==0.0.1) (1.16.0)\n",
      "Requirement already satisfied: jmespath<2.0.0,>=0.7.1 in /opt/mamba/lib/python3.10/site-packages (from botocore<1.33.14,>=1.33.2->aiobotocore<3.0.0,>=2.5.4->s3fs<2024.0.0,>=2023.3.0->cartiflette==0.0.1) (1.0.1)\n",
      "Requirement already satisfied: mapclassify in /opt/mamba/lib/python3.10/site-packages (2.6.1)\n",
      "Requirement already satisfied: networkx>=2.7 in /opt/mamba/lib/python3.10/site-packages (from mapclassify) (3.2.1)\n",
      "Requirement already satisfied: numpy>=1.23 in /opt/mamba/lib/python3.10/site-packages (from mapclassify) (1.26.2)\n",
      "Requirement already satisfied: pandas!=1.5.0,>=1.4 in /opt/mamba/lib/python3.10/site-packages (from mapclassify) (2.1.4)\n",
      "Requirement already satisfied: scikit-learn>=1.0 in /opt/mamba/lib/python3.10/site-packages (from mapclassify) (1.3.2)\n",
      "Requirement already satisfied: scipy>=1.8 in /opt/mamba/lib/python3.10/site-packages (from mapclassify) (1.11.4)\n",
      "Requirement already satisfied: python-dateutil>=2.8.2 in /opt/mamba/lib/python3.10/site-packages (from pandas!=1.5.0,>=1.4->mapclassify) (2.8.2)\n",
      "Requirement already satisfied: pytz>=2020.1 in /opt/mamba/lib/python3.10/site-packages (from pandas!=1.5.0,>=1.4->mapclassify) (2023.3.post1)\n",
      "Requirement already satisfied: tzdata>=2022.1 in /opt/mamba/lib/python3.10/site-packages (from pandas!=1.5.0,>=1.4->mapclassify) (2023.3)\n",
      "Requirement already satisfied: joblib>=1.1.1 in /opt/mamba/lib/python3.10/site-packages (from scikit-learn>=1.0->mapclassify) (1.3.2)\n",
      "Requirement already satisfied: threadpoolctl>=2.0.0 in /opt/mamba/lib/python3.10/site-packages (from scikit-learn>=1.0->mapclassify) (3.2.0)\n",
      "Requirement already satisfied: six>=1.5 in /opt/mamba/lib/python3.10/site-packages (from python-dateutil>=2.8.2->pandas!=1.5.0,>=1.4->mapclassify) (1.16.0)\n",
      "Requirement already satisfied: folium in /opt/mamba/lib/python3.10/site-packages (0.15.1)\n",
      "Requirement already satisfied: branca>=0.6.0 in /opt/mamba/lib/python3.10/site-packages (from folium) (0.7.0)\n",
      "Requirement already satisfied: jinja2>=2.9 in /opt/mamba/lib/python3.10/site-packages (from folium) (3.1.2)\n",
      "Requirement already satisfied: numpy in /opt/mamba/lib/python3.10/site-packages (from folium) (1.26.2)\n",
      "Requirement already satisfied: requests in /opt/mamba/lib/python3.10/site-packages (from folium) (2.31.0)\n",
      "Requirement already satisfied: xyzservices in /opt/mamba/lib/python3.10/site-packages (from folium) (2023.10.1)\n",
      "Requirement already satisfied: MarkupSafe>=2.0 in /opt/mamba/lib/python3.10/site-packages (from jinja2>=2.9->folium) (2.1.3)\n",
      "Requirement already satisfied: charset-normalizer<4,>=2 in /opt/mamba/lib/python3.10/site-packages (from requests->folium) (3.2.0)\n",
      "Requirement already satisfied: idna<4,>=2.5 in /opt/mamba/lib/python3.10/site-packages (from requests->folium) (3.4)\n",
      "Requirement already satisfied: urllib3<3,>=1.21.1 in /opt/mamba/lib/python3.10/site-packages (from requests->folium) (1.26.18)\n",
      "Requirement already satisfied: certifi>=2017.4.17 in /opt/mamba/lib/python3.10/site-packages (from requests->folium) (2023.11.17)\n"
     ]
    }
   ],
   "source": [
    "!pip install pandas\n",
    "!pip install geopandas\n",
    "!pip install geoviews\n",
    "!pip install lxml\n",
    "!pip install urllib\n",
    "!pip install matplotlib\n",
    "!pip install requests py7zr geopandas openpyxl tqdm s3fs PyYAML xlrd\n",
    "!pip install git+https://github.com/inseefrlab/cartiflette@80b8a5a28371feb6df31d55bcc2617948a5f9b1a\n",
    "!pip install mapclassify\n",
    "!pip install folium\n"
   ]
  },
  {
   "cell_type": "code",
   "execution_count": 2,
   "metadata": {},
   "outputs": [
    {
     "name": "stderr",
     "output_type": "stream",
     "text": [
      "ERROR 1: PROJ: proj_create_from_database: Open of /opt/mamba/share/proj failed\n"
     ]
    },
    {
     "name": "stdout",
     "output_type": "stream",
     "text": [
      "https://minio.lab.sspcloud.fr/projet-cartiflette/diffusion/shapefiles-test1/year=2022/administrative_level=DEPARTEMENT/crs=4326/FRANCE_ENTIERE=metropole/vectorfile_format=topojson/provider=IGN/source=EXPRESS-COG-CARTO-TERRITOIRE/raw.topojson\n"
     ]
    },
    {
     "name": "stderr",
     "output_type": "stream",
     "text": [
      "Downloading: : 7.17MiB [00:00, 65.0MiB/s]\n"
     ]
    }
   ],
   "source": [
    "import importlib\n",
    "import pandas as pd\n",
    "import requests\n",
    "import geopandas as gpd\n",
    "import declarations as dec\n",
    "import matplotlib.pyplot as plt\n",
    "import mapclassify as mc\n",
    "import folium\n",
    "import os\n",
    "from os.path import isfile"
   ]
  },
  {
   "cell_type": "markdown",
   "metadata": {},
   "source": [
    "#### 1- Récupération et analyse descriptive des données de consommation annuelle d'électricité par département et par secteur d'activité"
   ]
  },
  {
   "cell_type": "markdown",
   "metadata": {},
   "source": [
    "Les données que nous récupérons dans cette partie sont disponibles en Open Data sur le site de l'Agence ORE (Opérateur des Réseaux d'Energie). Plus précisément, le jeu de données que nous utilisons est intitulé \"Consommation annuelle d'électricité et gaz par département et par secteur d'activité\". Nous ne considérons que la consommation d'électricité du secteur résidentiel. De plus, nous nous restreignons aux départements de France métropolitaine uniquement."
   ]
  },
  {
   "cell_type": "code",
   "execution_count": 3,
   "metadata": {},
   "outputs": [],
   "source": [
    "# Base de données provenant du site d'Enedis\n",
    "df_cons_département=pd.read_csv(dec.cons_département, sep=\";\")\n",
    "\n",
    "# Sélection des départements de métropole uniquement\n",
    "df_cons_département=df_cons_département.loc[~df_cons_département['Code Département'].isin(['971', '972', '973', '974', '975','976'])]"
   ]
  },
  {
   "cell_type": "code",
   "execution_count": 4,
   "metadata": {},
   "outputs": [
    {
     "data": {
      "text/plain": [
       "Index(['Opérateur', 'Année', 'Filière', 'Consommation Agriculture (MWh)',\n",
       "       'Nombre de points Agriculture',\n",
       "       'Nombre de mailles secretisées (agriculture)',\n",
       "       'Indique qualité Agriculture', 'Consommation Industrie (MWh)',\n",
       "       'Nombre de points Industrie',\n",
       "       'Nombre de mailles secretisées (industrie)', 'Indice qualité Industrie',\n",
       "       'Consommation Tertiaire  (MWh)', 'Nombre de points Tertiaire',\n",
       "       'Nombre de mailles secretisées (tertiaire)', 'Indice qualité Tertiaire',\n",
       "       'Consommation Résidentiel  (MWh)', 'Nombre de points Résidentiel',\n",
       "       'Nombre de mailles secretisées (résidentiel)',\n",
       "       'Indice qualité Résidentiel', 'Consommation Secteur Inconnu (MWh)',\n",
       "       'Nombre de points Secteur Inconnu',\n",
       "       'Nombre de mailles secretisées (secteur inconnu)',\n",
       "       'Indice qualité Non Affecté', 'Code Département', 'Libellé Département',\n",
       "       'Code Région', 'Libellé Région', 'id_filiere', 'geom',\n",
       "       'Consommation totale (MWh)'],\n",
       "      dtype='object')"
      ]
     },
     "execution_count": 4,
     "metadata": {},
     "output_type": "execute_result"
    }
   ],
   "source": [
    "df_cons_département.columns"
   ]
  },
  {
   "cell_type": "code",
   "execution_count": 5,
   "metadata": {},
   "outputs": [],
   "source": [
    "# Sélection des variables auxquelles nous nous intéressons\n",
    "variables_cons_département= ['Opérateur', 'Année', 'Filière', \n",
    "                             'Consommation Résidentiel  (MWh)', 'Nombre de points Résidentiel', \n",
    "                             'Nombre de mailles secretisées (résidentiel)','Indice qualité Résidentiel',\n",
    "                             'Code Département', 'Libellé Département','Code Région', 'Libellé Région', \n",
    "                             'id_filiere','Consommation totale (MWh)']\n",
    "liste_département=pd.unique(df_cons_département[\"Libellé Département\"])"
   ]
  },
  {
   "cell_type": "code",
   "execution_count": 6,
   "metadata": {},
   "outputs": [],
   "source": [
    "list_années=pd.unique(df_cons_département[\"Année\"])\n",
    "# Dictionnaire qui à chaque année associe le dataframe de consommation d'électricité \n",
    "# résidentielle par départements :\n",
    "dico_cons_département={} \n",
    "# Dictionnaire qui à chaque année associe le dataframe contenant uniquement : \n",
    "# consommation totale d'électricité et code département :\n",
    "dico_df_cons_tot={}\n",
    "# Dictionnaire qui à chaque année associe la valeur de la consommation totale d'électricité du secteur\n",
    "# résidentiel en France : \n",
    "dico_cons_tot={} \n",
    "for année in list_années:\n",
    "    if année not in dico_cons_département.keys():\n",
    "        df_année=dec.get_data_consumption_department(df_cons_département, année)\n",
    "        dico_cons_département[année]=dec.df_filter(df_année, variables_cons_département) # On sélectionne les variables dont on a besoin\n",
    "        df_cons_tot=dico_cons_département[année].groupby([\"Code Département\",\"Libellé Département\"])['Consommation Résidentiel  (MWh)'].sum().reset_index()\n",
    "        df_cons_tot[\"Legende\"] = [f\"{ligne['Libellé Département']} : {ligne['Consommation Résidentiel  (MWh)']} MWh\" \\\n",
    "                             for _, ligne in df_cons_tot.iterrows()]\n",
    "        dico_df_cons_tot[année]=df_cons_tot\n",
    "        dico_cons_tot[année]=df_cons_tot['Consommation Résidentiel  (MWh)'].sum()\n"
   ]
  },
  {
   "cell_type": "markdown",
   "metadata": {},
   "source": [
    "Premier aperçu de la base de données après sélection des variables d'intérêt : "
   ]
  },
  {
   "cell_type": "code",
   "execution_count": 7,
   "metadata": {},
   "outputs": [
    {
     "data": {
      "text/html": [
       "<div>\n",
       "<style scoped>\n",
       "    .dataframe tbody tr th:only-of-type {\n",
       "        vertical-align: middle;\n",
       "    }\n",
       "\n",
       "    .dataframe tbody tr th {\n",
       "        vertical-align: top;\n",
       "    }\n",
       "\n",
       "    .dataframe thead th {\n",
       "        text-align: right;\n",
       "    }\n",
       "</style>\n",
       "<table border=\"1\" class=\"dataframe\">\n",
       "  <thead>\n",
       "    <tr style=\"text-align: right;\">\n",
       "      <th></th>\n",
       "      <th>Opérateur</th>\n",
       "      <th>Année</th>\n",
       "      <th>Filière</th>\n",
       "      <th>Consommation Résidentiel  (MWh)</th>\n",
       "      <th>Nombre de points Résidentiel</th>\n",
       "      <th>Nombre de mailles secretisées (résidentiel)</th>\n",
       "      <th>Indice qualité Résidentiel</th>\n",
       "      <th>Code Département</th>\n",
       "      <th>Libellé Département</th>\n",
       "      <th>Code Région</th>\n",
       "      <th>Libellé Région</th>\n",
       "      <th>id_filiere</th>\n",
       "      <th>Consommation totale (MWh)</th>\n",
       "    </tr>\n",
       "  </thead>\n",
       "  <tbody>\n",
       "    <tr>\n",
       "      <th>1167</th>\n",
       "      <td>EdF-SEI</td>\n",
       "      <td>2018</td>\n",
       "      <td>Electricité</td>\n",
       "      <td>5.086647e+05</td>\n",
       "      <td>101593</td>\n",
       "      <td>0</td>\n",
       "      <td>0.000</td>\n",
       "      <td>2A</td>\n",
       "      <td>Corse-du-Sud</td>\n",
       "      <td>94</td>\n",
       "      <td>Corse</td>\n",
       "      <td>100</td>\n",
       "      <td>9.922387e+05</td>\n",
       "    </tr>\n",
       "    <tr>\n",
       "      <th>1170</th>\n",
       "      <td>Enedis</td>\n",
       "      <td>2018</td>\n",
       "      <td>Electricité</td>\n",
       "      <td>1.173655e+06</td>\n",
       "      <td>233222</td>\n",
       "      <td>6</td>\n",
       "      <td>0.471</td>\n",
       "      <td>02</td>\n",
       "      <td>Aisne</td>\n",
       "      <td>32</td>\n",
       "      <td>Hauts-de-France</td>\n",
       "      <td>100</td>\n",
       "      <td>2.765229e+06</td>\n",
       "    </tr>\n",
       "    <tr>\n",
       "      <th>1171</th>\n",
       "      <td>Enedis</td>\n",
       "      <td>2018</td>\n",
       "      <td>Electricité</td>\n",
       "      <td>8.839105e+05</td>\n",
       "      <td>192441</td>\n",
       "      <td>5</td>\n",
       "      <td>0.606</td>\n",
       "      <td>03</td>\n",
       "      <td>Allier</td>\n",
       "      <td>84</td>\n",
       "      <td>Auvergne-Rhône-Alpes</td>\n",
       "      <td>100</td>\n",
       "      <td>2.008387e+06</td>\n",
       "    </tr>\n",
       "    <tr>\n",
       "      <th>1172</th>\n",
       "      <td>Enedis</td>\n",
       "      <td>2018</td>\n",
       "      <td>Electricité</td>\n",
       "      <td>5.599612e+05</td>\n",
       "      <td>119101</td>\n",
       "      <td>3</td>\n",
       "      <td>0.552</td>\n",
       "      <td>04</td>\n",
       "      <td>Alpes-de-Haute-Provence</td>\n",
       "      <td>93</td>\n",
       "      <td>Provence-Alpes-Côte d'Azur</td>\n",
       "      <td>100</td>\n",
       "      <td>1.077447e+06</td>\n",
       "    </tr>\n",
       "    <tr>\n",
       "      <th>1173</th>\n",
       "      <td>Enedis</td>\n",
       "      <td>2018</td>\n",
       "      <td>Electricité</td>\n",
       "      <td>4.409074e+05</td>\n",
       "      <td>112749</td>\n",
       "      <td>2</td>\n",
       "      <td>0.484</td>\n",
       "      <td>05</td>\n",
       "      <td>Hautes-Alpes</td>\n",
       "      <td>93</td>\n",
       "      <td>Provence-Alpes-Côte d'Azur</td>\n",
       "      <td>100</td>\n",
       "      <td>9.700819e+05</td>\n",
       "    </tr>\n",
       "  </tbody>\n",
       "</table>\n",
       "</div>"
      ],
      "text/plain": [
       "     Opérateur  Année      Filière  Consommation Résidentiel  (MWh)  \\\n",
       "1167   EdF-SEI   2018  Electricité                     5.086647e+05   \n",
       "1170    Enedis   2018  Electricité                     1.173655e+06   \n",
       "1171    Enedis   2018  Electricité                     8.839105e+05   \n",
       "1172    Enedis   2018  Electricité                     5.599612e+05   \n",
       "1173    Enedis   2018  Electricité                     4.409074e+05   \n",
       "\n",
       "      Nombre de points Résidentiel  \\\n",
       "1167                        101593   \n",
       "1170                        233222   \n",
       "1171                        192441   \n",
       "1172                        119101   \n",
       "1173                        112749   \n",
       "\n",
       "      Nombre de mailles secretisées (résidentiel)  Indice qualité Résidentiel  \\\n",
       "1167                                            0                       0.000   \n",
       "1170                                            6                       0.471   \n",
       "1171                                            5                       0.606   \n",
       "1172                                            3                       0.552   \n",
       "1173                                            2                       0.484   \n",
       "\n",
       "     Code Département      Libellé Département  Code Région  \\\n",
       "1167               2A             Corse-du-Sud           94   \n",
       "1170               02                    Aisne           32   \n",
       "1171               03                   Allier           84   \n",
       "1172               04  Alpes-de-Haute-Provence           93   \n",
       "1173               05             Hautes-Alpes           93   \n",
       "\n",
       "                  Libellé Région  id_filiere  Consommation totale (MWh)  \n",
       "1167                       Corse         100               9.922387e+05  \n",
       "1170             Hauts-de-France         100               2.765229e+06  \n",
       "1171        Auvergne-Rhône-Alpes         100               2.008387e+06  \n",
       "1172  Provence-Alpes-Côte d'Azur         100               1.077447e+06  \n",
       "1173  Provence-Alpes-Côte d'Azur         100               9.700819e+05  "
      ]
     },
     "execution_count": 7,
     "metadata": {},
     "output_type": "execute_result"
    }
   ],
   "source": [
    "dico_cons_département[2018].head()"
   ]
  },
  {
   "cell_type": "code",
   "execution_count": 8,
   "metadata": {},
   "outputs": [],
   "source": [
    "# Création d'un GeoDataFrame des départements français\n",
    "departements=dec.df_filter(dec.dep, dec.var_dep)\n",
    "departements=gpd.GeoDataFrame(departements, geometry=departements['geometry'])\n",
    "departements_json=departements.to_json()"
   ]
  },
  {
   "cell_type": "code",
   "execution_count": 9,
   "metadata": {},
   "outputs": [],
   "source": [
    "quantiles=[0.2,0.4,0.6,0.8]\n",
    "quantiles_conso=dico_df_cons_tot[2018]['Consommation Résidentiel  (MWh)'].quantile(quantiles)\n",
    "\n",
    "def quantiles(quantiles, df, var):\n",
    "    '''Returns a list with the values of the wanted quantiles\n",
    "    Args: \n",
    "        quantiles (list)\n",
    "        df (DataFrame)\n",
    "        var (string)\n",
    "    Returns: a list with the values for each quantiles\n",
    "    '''\n",
    "    return df[var].quantile(quantiles)\n"
   ]
  },
  {
   "cell_type": "code",
   "execution_count": 10,
   "metadata": {},
   "outputs": [
    {
     "name": "stderr",
     "output_type": "stream",
     "text": [
      "/tmp/ipykernel_637/1381974066.py:1: UserWarning: Geometry is in a geographic CRS. Results from 'centroid' are likely incorrect. Use 'GeoSeries.to_crs()' to re-project geometries to a projected CRS before this operation.\n",
      "\n",
      "  center_latitude = departements['geometry'].centroid.y.mean()\n",
      "/tmp/ipykernel_637/1381974066.py:2: UserWarning: Geometry is in a geographic CRS. Results from 'centroid' are likely incorrect. Use 'GeoSeries.to_crs()' to re-project geometries to a projected CRS before this operation.\n",
      "\n",
      "  center_longitude = departements['geometry'].centroid.x.mean()\n"
     ]
    },
    {
     "ename": "AssertionError",
     "evalue": "The field Legende is not available in the data. Choose from: ('INSEE_DEP',).",
     "output_type": "error",
     "traceback": [
      "\u001b[0;31m---------------------------------------------------------------------------\u001b[0m",
      "\u001b[0;31mAssertionError\u001b[0m                            Traceback (most recent call last)",
      "File \u001b[0;32m/opt/mamba/lib/python3.10/site-packages/IPython/core/formatters.py:344\u001b[0m, in \u001b[0;36mBaseFormatter.__call__\u001b[0;34m(self, obj)\u001b[0m\n\u001b[1;32m    342\u001b[0m     method \u001b[38;5;241m=\u001b[39m get_real_method(obj, \u001b[38;5;28mself\u001b[39m\u001b[38;5;241m.\u001b[39mprint_method)\n\u001b[1;32m    343\u001b[0m     \u001b[38;5;28;01mif\u001b[39;00m method \u001b[38;5;129;01mis\u001b[39;00m \u001b[38;5;129;01mnot\u001b[39;00m \u001b[38;5;28;01mNone\u001b[39;00m:\n\u001b[0;32m--> 344\u001b[0m         \u001b[38;5;28;01mreturn\u001b[39;00m \u001b[43mmethod\u001b[49m\u001b[43m(\u001b[49m\u001b[43m)\u001b[49m\n\u001b[1;32m    345\u001b[0m     \u001b[38;5;28;01mreturn\u001b[39;00m \u001b[38;5;28;01mNone\u001b[39;00m\n\u001b[1;32m    346\u001b[0m \u001b[38;5;28;01melse\u001b[39;00m:\n",
      "File \u001b[0;32m/opt/mamba/lib/python3.10/site-packages/folium/folium.py:315\u001b[0m, in \u001b[0;36mMap._repr_html_\u001b[0;34m(self, **kwargs)\u001b[0m\n\u001b[1;32m    313\u001b[0m     \u001b[38;5;28mself\u001b[39m\u001b[38;5;241m.\u001b[39m_parent \u001b[38;5;241m=\u001b[39m \u001b[38;5;28;01mNone\u001b[39;00m\n\u001b[1;32m    314\u001b[0m \u001b[38;5;28;01melse\u001b[39;00m:\n\u001b[0;32m--> 315\u001b[0m     out \u001b[38;5;241m=\u001b[39m \u001b[38;5;28;43mself\u001b[39;49m\u001b[38;5;241;43m.\u001b[39;49m\u001b[43m_parent\u001b[49m\u001b[38;5;241;43m.\u001b[39;49m\u001b[43m_repr_html_\u001b[49m\u001b[43m(\u001b[49m\u001b[38;5;241;43m*\u001b[39;49m\u001b[38;5;241;43m*\u001b[39;49m\u001b[43mkwargs\u001b[49m\u001b[43m)\u001b[49m\n\u001b[1;32m    316\u001b[0m \u001b[38;5;28;01mreturn\u001b[39;00m out\n",
      "File \u001b[0;32m/opt/mamba/lib/python3.10/site-packages/branca/element.py:373\u001b[0m, in \u001b[0;36mFigure._repr_html_\u001b[0;34m(self, **kwargs)\u001b[0m\n\u001b[1;32m    371\u001b[0m \u001b[38;5;28;01mdef\u001b[39;00m \u001b[38;5;21m_repr_html_\u001b[39m(\u001b[38;5;28mself\u001b[39m, \u001b[38;5;241m*\u001b[39m\u001b[38;5;241m*\u001b[39mkwargs):\n\u001b[1;32m    372\u001b[0m \u001b[38;5;250m    \u001b[39m\u001b[38;5;124;03m\"\"\"Displays the Figure in a Jupyter notebook.\"\"\"\u001b[39;00m\n\u001b[0;32m--> 373\u001b[0m     html \u001b[38;5;241m=\u001b[39m escape(\u001b[38;5;28;43mself\u001b[39;49m\u001b[38;5;241;43m.\u001b[39;49m\u001b[43mrender\u001b[49m\u001b[43m(\u001b[49m\u001b[38;5;241;43m*\u001b[39;49m\u001b[38;5;241;43m*\u001b[39;49m\u001b[43mkwargs\u001b[49m\u001b[43m)\u001b[49m)\n\u001b[1;32m    374\u001b[0m     \u001b[38;5;28;01mif\u001b[39;00m \u001b[38;5;28mself\u001b[39m\u001b[38;5;241m.\u001b[39mheight \u001b[38;5;129;01mis\u001b[39;00m \u001b[38;5;28;01mNone\u001b[39;00m:\n\u001b[1;32m    375\u001b[0m         iframe \u001b[38;5;241m=\u001b[39m (\n\u001b[1;32m    376\u001b[0m             \u001b[38;5;124m'\u001b[39m\u001b[38;5;124m<div style=\u001b[39m\u001b[38;5;124m\"\u001b[39m\u001b[38;5;124mwidth:\u001b[39m\u001b[38;5;132;01m{width}\u001b[39;00m\u001b[38;5;124m;\u001b[39m\u001b[38;5;124m\"\u001b[39m\u001b[38;5;124m>\u001b[39m\u001b[38;5;124m'\u001b[39m\n\u001b[1;32m    377\u001b[0m             \u001b[38;5;124m'\u001b[39m\u001b[38;5;124m<div style=\u001b[39m\u001b[38;5;124m\"\u001b[39m\u001b[38;5;124mposition:relative;width:100\u001b[39m\u001b[38;5;124m%\u001b[39m\u001b[38;5;124m;height:0;padding-bottom:\u001b[39m\u001b[38;5;132;01m{ratio}\u001b[39;00m\u001b[38;5;124m;\u001b[39m\u001b[38;5;124m\"\u001b[39m\u001b[38;5;124m>\u001b[39m\u001b[38;5;124m'\u001b[39m  \u001b[38;5;66;03m# noqa\u001b[39;00m\n\u001b[0;32m   (...)\u001b[0m\n\u001b[1;32m    383\u001b[0m             \u001b[38;5;124m\"\u001b[39m\u001b[38;5;124m</div></div>\u001b[39m\u001b[38;5;124m\"\u001b[39m\n\u001b[1;32m    384\u001b[0m         )\u001b[38;5;241m.\u001b[39mformat(html\u001b[38;5;241m=\u001b[39mhtml, width\u001b[38;5;241m=\u001b[39m\u001b[38;5;28mself\u001b[39m\u001b[38;5;241m.\u001b[39mwidth, ratio\u001b[38;5;241m=\u001b[39m\u001b[38;5;28mself\u001b[39m\u001b[38;5;241m.\u001b[39mratio)\n",
      "File \u001b[0;32m/opt/mamba/lib/python3.10/site-packages/branca/element.py:368\u001b[0m, in \u001b[0;36mFigure.render\u001b[0;34m(self, **kwargs)\u001b[0m\n\u001b[1;32m    366\u001b[0m \u001b[38;5;250m\u001b[39m\u001b[38;5;124;03m\"\"\"Renders the HTML representation of the element.\"\"\"\u001b[39;00m\n\u001b[1;32m    367\u001b[0m \u001b[38;5;28;01mfor\u001b[39;00m name, child \u001b[38;5;129;01min\u001b[39;00m \u001b[38;5;28mself\u001b[39m\u001b[38;5;241m.\u001b[39m_children\u001b[38;5;241m.\u001b[39mitems():\n\u001b[0;32m--> 368\u001b[0m     \u001b[43mchild\u001b[49m\u001b[38;5;241;43m.\u001b[39;49m\u001b[43mrender\u001b[49m\u001b[43m(\u001b[49m\u001b[38;5;241;43m*\u001b[39;49m\u001b[38;5;241;43m*\u001b[39;49m\u001b[43mkwargs\u001b[49m\u001b[43m)\u001b[49m\n\u001b[1;32m    369\u001b[0m \u001b[38;5;28;01mreturn\u001b[39;00m \u001b[38;5;28mself\u001b[39m\u001b[38;5;241m.\u001b[39m_template\u001b[38;5;241m.\u001b[39mrender(this\u001b[38;5;241m=\u001b[39m\u001b[38;5;28mself\u001b[39m, kwargs\u001b[38;5;241m=\u001b[39mkwargs)\n",
      "File \u001b[0;32m/opt/mamba/lib/python3.10/site-packages/folium/folium.py:397\u001b[0m, in \u001b[0;36mMap.render\u001b[0;34m(self, **kwargs)\u001b[0m\n\u001b[1;32m    370\u001b[0m figure\u001b[38;5;241m.\u001b[39mheader\u001b[38;5;241m.\u001b[39madd_child(\n\u001b[1;32m    371\u001b[0m     Element(\n\u001b[1;32m    372\u001b[0m         \u001b[38;5;124m\"\u001b[39m\u001b[38;5;124m<style>html, body \u001b[39m\u001b[38;5;124m{\u001b[39m\u001b[38;5;124m\"\u001b[39m\n\u001b[0;32m   (...)\u001b[0m\n\u001b[1;32m    380\u001b[0m     name\u001b[38;5;241m=\u001b[39m\u001b[38;5;124m\"\u001b[39m\u001b[38;5;124mcss_style\u001b[39m\u001b[38;5;124m\"\u001b[39m,\n\u001b[1;32m    381\u001b[0m )\n\u001b[1;32m    383\u001b[0m figure\u001b[38;5;241m.\u001b[39mheader\u001b[38;5;241m.\u001b[39madd_child(\n\u001b[1;32m    384\u001b[0m     Element(\n\u001b[1;32m    385\u001b[0m         \u001b[38;5;124m\"\u001b[39m\u001b[38;5;124m<style>#map \u001b[39m\u001b[38;5;124m{\u001b[39m\u001b[38;5;124m\"\u001b[39m\n\u001b[0;32m   (...)\u001b[0m\n\u001b[1;32m    394\u001b[0m     name\u001b[38;5;241m=\u001b[39m\u001b[38;5;124m\"\u001b[39m\u001b[38;5;124mmap_style\u001b[39m\u001b[38;5;124m\"\u001b[39m,\n\u001b[1;32m    395\u001b[0m )\n\u001b[0;32m--> 397\u001b[0m \u001b[38;5;28;43msuper\u001b[39;49m\u001b[43m(\u001b[49m\u001b[43m)\u001b[49m\u001b[38;5;241;43m.\u001b[39;49m\u001b[43mrender\u001b[49m\u001b[43m(\u001b[49m\u001b[38;5;241;43m*\u001b[39;49m\u001b[38;5;241;43m*\u001b[39;49m\u001b[43mkwargs\u001b[49m\u001b[43m)\u001b[49m\n",
      "File \u001b[0;32m/opt/mamba/lib/python3.10/site-packages/folium/elements.py:25\u001b[0m, in \u001b[0;36mJSCSSMixin.render\u001b[0;34m(self, **kwargs)\u001b[0m\n\u001b[1;32m     22\u001b[0m \u001b[38;5;28;01mfor\u001b[39;00m name, url \u001b[38;5;129;01min\u001b[39;00m \u001b[38;5;28mself\u001b[39m\u001b[38;5;241m.\u001b[39mdefault_css:\n\u001b[1;32m     23\u001b[0m     figure\u001b[38;5;241m.\u001b[39mheader\u001b[38;5;241m.\u001b[39madd_child(CssLink(url), name\u001b[38;5;241m=\u001b[39mname)\n\u001b[0;32m---> 25\u001b[0m \u001b[38;5;28;43msuper\u001b[39;49m\u001b[43m(\u001b[49m\u001b[43m)\u001b[49m\u001b[38;5;241;43m.\u001b[39;49m\u001b[43mrender\u001b[49m\u001b[43m(\u001b[49m\u001b[38;5;241;43m*\u001b[39;49m\u001b[38;5;241;43m*\u001b[39;49m\u001b[43mkwargs\u001b[49m\u001b[43m)\u001b[49m\n",
      "File \u001b[0;32m/opt/mamba/lib/python3.10/site-packages/branca/element.py:685\u001b[0m, in \u001b[0;36mMacroElement.render\u001b[0;34m(self, **kwargs)\u001b[0m\n\u001b[1;32m    682\u001b[0m     figure\u001b[38;5;241m.\u001b[39mscript\u001b[38;5;241m.\u001b[39madd_child(Element(script(\u001b[38;5;28mself\u001b[39m, kwargs)), name\u001b[38;5;241m=\u001b[39m\u001b[38;5;28mself\u001b[39m\u001b[38;5;241m.\u001b[39mget_name())\n\u001b[1;32m    684\u001b[0m \u001b[38;5;28;01mfor\u001b[39;00m name, element \u001b[38;5;129;01min\u001b[39;00m \u001b[38;5;28mself\u001b[39m\u001b[38;5;241m.\u001b[39m_children\u001b[38;5;241m.\u001b[39mitems():\n\u001b[0;32m--> 685\u001b[0m     \u001b[43melement\u001b[49m\u001b[38;5;241;43m.\u001b[39;49m\u001b[43mrender\u001b[49m\u001b[43m(\u001b[49m\u001b[38;5;241;43m*\u001b[39;49m\u001b[38;5;241;43m*\u001b[39;49m\u001b[43mkwargs\u001b[49m\u001b[43m)\u001b[49m\n",
      "File \u001b[0;32m/opt/mamba/lib/python3.10/site-packages/folium/features.py:1637\u001b[0m, in \u001b[0;36mChoropleth.render\u001b[0;34m(self, **kwargs)\u001b[0m\n\u001b[1;32m   1632\u001b[0m     \u001b[38;5;28;01massert\u001b[39;00m \u001b[38;5;28misinstance\u001b[39m(\n\u001b[1;32m   1633\u001b[0m         \u001b[38;5;28mself\u001b[39m\u001b[38;5;241m.\u001b[39m_parent, Map\n\u001b[1;32m   1634\u001b[0m     ), \u001b[38;5;124m\"\u001b[39m\u001b[38;5;124mChoropleth must be added to a Map object.\u001b[39m\u001b[38;5;124m\"\u001b[39m\n\u001b[1;32m   1635\u001b[0m     \u001b[38;5;28mself\u001b[39m\u001b[38;5;241m.\u001b[39mcolor_scale\u001b[38;5;241m.\u001b[39m_parent \u001b[38;5;241m=\u001b[39m \u001b[38;5;28mself\u001b[39m\u001b[38;5;241m.\u001b[39m_parent\n\u001b[0;32m-> 1637\u001b[0m \u001b[38;5;28;43msuper\u001b[39;49m\u001b[43m(\u001b[49m\u001b[43m)\u001b[49m\u001b[38;5;241;43m.\u001b[39;49m\u001b[43mrender\u001b[49m\u001b[43m(\u001b[49m\u001b[38;5;241;43m*\u001b[39;49m\u001b[38;5;241;43m*\u001b[39;49m\u001b[43mkwargs\u001b[49m\u001b[43m)\u001b[49m\n",
      "File \u001b[0;32m/opt/mamba/lib/python3.10/site-packages/folium/map.py:62\u001b[0m, in \u001b[0;36mLayer.render\u001b[0;34m(self, **kwargs)\u001b[0m\n\u001b[1;32m     54\u001b[0m \u001b[38;5;28;01mif\u001b[39;00m \u001b[38;5;28mself\u001b[39m\u001b[38;5;241m.\u001b[39mshow:\n\u001b[1;32m     55\u001b[0m     \u001b[38;5;28mself\u001b[39m\u001b[38;5;241m.\u001b[39madd_child(\n\u001b[1;32m     56\u001b[0m         ElementAddToElement(\n\u001b[1;32m     57\u001b[0m             element_name\u001b[38;5;241m=\u001b[39m\u001b[38;5;28mself\u001b[39m\u001b[38;5;241m.\u001b[39mget_name(),\n\u001b[0;32m   (...)\u001b[0m\n\u001b[1;32m     60\u001b[0m         name\u001b[38;5;241m=\u001b[39m\u001b[38;5;28mself\u001b[39m\u001b[38;5;241m.\u001b[39mget_name() \u001b[38;5;241m+\u001b[39m \u001b[38;5;124m\"\u001b[39m\u001b[38;5;124m_add\u001b[39m\u001b[38;5;124m\"\u001b[39m,\n\u001b[1;32m     61\u001b[0m     )\n\u001b[0;32m---> 62\u001b[0m \u001b[38;5;28;43msuper\u001b[39;49m\u001b[43m(\u001b[49m\u001b[43m)\u001b[49m\u001b[38;5;241;43m.\u001b[39;49m\u001b[43mrender\u001b[49m\u001b[43m(\u001b[49m\u001b[38;5;241;43m*\u001b[39;49m\u001b[38;5;241;43m*\u001b[39;49m\u001b[43mkwargs\u001b[49m\u001b[43m)\u001b[49m\n",
      "File \u001b[0;32m/opt/mamba/lib/python3.10/site-packages/branca/element.py:685\u001b[0m, in \u001b[0;36mMacroElement.render\u001b[0;34m(self, **kwargs)\u001b[0m\n\u001b[1;32m    682\u001b[0m     figure\u001b[38;5;241m.\u001b[39mscript\u001b[38;5;241m.\u001b[39madd_child(Element(script(\u001b[38;5;28mself\u001b[39m, kwargs)), name\u001b[38;5;241m=\u001b[39m\u001b[38;5;28mself\u001b[39m\u001b[38;5;241m.\u001b[39mget_name())\n\u001b[1;32m    684\u001b[0m \u001b[38;5;28;01mfor\u001b[39;00m name, element \u001b[38;5;129;01min\u001b[39;00m \u001b[38;5;28mself\u001b[39m\u001b[38;5;241m.\u001b[39m_children\u001b[38;5;241m.\u001b[39mitems():\n\u001b[0;32m--> 685\u001b[0m     \u001b[43melement\u001b[49m\u001b[38;5;241;43m.\u001b[39;49m\u001b[43mrender\u001b[49m\u001b[43m(\u001b[49m\u001b[38;5;241;43m*\u001b[39;49m\u001b[38;5;241;43m*\u001b[39;49m\u001b[43mkwargs\u001b[49m\u001b[43m)\u001b[49m\n",
      "File \u001b[0;32m/opt/mamba/lib/python3.10/site-packages/folium/features.py:803\u001b[0m, in \u001b[0;36mGeoJson.render\u001b[0;34m(self, **kwargs)\u001b[0m\n\u001b[1;32m    801\u001b[0m     \u001b[38;5;28;01mif\u001b[39;00m \u001b[38;5;28mself\u001b[39m\u001b[38;5;241m.\u001b[39mhighlight:\n\u001b[1;32m    802\u001b[0m         \u001b[38;5;28mself\u001b[39m\u001b[38;5;241m.\u001b[39mhighlight_map \u001b[38;5;241m=\u001b[39m mapper\u001b[38;5;241m.\u001b[39mget_highlight_map(\u001b[38;5;28mself\u001b[39m\u001b[38;5;241m.\u001b[39mhighlight_function)\n\u001b[0;32m--> 803\u001b[0m \u001b[38;5;28;43msuper\u001b[39;49m\u001b[43m(\u001b[49m\u001b[43m)\u001b[49m\u001b[38;5;241;43m.\u001b[39;49m\u001b[43mrender\u001b[49m\u001b[43m(\u001b[49m\u001b[43m)\u001b[49m\n",
      "File \u001b[0;32m/opt/mamba/lib/python3.10/site-packages/folium/map.py:62\u001b[0m, in \u001b[0;36mLayer.render\u001b[0;34m(self, **kwargs)\u001b[0m\n\u001b[1;32m     54\u001b[0m \u001b[38;5;28;01mif\u001b[39;00m \u001b[38;5;28mself\u001b[39m\u001b[38;5;241m.\u001b[39mshow:\n\u001b[1;32m     55\u001b[0m     \u001b[38;5;28mself\u001b[39m\u001b[38;5;241m.\u001b[39madd_child(\n\u001b[1;32m     56\u001b[0m         ElementAddToElement(\n\u001b[1;32m     57\u001b[0m             element_name\u001b[38;5;241m=\u001b[39m\u001b[38;5;28mself\u001b[39m\u001b[38;5;241m.\u001b[39mget_name(),\n\u001b[0;32m   (...)\u001b[0m\n\u001b[1;32m     60\u001b[0m         name\u001b[38;5;241m=\u001b[39m\u001b[38;5;28mself\u001b[39m\u001b[38;5;241m.\u001b[39mget_name() \u001b[38;5;241m+\u001b[39m \u001b[38;5;124m\"\u001b[39m\u001b[38;5;124m_add\u001b[39m\u001b[38;5;124m\"\u001b[39m,\n\u001b[1;32m     61\u001b[0m     )\n\u001b[0;32m---> 62\u001b[0m \u001b[38;5;28;43msuper\u001b[39;49m\u001b[43m(\u001b[49m\u001b[43m)\u001b[49m\u001b[38;5;241;43m.\u001b[39;49m\u001b[43mrender\u001b[49m\u001b[43m(\u001b[49m\u001b[38;5;241;43m*\u001b[39;49m\u001b[38;5;241;43m*\u001b[39;49m\u001b[43mkwargs\u001b[49m\u001b[43m)\u001b[49m\n",
      "File \u001b[0;32m/opt/mamba/lib/python3.10/site-packages/branca/element.py:685\u001b[0m, in \u001b[0;36mMacroElement.render\u001b[0;34m(self, **kwargs)\u001b[0m\n\u001b[1;32m    682\u001b[0m     figure\u001b[38;5;241m.\u001b[39mscript\u001b[38;5;241m.\u001b[39madd_child(Element(script(\u001b[38;5;28mself\u001b[39m, kwargs)), name\u001b[38;5;241m=\u001b[39m\u001b[38;5;28mself\u001b[39m\u001b[38;5;241m.\u001b[39mget_name())\n\u001b[1;32m    684\u001b[0m \u001b[38;5;28;01mfor\u001b[39;00m name, element \u001b[38;5;129;01min\u001b[39;00m \u001b[38;5;28mself\u001b[39m\u001b[38;5;241m.\u001b[39m_children\u001b[38;5;241m.\u001b[39mitems():\n\u001b[0;32m--> 685\u001b[0m     \u001b[43melement\u001b[49m\u001b[38;5;241;43m.\u001b[39;49m\u001b[43mrender\u001b[49m\u001b[43m(\u001b[49m\u001b[38;5;241;43m*\u001b[39;49m\u001b[38;5;241;43m*\u001b[39;49m\u001b[43mkwargs\u001b[49m\u001b[43m)\u001b[49m\n",
      "File \u001b[0;32m/opt/mamba/lib/python3.10/site-packages/folium/features.py:1156\u001b[0m, in \u001b[0;36mGeoJsonDetail.render\u001b[0;34m(self, **kwargs)\u001b[0m\n\u001b[1;32m   1153\u001b[0m keys \u001b[38;5;241m=\u001b[39m \u001b[38;5;28mtuple\u001b[39m(x \u001b[38;5;28;01mfor\u001b[39;00m x \u001b[38;5;129;01min\u001b[39;00m keys \u001b[38;5;28;01mif\u001b[39;00m x \u001b[38;5;129;01mnot\u001b[39;00m \u001b[38;5;129;01min\u001b[39;00m (\u001b[38;5;124m\"\u001b[39m\u001b[38;5;124mstyle\u001b[39m\u001b[38;5;124m\"\u001b[39m, \u001b[38;5;124m\"\u001b[39m\u001b[38;5;124mhighlight\u001b[39m\u001b[38;5;124m\"\u001b[39m))\n\u001b[1;32m   1154\u001b[0m \u001b[38;5;28;01mfor\u001b[39;00m value \u001b[38;5;129;01min\u001b[39;00m \u001b[38;5;28mself\u001b[39m\u001b[38;5;241m.\u001b[39mfields:\n\u001b[1;32m   1155\u001b[0m     \u001b[38;5;28;01massert\u001b[39;00m (\n\u001b[0;32m-> 1156\u001b[0m         value \u001b[38;5;129;01min\u001b[39;00m keys\n\u001b[1;32m   1157\u001b[0m     ), \u001b[38;5;124mf\u001b[39m\u001b[38;5;124m\"\u001b[39m\u001b[38;5;124mThe field \u001b[39m\u001b[38;5;132;01m{\u001b[39;00mvalue\u001b[38;5;132;01m}\u001b[39;00m\u001b[38;5;124m is not available in the data. Choose from: \u001b[39m\u001b[38;5;132;01m{\u001b[39;00mkeys\u001b[38;5;132;01m}\u001b[39;00m\u001b[38;5;124m.\u001b[39m\u001b[38;5;124m\"\u001b[39m\n\u001b[1;32m   1158\u001b[0m figure\u001b[38;5;241m.\u001b[39mheader\u001b[38;5;241m.\u001b[39madd_child(\n\u001b[1;32m   1159\u001b[0m     Element(\n\u001b[1;32m   1160\u001b[0m         Template(\n\u001b[0;32m   (...)\u001b[0m\n\u001b[1;32m   1179\u001b[0m     name\u001b[38;5;241m=\u001b[39m\u001b[38;5;28mself\u001b[39m\u001b[38;5;241m.\u001b[39mget_name() \u001b[38;5;241m+\u001b[39m \u001b[38;5;124m\"\u001b[39m\u001b[38;5;124mtablestyle\u001b[39m\u001b[38;5;124m\"\u001b[39m,\n\u001b[1;32m   1180\u001b[0m )\n\u001b[1;32m   1182\u001b[0m \u001b[38;5;28msuper\u001b[39m()\u001b[38;5;241m.\u001b[39mrender()\n",
      "\u001b[0;31mAssertionError\u001b[0m: The field Legende is not available in the data. Choose from: ('INSEE_DEP',)."
     ]
    },
    {
     "data": {
      "text/plain": [
       "<folium.folium.Map at 0x7f0a928ee950>"
      ]
     },
     "metadata": {},
     "output_type": "display_data"
    }
   ],
   "source": [
    "center_latitude = departements['geometry'].centroid.y.mean()\n",
    "center_longitude = departements['geometry'].centroid.x.mean()\n",
    "\n",
    "m = folium.Map(location=[center_latitude, center_longitude], zoom_start=5, tiles='cartodbpositron')\n",
    "\n",
    "choropleth=folium.Choropleth(geo_data=departements_json,\n",
    "    data=dico_df_cons_tot[2018],\n",
    "    columns=['Code Département','Consommation Résidentiel  (MWh)'],\n",
    "    fill_color=\"OrRd\",  # Colormap\n",
    "    key_on='feature.properties.INSEE_DEP',\n",
    "    fill_opacity=0.7,\n",
    "    legend_name='Consommation Résidentiel (MWh)',  # Nom de la légende\n",
    "    highlight=True,\n",
    "    nan_fill_color='blue',  # Couleur pour les valeurs manquantes\n",
    ")\n",
    "choropleth.geojson.add_child(\n",
    "    folium.features.GeoJsonTooltip(['Legende'],labels=False))\n",
    "\n",
    "choropleth.add_to(m)\n",
    "display(m)"
   ]
  },
  {
   "cell_type": "markdown",
   "metadata": {},
   "source": [
    "On représente à présent l'évolution de la consommation d'énergie du résidentiel entre 2011 et 2021"
   ]
  },
  {
   "cell_type": "code",
   "execution_count": 11,
   "metadata": {},
   "outputs": [
    {
     "data": {
      "text/plain": [
       "Text(0.5, 1.0, \"Évolution de la consommation d'électricité (en MWh) du secteur résidentiel entre 2011 et 2021\")"
      ]
     },
     "execution_count": 11,
     "metadata": {},
     "output_type": "execute_result"
    },
    {
     "data": {
      "image/png": "[encoded data removed]",
      "text/plain": [
       "<Figure size 640x480 with 1 Axes>"
      ]
     },
     "metadata": {},
     "output_type": "display_data"
    }
   ],
   "source": [
    "import matplotlib\n",
    "matplotlib.rcParams['font.family'] = 'sans serif'\n",
    "\n",
    "#On importe la librairie matplotlib pour tracer les graphiques\n",
    "import matplotlib.pyplot as plt\n",
    "fig, ax = plt.subplots(sharex=True, facecolor='lightcyan')\n",
    "#On utilise \"facecolor\" pour donner une couleur au fond du graphique\n",
    "\n",
    "#Notre abscisse\n",
    "conso_par_an=list(dico_cons_tot.values())\n",
    "\n",
    "#On trace le graphique\n",
    "ax.plot(list_années, conso_par_an, \"-o\",color='blue')\n",
    "#Remarque : on peut aussi remplacer \"fill_between\" par \"plot\" pour tracer sans remplir\n",
    "plt.xticks(list_années)\n",
    "\n",
    "ax.label_outer()\n",
    "#On donne un nom à l'axe des ordonnées\n",
    "ax.set_xlabel('Année')\n",
    "ax.set_ylabel(\"Consommation d'électricité totale (en MWh)\")\n",
    "#On affiche la grille\n",
    "ax.grid(True)\n",
    "ax.set_title(\"Évolution de la consommation d'électricité (en MWh) du secteur résidentiel entre 2011 et 2021\")\n",
    "\n"
   ]
  },
  {
   "cell_type": "markdown",
   "metadata": {},
   "source": [
    "### Récupération des données de températures annuelles à l'échelle des départements"
   ]
  },
  {
   "cell_type": "markdown",
   "metadata": {},
   "source": [
    "Il s'agit à présent de récupérer les températures moyennes annuelles par département pour au moins l'une des années pour lesquelles nous avons des données de consommation. Pour cela nous avons trouvé le jeu de données disponible en Open Data sur le site de l'ODRE, donnant les températures quotidiennes départementales depuis janvier 2018.\\\n",
    "La manière la plus efficace d'obtenir des températures moyennes annuelles (et minimales et maximales puisqu'elles sont aussi à disposition) par département est d'utiliser l'API en effectuant directement la requête adaptée. Dans le cas des températures moyennes, on utilise `group_by(code_insee_departement)` avec `select(avg(tmoy))`."
   ]
  },
  {
   "cell_type": "code",
   "execution_count": 12,
   "metadata": {},
   "outputs": [
    {
     "ename": "NameError",
     "evalue": "name 'requests' is not defined",
     "output_type": "error",
     "traceback": [
      "\u001b[0;31m---------------------------------------------------------------------------\u001b[0m",
      "\u001b[0;31mNameError\u001b[0m                                 Traceback (most recent call last)",
      "Cell \u001b[0;32mIn[12], line 6\u001b[0m\n\u001b[1;32m      4\u001b[0m \u001b[38;5;28;01mfor\u001b[39;00m année \u001b[38;5;129;01min\u001b[39;00m [\u001b[38;5;241m2018\u001b[39m,\u001b[38;5;241m2019\u001b[39m,\u001b[38;5;241m2020\u001b[39m,\u001b[38;5;241m2021\u001b[39m]:\n\u001b[1;32m      5\u001b[0m     \u001b[38;5;28;01mif\u001b[39;00m année \u001b[38;5;129;01mnot\u001b[39;00m \u001b[38;5;129;01min\u001b[39;00m dico_df_temp\u001b[38;5;241m.\u001b[39mkeys():\n\u001b[0;32m----> 6\u001b[0m         df_tmoy\u001b[38;5;241m=\u001b[39m\u001b[43mdec\u001b[49m\u001b[38;5;241;43m.\u001b[39;49m\u001b[43mget_data_from_api\u001b[49m\u001b[43m(\u001b[49m\u001b[43mdec\u001b[49m\u001b[38;5;241;43m.\u001b[39;49m\u001b[43mapi_root_temp\u001b[49m\u001b[43m,\u001b[49m\u001b[43m \u001b[49m\u001b[43mdec\u001b[49m\u001b[38;5;241;43m.\u001b[39;49m\u001b[43mapi_req_tmoy\u001b[49m\u001b[43m,\u001b[49m\u001b[43m \u001b[49m\u001b[43mannée\u001b[49m\u001b[43m)\u001b[49m\n\u001b[1;32m      7\u001b[0m         df_tmin\u001b[38;5;241m=\u001b[39mdec\u001b[38;5;241m.\u001b[39mget_data_from_api(dec\u001b[38;5;241m.\u001b[39mapi_root_temp, dec\u001b[38;5;241m.\u001b[39mapi_req_tmin, année)\n\u001b[1;32m      8\u001b[0m         df_tmax\u001b[38;5;241m=\u001b[39mdec\u001b[38;5;241m.\u001b[39mget_data_from_api(dec\u001b[38;5;241m.\u001b[39mapi_root_temp, dec\u001b[38;5;241m.\u001b[39mapi_req_tmax, année)\n",
      "File \u001b[0;32m~/work/Projet_Python/declarations.py:131\u001b[0m, in \u001b[0;36mget_data_from_api\u001b[0;34m(api_root, api_req, année)\u001b[0m\n\u001b[1;32m    122\u001b[0m \u001b[38;5;250m\u001b[39m\u001b[38;5;124;03m''' Récupère des données à partir d'une API et d'une requête précise.\u001b[39;00m\n\u001b[1;32m    123\u001b[0m \u001b[38;5;124;03mEntrées: \u001b[39;00m\n\u001b[1;32m    124\u001b[0m \u001b[38;5;124;03m    api_root (string) : url \"racine\" de l'API \u001b[39;00m\n\u001b[0;32m   (...)\u001b[0m\n\u001b[1;32m    128\u001b[0m \u001b[38;5;124;03m    df (DataFrame) \u001b[39;00m\n\u001b[1;32m    129\u001b[0m \u001b[38;5;124;03m'''\u001b[39;00m\n\u001b[1;32m    130\u001b[0m api_url\u001b[38;5;241m=\u001b[39m\u001b[38;5;124mf\u001b[39m\u001b[38;5;124m\"\u001b[39m\u001b[38;5;132;01m{\u001b[39;00mapi_root\u001b[38;5;132;01m}\u001b[39;00m\u001b[38;5;124m\"\u001b[39m\u001b[38;5;241m+\u001b[39m\u001b[38;5;124mf\u001b[39m\u001b[38;5;124m\"\u001b[39m\u001b[38;5;132;01m{\u001b[39;00mapi_req\u001b[38;5;132;01m}\u001b[39;00m\u001b[38;5;124m\"\u001b[39m\u001b[38;5;241m+\u001b[39m\u001b[38;5;124m\"\u001b[39m\u001b[38;5;124m&refine=date_obs\u001b[39m\u001b[38;5;124m%\u001b[39m\u001b[38;5;124m3A\u001b[39m\u001b[38;5;124m%\u001b[39m\u001b[38;5;124m22\u001b[39m\u001b[38;5;124m\"\u001b[39m\u001b[38;5;241m+\u001b[39m\u001b[38;5;124mf\u001b[39m\u001b[38;5;124m\"\u001b[39m\u001b[38;5;132;01m{\u001b[39;00mannée\u001b[38;5;132;01m}\u001b[39;00m\u001b[38;5;124m%22\u001b[39m\u001b[38;5;124m\"\u001b[39m\n\u001b[0;32m--> 131\u001b[0m req\u001b[38;5;241m=\u001b[39m\u001b[43mrequests\u001b[49m\u001b[38;5;241m.\u001b[39mget(api_url)\n\u001b[1;32m    132\u001b[0m wb\u001b[38;5;241m=\u001b[39mreq\u001b[38;5;241m.\u001b[39mjson()\n\u001b[1;32m    133\u001b[0m df\u001b[38;5;241m=\u001b[39mpd\u001b[38;5;241m.\u001b[39mjson_normalize(wb[\u001b[38;5;124m\"\u001b[39m\u001b[38;5;124mresults\u001b[39m\u001b[38;5;124m\"\u001b[39m])\n",
      "\u001b[0;31mNameError\u001b[0m: name 'requests' is not defined"
     ]
    }
   ],
   "source": [
    "# Création d'un dictionnaire qui à chaque année associe un dataframe contenant la température moyenne,\n",
    "# la température minimale et la température maximale enregistrées par département\n",
    "dico_df_temp={}\n",
    "for année in [2018,2019,2020,2021]:\n",
    "    if année not in dico_df_temp.keys():\n",
    "        df_tmoy=dec.get_data_from_api(dec.api_root_temp, dec.api_req_tmoy, année)\n",
    "        df_tmin=dec.get_data_from_api(dec.api_root_temp, dec.api_req_tmin, année)\n",
    "        df_tmax=dec.get_data_from_api(dec.api_root_temp, dec.api_req_tmax, année)\n",
    "        res=df_tmax.merge(df_tmin, on='code_insee_departement',how='left')\n",
    "        df_temp=df_tmoy.merge(res, on='code_insee_departement', how='left')\n",
    "        df_temp.rename(columns={'avg(tmoy)':'tmoy', 'max(tmax)':'tmax', 'min(tmin)':'tmin'}, inplace=True)\n",
    "        dico_df_temp[année]=df_temp"
   ]
  },
  {
   "cell_type": "code",
   "execution_count": 13,
   "metadata": {},
   "outputs": [
    {
     "ename": "KeyError",
     "evalue": "2018",
     "output_type": "error",
     "traceback": [
      "\u001b[0;31m---------------------------------------------------------------------------\u001b[0m",
      "\u001b[0;31mKeyError\u001b[0m                                  Traceback (most recent call last)",
      "Cell \u001b[0;32mIn[13], line 5\u001b[0m\n\u001b[1;32m      1\u001b[0m \u001b[38;5;66;03m# Carte des températures moyennes\u001b[39;00m\n\u001b[1;32m      2\u001b[0m m_temp \u001b[38;5;241m=\u001b[39m folium\u001b[38;5;241m.\u001b[39mMap(location\u001b[38;5;241m=\u001b[39m[center_latitude, center_longitude], zoom_start\u001b[38;5;241m=\u001b[39m\u001b[38;5;241m5\u001b[39m, tiles\u001b[38;5;241m=\u001b[39m\u001b[38;5;124m'\u001b[39m\u001b[38;5;124mcartodbpositron\u001b[39m\u001b[38;5;124m'\u001b[39m)\n\u001b[1;32m      4\u001b[0m choropleth_temp\u001b[38;5;241m=\u001b[39mfolium\u001b[38;5;241m.\u001b[39mChoropleth(geo_data\u001b[38;5;241m=\u001b[39mdepartements_json,\n\u001b[0;32m----> 5\u001b[0m     data\u001b[38;5;241m=\u001b[39m\u001b[43mdico_df_temp\u001b[49m\u001b[43m[\u001b[49m\u001b[38;5;241;43m2018\u001b[39;49m\u001b[43m]\u001b[49m,\n\u001b[1;32m      6\u001b[0m     columns\u001b[38;5;241m=\u001b[39m[\u001b[38;5;124m'\u001b[39m\u001b[38;5;124mcode_insee_departement\u001b[39m\u001b[38;5;124m'\u001b[39m,\u001b[38;5;124m'\u001b[39m\u001b[38;5;124mtmoy\u001b[39m\u001b[38;5;124m'\u001b[39m],\n\u001b[1;32m      7\u001b[0m     fill_color\u001b[38;5;241m=\u001b[39m\u001b[38;5;124m\"\u001b[39m\u001b[38;5;124mOrRd\u001b[39m\u001b[38;5;124m\"\u001b[39m,  \u001b[38;5;66;03m# Colormap\u001b[39;00m\n\u001b[1;32m      8\u001b[0m     key_on\u001b[38;5;241m=\u001b[39m\u001b[38;5;124m'\u001b[39m\u001b[38;5;124mfeature.properties.INSEE_DEP\u001b[39m\u001b[38;5;124m'\u001b[39m,\n\u001b[1;32m      9\u001b[0m     fill_opacity\u001b[38;5;241m=\u001b[39m\u001b[38;5;241m0.7\u001b[39m,\n\u001b[1;32m     10\u001b[0m     legend_name\u001b[38;5;241m=\u001b[39m\u001b[38;5;124m'\u001b[39m\u001b[38;5;124mTempérature moyenne (°C)\u001b[39m\u001b[38;5;124m'\u001b[39m,  \u001b[38;5;66;03m# Nom de la légende\u001b[39;00m\n\u001b[1;32m     11\u001b[0m     highlight\u001b[38;5;241m=\u001b[39m\u001b[38;5;28;01mTrue\u001b[39;00m,\n\u001b[1;32m     12\u001b[0m     nan_fill_color\u001b[38;5;241m=\u001b[39m\u001b[38;5;124m'\u001b[39m\u001b[38;5;124mblue\u001b[39m\u001b[38;5;124m'\u001b[39m,  \u001b[38;5;66;03m# Couleur pour les valeurs manquantes\u001b[39;00m\n\u001b[1;32m     13\u001b[0m )\n\u001b[1;32m     14\u001b[0m choropleth_temp\u001b[38;5;241m.\u001b[39madd_to(m_temp)\n\u001b[1;32m     15\u001b[0m m_temp\u001b[38;5;241m.\u001b[39msave(\u001b[38;5;124m\"\u001b[39m\u001b[38;5;124mcartes\u001b[39m\u001b[38;5;124m\\\u001b[39m\u001b[38;5;124mcarte_temperatures.html\u001b[39m\u001b[38;5;124m\"\u001b[39m)\n",
      "\u001b[0;31mKeyError\u001b[0m: 2018"
     ]
    }
   ],
   "source": [
    "# Carte des températures moyennes\n",
    "m_temp = folium.Map(location=[center_latitude, center_longitude], zoom_start=5, tiles='cartodbpositron')\n",
    "\n",
    "choropleth_temp=folium.Choropleth(geo_data=departements_json,\n",
    "    data=dico_df_temp[2018],\n",
    "    columns=['code_insee_departement','tmoy'],\n",
    "    fill_color=\"OrRd\",  # Colormap\n",
    "    key_on='feature.properties.INSEE_DEP',\n",
    "    fill_opacity=0.7,\n",
    "    legend_name='Température moyenne (°C)',  # Nom de la légende\n",
    "    highlight=True,\n",
    "    nan_fill_color='blue',  # Couleur pour les valeurs manquantes\n",
    ")\n",
    "choropleth_temp.add_to(m_temp)\n",
    "m_temp.save(\"cartes\\carte_temperatures.html\")"
   ]
  },
  {
   "cell_type": "markdown",
   "metadata": {},
   "source": [
    "### Création d'un dataframe alliant données de consommation et données météo\n",
    "On choisit en particulier de s'intéresser au cas de l'année 2021"
   ]
  },
  {
   "cell_type": "code",
   "execution_count": 14,
   "metadata": {},
   "outputs": [
    {
     "ename": "KeyError",
     "evalue": "2021",
     "output_type": "error",
     "traceback": [
      "\u001b[0;31m---------------------------------------------------------------------------\u001b[0m",
      "\u001b[0;31mKeyError\u001b[0m                                  Traceback (most recent call last)",
      "Cell \u001b[0;32mIn[14], line 1\u001b[0m\n\u001b[0;32m----> 1\u001b[0m df_2021\u001b[38;5;241m=\u001b[39mdico_df_cons_tot[\u001b[38;5;241m2021\u001b[39m]\u001b[38;5;241m.\u001b[39mmerge(\u001b[43mdico_df_temp\u001b[49m\u001b[43m[\u001b[49m\u001b[38;5;241;43m2021\u001b[39;49m\u001b[43m]\u001b[49m, how\u001b[38;5;241m=\u001b[39m\u001b[38;5;124m'\u001b[39m\u001b[38;5;124mleft\u001b[39m\u001b[38;5;124m'\u001b[39m, left_on\u001b[38;5;241m=\u001b[39m\u001b[38;5;124m'\u001b[39m\u001b[38;5;124mCode Département\u001b[39m\u001b[38;5;124m'\u001b[39m, right_on\u001b[38;5;241m=\u001b[39m\u001b[38;5;124m'\u001b[39m\u001b[38;5;124mcode_insee_departement\u001b[39m\u001b[38;5;124m'\u001b[39m)\n\u001b[1;32m      2\u001b[0m df_2021\u001b[38;5;241m.\u001b[39mhead()\n",
      "\u001b[0;31mKeyError\u001b[0m: 2021"
     ]
    }
   ],
   "source": [
    "df_2021=dico_df_cons_tot[2021].merge(dico_df_temp[2021], how='left', left_on='Code Département', right_on='code_insee_departement')\n",
    "df_2021.head()"
   ]
  },
  {
   "cell_type": "markdown",
   "metadata": {},
   "source": [
    "### Téléchargement des données de consommation d'électricité annuelle par adresse"
   ]
  },
  {
   "cell_type": "code",
   "execution_count": 15,
   "metadata": {},
   "outputs": [
    {
     "ename": "NameError",
     "evalue": "name 'get_data_consumption' is not defined",
     "output_type": "error",
     "traceback": [
      "\u001b[0;31m---------------------------------------------------------------------------\u001b[0m",
      "\u001b[0;31mNameError\u001b[0m                                 Traceback (most recent call last)",
      "Cell \u001b[0;32mIn[15], line 1\u001b[0m\n\u001b[0;32m----> 1\u001b[0m df_cons_2018\u001b[38;5;241m=\u001b[39m\u001b[43mget_data_consumption\u001b[49m(dec\u001b[38;5;241m.\u001b[39mconsumption_data_url_2018, \u001b[38;5;124m\"\u001b[39m\u001b[38;5;124m2018\u001b[39m\u001b[38;5;124m\"\u001b[39m)\n\u001b[1;32m      2\u001b[0m df_cons_2019\u001b[38;5;241m=\u001b[39mget_data_consumption(dec\u001b[38;5;241m.\u001b[39mconsumption_data_url_2019, \u001b[38;5;124m\"\u001b[39m\u001b[38;5;124m2019\u001b[39m\u001b[38;5;124m\"\u001b[39m)\n\u001b[1;32m      3\u001b[0m df_cons_2020\u001b[38;5;241m=\u001b[39mget_data_consumption(dec\u001b[38;5;241m.\u001b[39mconsumption_data_url_2020, \u001b[38;5;124m\"\u001b[39m\u001b[38;5;124m2020\u001b[39m\u001b[38;5;124m\"\u001b[39m)\n",
      "\u001b[0;31mNameError\u001b[0m: name 'get_data_consumption' is not defined"
     ]
    }
   ],
   "source": [
    "df_cons_2018=get_data_consumption(dec.consumption_data_url_2018, \"2018\")\n",
    "df_cons_2019=get_data_consumption(dec.consumption_data_url_2019, \"2019\")\n",
    "df_cons_2020=get_data_consumption(dec.consumption_data_url_2020, \"2020\")\n",
    "df_cons_2021=get_data_consumption(dec.consumption_data_url_2021, \"2021\")"
   ]
  },
  {
   "cell_type": "markdown",
   "metadata": {},
   "source": [
    "### Récupération des données de Diagnostics de Performance Energétique (DPE)"
   ]
  },
  {
   "cell_type": "code",
   "execution_count": 20,
   "metadata": {},
   "outputs": [],
   "source": [
    "def get_dpe_from_url(api_url):\n",
    "    '''Imports a database from an API url.\n",
    "    Args:\n",
    "        api_url (string) : url of the wanted API\n",
    "    Returns:\n",
    "        pandas.DataFrame : dataframe\n",
    "    '''\n",
    "    req=requests.get(api_url)\n",
    "    wb=req.json()\n",
    "    df = pd.json_normalize(wb[\"results\"])\n",
    "    dpe = gpd.GeoDataFrame(df, geometry=gpd.points_from_xy(df.longitude, df.latitude), crs = 4326)\n",
    "    dpe = dpe.dropna(subset = ['longitude', 'latitude'])\n",
    "    return dpe"
   ]
  },
  {
   "cell_type": "code",
   "execution_count": 21,
   "metadata": {},
   "outputs": [],
   "source": [
    "# Il est trop couteux de récupérer l'intégralité des données et nous ne disposons de données météo que pour\n",
    "# certaines communes. L'idée est donc de ne récupérer les données de DPE que pour les communes voulues et de\n",
    "# les agréger dans une unique table de données.\n",
    "\n",
    "def get_dpe_dataset(api_root, communes):\n",
    "    '''\n",
    "    Args : \n",
    "    Returns : \n",
    "    '''"
   ]
  }
 ],
 "metadata": {
  "kernelspec": {
   "display_name": "Python 3 (ipykernel)",
   "language": "python",
   "name": "python3"
  },
  "language_info": {
   "codemirror_mode": {
    "name": "ipython",
    "version": 3
   },
   "file_extension": ".py",
   "mimetype": "text/x-python",
   "name": "python",
   "nbconvert_exporter": "python",
   "pygments_lexer": "ipython3",
   "version": "3.10.13"
  }
 },
 "nbformat": 4,
 "nbformat_minor": 4
}
