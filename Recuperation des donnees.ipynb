{
 "cells": [
  {
   "cell_type": "markdown",
   "metadata": {},
   "source": [
    "# Prédiction de la consommation d'énergie des ménages \n",
    "\n",
    "Ce projet a été réalisé par Aurane Vernière, Killian Pliszczak et Hugo Capot, élève en deuxième année de l'ENSAE, dans le cadre d'un projet pour la matière \"Python pour la Data Science\".\n"
   ]
  },
  {
   "cell_type": "markdown",
   "metadata": {},
   "source": [
    "Notre travail se décompose en deux études à des échelles différentes. Nous nous sommes d'abord donnés pour but d'étudier la corrélation (et éventuellement la relation de causalité) entre consommation d'électricité du secteur résidentiel et la météo à l'échelle des départements français. En effet, grâce aux données disponibles sur le site d'Enedis, filiale d'EDF chargée de la distribution d'électricité en France, nous pouvons récupérer les données de consommation d'électricté du secteur résidentiel à l'échelle des départements pour les années 2011 à 2021. De plus, nous pouvons récupérer via l'API \"<i>Température quotidienne départementale depuis janvier 2018</i>\" d'Open Data Réseaux Energie (ODRE) les températures moyennes, minimales et maximales par département. \n",
    "La deuxième partie de notre travail sera consacrée, si nous avons le temps, à une régression de la consommation d'électricté sur des variables additionnelles, notamment les Diagnostics de Performance Energétique (DPE), auxquels nous avons uniquement accès par adresse. Nous nous restreindrons alors uniquement aux communes pour lesquelles nous avons aussi pu webscrapper des données météo. "
   ]
  },
  {
   "cell_type": "markdown",
   "metadata": {},
   "source": [
    "Nous commençons par introduire les librairies et modules qui nous seront utiles."
   ]
  },
  {
   "cell_type": "code",
   "execution_count": 1,
   "metadata": {},
   "outputs": [
    {
     "name": "stdout",
     "output_type": "stream",
     "text": [
      "Collecting git+https://github.com/inseefrlab/cartiflette@80b8a5a28371feb6df31d55bcc2617948a5f9b1a (from -r requirements.txt (line 12))\n",
      "  Cloning https://github.com/inseefrlab/cartiflette (to revision 80b8a5a28371feb6df31d55bcc2617948a5f9b1a) to /tmp/pip-req-build-asfwn7so\n",
      "  Running command git clone --filter=blob:none --quiet https://github.com/inseefrlab/cartiflette /tmp/pip-req-build-asfwn7so\n",
      "  Running command git rev-parse -q --verify 'sha^80b8a5a28371feb6df31d55bcc2617948a5f9b1a'\n",
      "  Running command git fetch -q https://github.com/inseefrlab/cartiflette 80b8a5a28371feb6df31d55bcc2617948a5f9b1a\n",
      "  Running command git checkout -q 80b8a5a28371feb6df31d55bcc2617948a5f9b1a\n",
      "  Resolved https://github.com/inseefrlab/cartiflette to commit 80b8a5a28371feb6df31d55bcc2617948a5f9b1a\n",
      "  Installing build dependencies ... \u001b[?25ldone\n",
      "\u001b[?25h  Getting requirements to build wheel ... \u001b[?25ldone\n",
      "\u001b[?25h  Preparing metadata (pyproject.toml) ... \u001b[?25ldone\n",
      "\u001b[?25hRequirement already satisfied: pandas in /opt/mamba/lib/python3.10/site-packages (from -r requirements.txt (line 1)) (2.1.4)\n",
      "Requirement already satisfied: geopandas in /opt/mamba/lib/python3.10/site-packages (from -r requirements.txt (line 2)) (0.14.1)\n",
      "Collecting lxml (from -r requirements.txt (line 3))\n",
      "  Downloading lxml-4.9.4-cp310-cp310-manylinux_2_28_x86_64.whl.metadata (3.7 kB)\n",
      "Requirement already satisfied: requests in /opt/mamba/lib/python3.10/site-packages (from -r requirements.txt (line 4)) (2.31.0)\n",
      "Collecting py7zr (from -r requirements.txt (line 5))\n",
      "  Downloading py7zr-0.20.8-py3-none-any.whl.metadata (16 kB)\n",
      "Collecting openpyxl (from -r requirements.txt (line 7))\n",
      "  Downloading openpyxl-3.1.2-py2.py3-none-any.whl (249 kB)\n",
      "\u001b[2K     \u001b[90m━━━━━━━━━━━━━━━━━━━━━━━━━━━━━━━━━━━━━━\u001b[0m \u001b[32m250.0/250.0 kB\u001b[0m \u001b[31m26.7 MB/s\u001b[0m eta \u001b[36m0:00:00\u001b[0m\n",
      "\u001b[?25hRequirement already satisfied: tqdm in /opt/mamba/lib/python3.10/site-packages (from -r requirements.txt (line 8)) (4.66.1)\n",
      "Requirement already satisfied: s3fs in /opt/mamba/lib/python3.10/site-packages (from -r requirements.txt (line 9)) (0.4.2)\n",
      "Requirement already satisfied: PyYAML in /opt/mamba/lib/python3.10/site-packages (from -r requirements.txt (line 10)) (6.0.1)\n",
      "Collecting xlrd (from -r requirements.txt (line 11))\n",
      "  Downloading xlrd-2.0.1-py2.py3-none-any.whl (96 kB)\n",
      "\u001b[2K     \u001b[90m━━━━━━━━━━━━━━━━━━━━━━━━━━━━━━━━━━━━━━━━\u001b[0m \u001b[32m96.5/96.5 kB\u001b[0m \u001b[31m24.1 MB/s\u001b[0m eta \u001b[36m0:00:00\u001b[0m\n",
      "\u001b[?25hCollecting geoviews (from -r requirements.txt (line 13))\n",
      "  Downloading geoviews-1.11.0-py2.py3-none-any.whl.metadata (11 kB)\n",
      "Requirement already satisfied: numpy<2,>=1.22.4 in /opt/mamba/lib/python3.10/site-packages (from pandas->-r requirements.txt (line 1)) (1.26.2)\n",
      "Requirement already satisfied: python-dateutil>=2.8.2 in /opt/mamba/lib/python3.10/site-packages (from pandas->-r requirements.txt (line 1)) (2.8.2)\n",
      "Requirement already satisfied: pytz>=2020.1 in /opt/mamba/lib/python3.10/site-packages (from pandas->-r requirements.txt (line 1)) (2023.3.post1)\n",
      "Requirement already satisfied: tzdata>=2022.1 in /opt/mamba/lib/python3.10/site-packages (from pandas->-r requirements.txt (line 1)) (2023.3)\n",
      "Requirement already satisfied: fiona>=1.8.21 in /opt/mamba/lib/python3.10/site-packages (from geopandas->-r requirements.txt (line 2)) (1.9.3)\n",
      "Requirement already satisfied: packaging in /opt/mamba/lib/python3.10/site-packages (from geopandas->-r requirements.txt (line 2)) (23.1)\n",
      "Requirement already satisfied: pyproj>=3.3.0 in /opt/mamba/lib/python3.10/site-packages (from geopandas->-r requirements.txt (line 2)) (3.6.1)\n",
      "Requirement already satisfied: shapely>=1.8.0 in /opt/mamba/lib/python3.10/site-packages (from geopandas->-r requirements.txt (line 2)) (2.0.2)\n",
      "Requirement already satisfied: charset-normalizer<4,>=2 in /opt/mamba/lib/python3.10/site-packages (from requests->-r requirements.txt (line 4)) (3.2.0)\n",
      "Requirement already satisfied: idna<4,>=2.5 in /opt/mamba/lib/python3.10/site-packages (from requests->-r requirements.txt (line 4)) (3.4)\n",
      "Requirement already satisfied: urllib3<3,>=1.21.1 in /opt/mamba/lib/python3.10/site-packages (from requests->-r requirements.txt (line 4)) (1.26.18)\n",
      "Requirement already satisfied: certifi>=2017.4.17 in /opt/mamba/lib/python3.10/site-packages (from requests->-r requirements.txt (line 4)) (2023.11.17)\n",
      "Collecting texttable (from py7zr->-r requirements.txt (line 5))\n",
      "  Downloading texttable-1.7.0-py2.py3-none-any.whl.metadata (9.8 kB)\n",
      "Collecting pycryptodomex>=3.16.0 (from py7zr->-r requirements.txt (line 5))\n",
      "  Downloading pycryptodomex-3.19.0-cp35-abi3-manylinux_2_17_x86_64.manylinux2014_x86_64.whl.metadata (3.4 kB)\n",
      "Collecting pyzstd>=0.15.9 (from py7zr->-r requirements.txt (line 5))\n",
      "  Downloading pyzstd-0.15.9-cp310-cp310-manylinux_2_17_x86_64.manylinux2014_x86_64.whl.metadata (7.5 kB)\n",
      "Collecting pyppmd<1.2.0,>=1.1.0 (from py7zr->-r requirements.txt (line 5))\n",
      "  Downloading pyppmd-1.1.0-cp310-cp310-manylinux_2_17_x86_64.manylinux2014_x86_64.whl.metadata (5.7 kB)\n",
      "Collecting pybcj<1.1.0,>=1.0.0 (from py7zr->-r requirements.txt (line 5))\n",
      "  Downloading pybcj-1.0.2-cp310-cp310-manylinux_2_17_x86_64.manylinux2014_x86_64.whl.metadata (4.0 kB)\n",
      "Collecting multivolumefile>=0.2.3 (from py7zr->-r requirements.txt (line 5))\n",
      "  Downloading multivolumefile-0.2.3-py3-none-any.whl (17 kB)\n",
      "Collecting inflate64<1.1.0,>=1.0.0 (from py7zr->-r requirements.txt (line 5))\n",
      "  Downloading inflate64-1.0.0-cp310-cp310-manylinux_2_17_x86_64.manylinux2014_x86_64.whl.metadata (4.0 kB)\n",
      "Requirement already satisfied: brotli>=1.1.0 in /opt/mamba/lib/python3.10/site-packages (from py7zr->-r requirements.txt (line 5)) (1.1.0)\n",
      "Requirement already satisfied: psutil in /opt/mamba/lib/python3.10/site-packages (from py7zr->-r requirements.txt (line 5)) (5.9.7)\n",
      "Collecting et-xmlfile (from openpyxl->-r requirements.txt (line 7))\n",
      "  Downloading et_xmlfile-1.1.0-py3-none-any.whl (4.7 kB)\n",
      "Requirement already satisfied: botocore>=1.12.91 in /opt/mamba/lib/python3.10/site-packages (from s3fs->-r requirements.txt (line 9)) (1.34.2)\n",
      "Requirement already satisfied: fsspec>=0.6.0 in /opt/mamba/lib/python3.10/site-packages (from s3fs->-r requirements.txt (line 9)) (2023.12.2)\n",
      "Collecting appdirs<2.0.0,>=1.4.4 (from cartiflette==0.0.1->-r requirements.txt (line 12))\n",
      "  Downloading appdirs-1.4.4-py2.py3-none-any.whl (9.6 kB)\n",
      "Collecting geopandas (from -r requirements.txt (line 2))\n",
      "  Downloading geopandas-0.12.2-py3-none-any.whl (1.1 MB)\n",
      "\u001b[2K     \u001b[90m━━━━━━━━━━━━━━━━━━━━━━━━━━━━━━━━━━━━━━━━\u001b[0m \u001b[32m1.1/1.1 MB\u001b[0m \u001b[31m36.6 MB/s\u001b[0m eta \u001b[36m0:00:00\u001b[0m\n",
      "\u001b[?25hRequirement already satisfied: matplotlib<4.0.0,>=3.7.1 in /opt/mamba/lib/python3.10/site-packages (from cartiflette==0.0.1->-r requirements.txt (line 12)) (3.8.2)\n",
      "Collecting owslib<0.29.0,>=0.28.1 (from cartiflette==0.0.1->-r requirements.txt (line 12))\n",
      "  Downloading OWSLib-0.28.1-py2.py3-none-any.whl (219 kB)\n",
      "\u001b[2K     \u001b[90m━━━━━━━━━━━━━━━━━━━━━━━━━━━━━━━━━━━━━━\u001b[0m \u001b[32m219.6/219.6 kB\u001b[0m \u001b[31m34.4 MB/s\u001b[0m eta \u001b[36m0:00:00\u001b[0m\n",
      "\u001b[?25hCollecting s3fs (from -r requirements.txt (line 9))\n",
      "  Downloading s3fs-2023.12.2-py3-none-any.whl.metadata (1.6 kB)\n",
      "Collecting topojson<2.0,>=1.5 (from cartiflette==0.0.1->-r requirements.txt (line 12))\n",
      "  Downloading topojson-1.7-py2.py3-none-any.whl.metadata (3.8 kB)\n",
      "Collecting aiobotocore<3.0.0,>=2.5.4 (from s3fs->-r requirements.txt (line 9))\n",
      "  Downloading aiobotocore-2.9.0-py3-none-any.whl.metadata (20 kB)\n",
      "Requirement already satisfied: aiohttp!=4.0.0a0,!=4.0.0a1 in /opt/mamba/lib/python3.10/site-packages (from s3fs->-r requirements.txt (line 9)) (3.9.1)\n",
      "Requirement already satisfied: bokeh<3.4.0,>=3.2.0 in /opt/mamba/lib/python3.10/site-packages (from geoviews->-r requirements.txt (line 13)) (3.3.2)\n",
      "Collecting cartopy>=0.18.0 (from geoviews->-r requirements.txt (line 13))\n",
      "  Downloading Cartopy-0.22.0-cp310-cp310-manylinux_2_17_x86_64.manylinux2014_x86_64.whl.metadata (15 kB)\n",
      "Collecting holoviews>=1.16.0 (from geoviews->-r requirements.txt (line 13))\n",
      "  Downloading holoviews-1.18.1-py2.py3-none-any.whl.metadata (20 kB)\n",
      "Collecting param (from geoviews->-r requirements.txt (line 13))\n",
      "  Downloading param-2.0.1-py3-none-any.whl.metadata (5.9 kB)\n",
      "Collecting panel>=1.0.0 (from geoviews->-r requirements.txt (line 13))\n",
      "  Downloading panel-1.3.6-py2.py3-none-any.whl.metadata (24 kB)\n",
      "Requirement already satisfied: xyzservices in /opt/mamba/lib/python3.10/site-packages (from geoviews->-r requirements.txt (line 13)) (2023.10.1)\n",
      "Collecting botocore<1.33.14,>=1.33.2 (from aiobotocore<3.0.0,>=2.5.4->s3fs->-r requirements.txt (line 9))\n",
      "  Downloading botocore-1.33.13-py3-none-any.whl.metadata (6.1 kB)\n",
      "Collecting wrapt<2.0.0,>=1.10.10 (from aiobotocore<3.0.0,>=2.5.4->s3fs->-r requirements.txt (line 9))\n",
      "  Downloading wrapt-1.16.0-cp310-cp310-manylinux_2_5_x86_64.manylinux1_x86_64.manylinux_2_17_x86_64.manylinux2014_x86_64.whl.metadata (6.6 kB)\n",
      "Collecting aioitertools<1.0.0,>=0.5.1 (from aiobotocore<3.0.0,>=2.5.4->s3fs->-r requirements.txt (line 9))\n",
      "  Downloading aioitertools-0.11.0-py3-none-any.whl (23 kB)\n",
      "Requirement already satisfied: attrs>=17.3.0 in /opt/mamba/lib/python3.10/site-packages (from aiohttp!=4.0.0a0,!=4.0.0a1->s3fs->-r requirements.txt (line 9)) (23.1.0)\n",
      "Requirement already satisfied: multidict<7.0,>=4.5 in /opt/mamba/lib/python3.10/site-packages (from aiohttp!=4.0.0a0,!=4.0.0a1->s3fs->-r requirements.txt (line 9)) (6.0.4)\n",
      "Requirement already satisfied: yarl<2.0,>=1.0 in /opt/mamba/lib/python3.10/site-packages (from aiohttp!=4.0.0a0,!=4.0.0a1->s3fs->-r requirements.txt (line 9)) (1.9.3)\n",
      "Requirement already satisfied: frozenlist>=1.1.1 in /opt/mamba/lib/python3.10/site-packages (from aiohttp!=4.0.0a0,!=4.0.0a1->s3fs->-r requirements.txt (line 9)) (1.4.1)\n",
      "Requirement already satisfied: aiosignal>=1.1.2 in /opt/mamba/lib/python3.10/site-packages (from aiohttp!=4.0.0a0,!=4.0.0a1->s3fs->-r requirements.txt (line 9)) (1.3.1)\n",
      "Requirement already satisfied: async-timeout<5.0,>=4.0 in /opt/mamba/lib/python3.10/site-packages (from aiohttp!=4.0.0a0,!=4.0.0a1->s3fs->-r requirements.txt (line 9)) (4.0.3)\n",
      "Requirement already satisfied: Jinja2>=2.9 in /opt/mamba/lib/python3.10/site-packages (from bokeh<3.4.0,>=3.2.0->geoviews->-r requirements.txt (line 13)) (3.1.2)\n",
      "Requirement already satisfied: contourpy>=1 in /opt/mamba/lib/python3.10/site-packages (from bokeh<3.4.0,>=3.2.0->geoviews->-r requirements.txt (line 13)) (1.2.0)\n",
      "Requirement already satisfied: pillow>=7.1.0 in /opt/mamba/lib/python3.10/site-packages (from bokeh<3.4.0,>=3.2.0->geoviews->-r requirements.txt (line 13)) (10.1.0)\n",
      "Requirement already satisfied: tornado>=5.1 in /opt/mamba/lib/python3.10/site-packages (from bokeh<3.4.0,>=3.2.0->geoviews->-r requirements.txt (line 13)) (6.3.3)\n",
      "Collecting pyshp>=2.1 (from cartopy>=0.18.0->geoviews->-r requirements.txt (line 13))\n",
      "  Downloading pyshp-2.3.1-py2.py3-none-any.whl (46 kB)\n",
      "\u001b[2K     \u001b[90m━━━━━━━━━━━━━━━━━━━━━━━━━━━━━━━━━━━━━━━━\u001b[0m \u001b[32m46.5/46.5 kB\u001b[0m \u001b[31m6.5 MB/s\u001b[0m eta \u001b[36m0:00:00\u001b[0m\n",
      "\u001b[?25hRequirement already satisfied: click~=8.0 in /opt/mamba/lib/python3.10/site-packages (from fiona>=1.8.21->geopandas->-r requirements.txt (line 2)) (8.1.7)\n",
      "Requirement already satisfied: click-plugins>=1.0 in /opt/mamba/lib/python3.10/site-packages (from fiona>=1.8.21->geopandas->-r requirements.txt (line 2)) (1.1.1)\n",
      "Requirement already satisfied: cligj>=0.5 in /opt/mamba/lib/python3.10/site-packages (from fiona>=1.8.21->geopandas->-r requirements.txt (line 2)) (0.7.2)\n",
      "Requirement already satisfied: munch>=2.3.2 in /opt/mamba/lib/python3.10/site-packages (from fiona>=1.8.21->geopandas->-r requirements.txt (line 2)) (4.0.0)\n",
      "Collecting pyviz-comms>=0.7.4 (from holoviews>=1.16.0->geoviews->-r requirements.txt (line 13))\n",
      "  Downloading pyviz_comms-3.0.0-py3-none-any.whl.metadata (7.5 kB)\n",
      "Collecting colorcet (from holoviews>=1.16.0->geoviews->-r requirements.txt (line 13))\n",
      "  Downloading colorcet-3.0.1-py2.py3-none-any.whl (1.7 MB)\n",
      "\u001b[2K     \u001b[90m━━━━━━━━━━━━━━━━━━━━━━━━━━━━━━━━━━━━━━━━\u001b[0m \u001b[32m1.7/1.7 MB\u001b[0m \u001b[31m18.0 MB/s\u001b[0m eta \u001b[36m0:00:00\u001b[0ma \u001b[36m0:00:01\u001b[0m\n",
      "\u001b[?25hRequirement already satisfied: cycler>=0.10 in /opt/mamba/lib/python3.10/site-packages (from matplotlib<4.0.0,>=3.7.1->cartiflette==0.0.1->-r requirements.txt (line 12)) (0.12.1)\n",
      "Requirement already satisfied: fonttools>=4.22.0 in /opt/mamba/lib/python3.10/site-packages (from matplotlib<4.0.0,>=3.7.1->cartiflette==0.0.1->-r requirements.txt (line 12)) (4.46.0)\n",
      "Requirement already satisfied: kiwisolver>=1.3.1 in /opt/mamba/lib/python3.10/site-packages (from matplotlib<4.0.0,>=3.7.1->cartiflette==0.0.1->-r requirements.txt (line 12)) (1.4.5)\n",
      "Requirement already satisfied: pyparsing>=2.3.1 in /opt/mamba/lib/python3.10/site-packages (from matplotlib<4.0.0,>=3.7.1->cartiflette==0.0.1->-r requirements.txt (line 12)) (3.1.1)\n",
      "Requirement already satisfied: markdown in /opt/mamba/lib/python3.10/site-packages (from panel>=1.0.0->geoviews->-r requirements.txt (line 13)) (3.5.1)\n",
      "Collecting markdown-it-py (from panel>=1.0.0->geoviews->-r requirements.txt (line 13))\n",
      "  Downloading markdown_it_py-3.0.0-py3-none-any.whl.metadata (6.9 kB)\n",
      "Collecting linkify-it-py (from panel>=1.0.0->geoviews->-r requirements.txt (line 13))\n",
      "  Downloading linkify_it_py-2.0.2-py3-none-any.whl (19 kB)\n",
      "Collecting mdit-py-plugins (from panel>=1.0.0->geoviews->-r requirements.txt (line 13))\n",
      "  Downloading mdit_py_plugins-0.4.0-py3-none-any.whl.metadata (2.7 kB)\n",
      "Requirement already satisfied: bleach in /opt/mamba/lib/python3.10/site-packages (from panel>=1.0.0->geoviews->-r requirements.txt (line 13)) (6.1.0)\n",
      "Requirement already satisfied: typing-extensions in /opt/mamba/lib/python3.10/site-packages (from panel>=1.0.0->geoviews->-r requirements.txt (line 13)) (4.9.0)\n",
      "Requirement already satisfied: six>=1.5 in /opt/mamba/lib/python3.10/site-packages (from python-dateutil>=2.8.2->pandas->-r requirements.txt (line 1)) (1.16.0)\n",
      "Requirement already satisfied: jmespath<2.0.0,>=0.7.1 in /opt/mamba/lib/python3.10/site-packages (from botocore<1.33.14,>=1.33.2->aiobotocore<3.0.0,>=2.5.4->s3fs->-r requirements.txt (line 9)) (1.0.1)\n",
      "Requirement already satisfied: MarkupSafe>=2.0 in /opt/mamba/lib/python3.10/site-packages (from Jinja2>=2.9->bokeh<3.4.0,>=3.2.0->geoviews->-r requirements.txt (line 13)) (2.1.3)\n",
      "Requirement already satisfied: webencodings in /opt/mamba/lib/python3.10/site-packages (from bleach->panel>=1.0.0->geoviews->-r requirements.txt (line 13)) (0.5.1)\n",
      "Collecting pyct>=0.4.4 (from colorcet->holoviews>=1.16.0->geoviews->-r requirements.txt (line 13))\n",
      "  Downloading pyct-0.5.0-py2.py3-none-any.whl (15 kB)\n",
      "Collecting uc-micro-py (from linkify-it-py->panel>=1.0.0->geoviews->-r requirements.txt (line 13))\n",
      "  Downloading uc_micro_py-1.0.2-py3-none-any.whl (6.2 kB)\n",
      "Collecting mdurl~=0.1 (from markdown-it-py->panel>=1.0.0->geoviews->-r requirements.txt (line 13))\n",
      "  Downloading mdurl-0.1.2-py3-none-any.whl (10.0 kB)\n",
      "Downloading lxml-4.9.4-cp310-cp310-manylinux_2_28_x86_64.whl (7.9 MB)\n",
      "\u001b[2K   \u001b[90m━━━━━━━━━━━━━━━━━━━━━━━━━━━━━━━━━━━━━━━━\u001b[0m \u001b[32m7.9/7.9 MB\u001b[0m \u001b[31m44.4 MB/s\u001b[0m eta \u001b[36m0:00:00\u001b[0m00:01\u001b[0m00:01\u001b[0mm\n",
      "\u001b[?25hDownloading py7zr-0.20.8-py3-none-any.whl (67 kB)\n",
      "\u001b[2K   \u001b[90m━━━━━━━━━━━━━━━━━━━━━━━━━━━━━━━━━━━━━━━━\u001b[0m \u001b[32m67.0/67.0 kB\u001b[0m \u001b[31m23.7 MB/s\u001b[0m eta \u001b[36m0:00:00\u001b[0m\n",
      "\u001b[?25hDownloading s3fs-2023.12.2-py3-none-any.whl (28 kB)\n",
      "Downloading geoviews-1.11.0-py2.py3-none-any.whl (511 kB)\n",
      "\u001b[2K   \u001b[90m━━━━━━━━━━━━━━━━━━━━━━━━━━━━━━━━━━━━━━━━\u001b[0m \u001b[32m511.2/511.2 kB\u001b[0m \u001b[31m29.4 MB/s\u001b[0m eta \u001b[36m0:00:00\u001b[0m\n",
      "\u001b[?25hDownloading aiobotocore-2.9.0-py3-none-any.whl (75 kB)\n",
      "\u001b[2K   \u001b[90m━━━━━━━━━━━━━━━━━━━━━━━━━━━━━━━━━━━━━━━━\u001b[0m \u001b[32m76.0/76.0 kB\u001b[0m \u001b[31m17.8 MB/s\u001b[0m eta \u001b[36m0:00:00\u001b[0m\n",
      "\u001b[?25hDownloading Cartopy-0.22.0-cp310-cp310-manylinux_2_17_x86_64.manylinux2014_x86_64.whl (11.8 MB)\n",
      "\u001b[2K   \u001b[90m━━━━━━━━━━━━━━━━━━━━━━━━━━━━━━━━━━━━━━━━\u001b[0m \u001b[32m11.8/11.8 MB\u001b[0m \u001b[31m55.1 MB/s\u001b[0m eta \u001b[36m0:00:00\u001b[0m00:01\u001b[0m0:01\u001b[0m\n",
      "\u001b[?25hDownloading holoviews-1.18.1-py2.py3-none-any.whl (4.3 MB)\n",
      "\u001b[2K   \u001b[90m━━━━━━━━━━━━━━━━━━━━━━━━━━━━━━━━━━━━━━━━\u001b[0m \u001b[32m4.3/4.3 MB\u001b[0m \u001b[31m59.9 MB/s\u001b[0m eta \u001b[36m0:00:00\u001b[0m00:01\u001b[0m00:01\u001b[0m\n",
      "\u001b[?25hDownloading inflate64-1.0.0-cp310-cp310-manylinux_2_17_x86_64.manylinux2014_x86_64.whl (93 kB)\n",
      "\u001b[2K   \u001b[90m━━━━━━━━━━━━━━━━━━━━━━━━━━━━━━━━━━━━━━━━\u001b[0m \u001b[32m93.1/93.1 kB\u001b[0m \u001b[31m29.0 MB/s\u001b[0m eta \u001b[36m0:00:00\u001b[0m\n",
      "\u001b[?25hDownloading panel-1.3.6-py2.py3-none-any.whl (20.8 MB)\n",
      "\u001b[2K   \u001b[90m━━━━━━━━━━━━━━━━━━━━━━━━━━━━━━━━━━━━━━━━\u001b[0m \u001b[32m20.8/20.8 MB\u001b[0m \u001b[31m41.2 MB/s\u001b[0m eta \u001b[36m0:00:00\u001b[0m00:01\u001b[0m00:01\u001b[0m\n",
      "\u001b[?25hDownloading param-2.0.1-py3-none-any.whl (113 kB)\n",
      "\u001b[2K   \u001b[90m━━━━━━━━━━━━━━━━━━━━━━━━━━━━━━━━━━━━━━━━\u001b[0m \u001b[32m113.4/113.4 kB\u001b[0m \u001b[31m13.4 MB/s\u001b[0m eta \u001b[36m0:00:00\u001b[0m\n",
      "\u001b[?25hDownloading pybcj-1.0.2-cp310-cp310-manylinux_2_17_x86_64.manylinux2014_x86_64.whl (49 kB)\n",
      "\u001b[2K   \u001b[90m━━━━━━━━━━━━━━━━━━━━━━━━━━━━━━━━━━━━━━━━\u001b[0m \u001b[32m49.7/49.7 kB\u001b[0m \u001b[31m10.7 MB/s\u001b[0m eta \u001b[36m0:00:00\u001b[0m\n",
      "\u001b[?25hDownloading pycryptodomex-3.19.0-cp35-abi3-manylinux_2_17_x86_64.manylinux2014_x86_64.whl (2.1 MB)\n",
      "\u001b[2K   \u001b[90m━━━━━━━━━━━━━━━━━━━━━━━━━━━━━━━━━━━━━━━━\u001b[0m \u001b[32m2.1/2.1 MB\u001b[0m \u001b[31m47.9 MB/s\u001b[0m eta \u001b[36m0:00:00\u001b[0m00:01\u001b[0m\n",
      "\u001b[?25hDownloading pyppmd-1.1.0-cp310-cp310-manylinux_2_17_x86_64.manylinux2014_x86_64.whl (138 kB)\n",
      "\u001b[2K   \u001b[90m━━━━━━━━━━━━━━━━━━━━━━━━━━━━━━━━━━━━━━━━\u001b[0m \u001b[32m138.9/138.9 kB\u001b[0m \u001b[31m38.0 MB/s\u001b[0m eta \u001b[36m0:00:00\u001b[0m\n",
      "\u001b[?25hDownloading pyzstd-0.15.9-cp310-cp310-manylinux_2_17_x86_64.manylinux2014_x86_64.whl (412 kB)\n",
      "\u001b[2K   \u001b[90m━━━━━━━━━━━━━━━━━━━━━━━━━━━━━━━━━━━━━━━━\u001b[0m \u001b[32m412.3/412.3 kB\u001b[0m \u001b[31m19.0 MB/s\u001b[0m eta \u001b[36m0:00:00\u001b[0m\n",
      "\u001b[?25hDownloading topojson-1.7-py2.py3-none-any.whl (82 kB)\n",
      "\u001b[2K   \u001b[90m━━━━━━━━━━━━━━━━━━━━━━━━━━━━━━━━━━━━━━━━\u001b[0m \u001b[32m82.1/82.1 kB\u001b[0m \u001b[31m7.8 MB/s\u001b[0m eta \u001b[36m0:00:00\u001b[0m\n",
      "\u001b[?25hDownloading texttable-1.7.0-py2.py3-none-any.whl (10 kB)\n",
      "Downloading botocore-1.33.13-py3-none-any.whl (11.8 MB)\n",
      "\u001b[2K   \u001b[90m━━━━━━━━━━━━━━━━━━━━━━━━━━━━━━━━━━━━━━━━\u001b[0m \u001b[32m11.8/11.8 MB\u001b[0m \u001b[31m45.6 MB/s\u001b[0m eta \u001b[36m0:00:00\u001b[0m00:01\u001b[0m00:01\u001b[0m\n",
      "\u001b[?25hDownloading pyviz_comms-3.0.0-py3-none-any.whl (82 kB)\n",
      "\u001b[2K   \u001b[90m━━━━━━━━━━━━━━━━━━━━━━━━━━━━━━━━━━━━━━━━\u001b[0m \u001b[32m82.2/82.2 kB\u001b[0m \u001b[31m10.7 MB/s\u001b[0m eta \u001b[36m0:00:00\u001b[0m\n",
      "\u001b[?25hDownloading wrapt-1.16.0-cp310-cp310-manylinux_2_5_x86_64.manylinux1_x86_64.manylinux_2_17_x86_64.manylinux2014_x86_64.whl (80 kB)\n",
      "\u001b[2K   \u001b[90m━━━━━━━━━━━━━━━━━━━━━━━━━━━━━━━━━━━━━━━━\u001b[0m \u001b[32m80.3/80.3 kB\u001b[0m \u001b[31m14.7 MB/s\u001b[0m eta \u001b[36m0:00:00\u001b[0m\n",
      "\u001b[?25hDownloading markdown_it_py-3.0.0-py3-none-any.whl (87 kB)\n",
      "\u001b[2K   \u001b[90m━━━━━━━━━━━━━━━━━━━━━━━━━━━━━━━━━━━━━━━━\u001b[0m \u001b[32m87.5/87.5 kB\u001b[0m \u001b[31m6.9 MB/s\u001b[0m eta \u001b[36m0:00:00\u001b[0m\n",
      "\u001b[?25hDownloading mdit_py_plugins-0.4.0-py3-none-any.whl (54 kB)\n",
      "\u001b[2K   \u001b[90m━━━━━━━━━━━━━━━━━━━━━━━━━━━━━━━━━━━━━━━━\u001b[0m \u001b[32m54.1/54.1 kB\u001b[0m \u001b[31m4.1 MB/s\u001b[0m eta \u001b[36m0:00:00\u001b[0m\n",
      "\u001b[?25hBuilding wheels for collected packages: cartiflette\n",
      "  Building wheel for cartiflette (pyproject.toml) ... \u001b[?25ldone\n",
      "\u001b[?25h  Created wheel for cartiflette: filename=cartiflette-0.0.1-py3-none-any.whl size=33970 sha256=485fd682c2b6cbea8426492e8f3110d9305a95b0327185b9b236b9bd12cbd10c\n",
      "  Stored in directory: /home/onyxia/.cache/pip/wheels/d8/e2/0f/69d93504f90599fad135cc8d8c9cdc5c2d26eaacfafd18c305\n",
      "Successfully built cartiflette\n",
      "Installing collected packages: texttable, appdirs, xlrd, wrapt, uc-micro-py, pyzstd, pyshp, pyppmd, pycryptodomex, pybcj, param, multivolumefile, mdurl, lxml, inflate64, et-xmlfile, aioitertools, topojson, pyviz-comms, pyct, py7zr, owslib, openpyxl, markdown-it-py, linkify-it-py, botocore, mdit-py-plugins, geopandas, colorcet, cartopy, aiobotocore, s3fs, panel, holoviews, cartiflette, geoviews\n",
      "  Attempting uninstall: botocore\n",
      "    Found existing installation: botocore 1.34.2\n",
      "    Uninstalling botocore-1.34.2:\n",
      "      Successfully uninstalled botocore-1.34.2\n",
      "  Attempting uninstall: geopandas\n",
      "    Found existing installation: geopandas 0.14.1\n",
      "    Uninstalling geopandas-0.14.1:\n",
      "      Successfully uninstalled geopandas-0.14.1\n",
      "  Attempting uninstall: s3fs\n",
      "    Found existing installation: s3fs 0.4.2\n",
      "    Uninstalling s3fs-0.4.2:\n",
      "      Successfully uninstalled s3fs-0.4.2\n",
      "\u001b[31mERROR: pip's dependency resolver does not currently take into account all the packages that are installed. This behaviour is the source of the following dependency conflicts.\n",
      "boto3 1.34.2 requires botocore<1.35.0,>=1.34.2, but you have botocore 1.33.13 which is incompatible.\u001b[0m\u001b[31m\n",
      "\u001b[0mSuccessfully installed aiobotocore-2.9.0 aioitertools-0.11.0 appdirs-1.4.4 botocore-1.33.13 cartiflette-0.0.1 cartopy-0.22.0 colorcet-3.0.1 et-xmlfile-1.1.0 geopandas-0.12.2 geoviews-1.11.0 holoviews-1.18.1 inflate64-1.0.0 linkify-it-py-2.0.2 lxml-4.9.4 markdown-it-py-3.0.0 mdit-py-plugins-0.4.0 mdurl-0.1.2 multivolumefile-0.2.3 openpyxl-3.1.2 owslib-0.28.1 panel-1.3.6 param-2.0.1 py7zr-0.20.8 pybcj-1.0.2 pycryptodomex-3.19.0 pyct-0.5.0 pyppmd-1.1.0 pyshp-2.3.1 pyviz-comms-3.0.0 pyzstd-0.15.9 s3fs-2023.12.2 texttable-1.7.0 topojson-1.7 uc-micro-py-1.0.2 wrapt-1.16.0 xlrd-2.0.1\n"
     ]
    },
    {
     "data": {
      "text/plain": [
       "{'tags': ['hide-output']}"
      ]
     },
     "execution_count": 1,
     "metadata": {},
     "output_type": "execute_result"
    }
   ],
   "source": [
    "!pip install -r requirements.txt\n",
    "{\n",
    "    \"tags\": [\n",
    "        \"hide-output\"\n",
    "    ]\n",
    "}"
   ]
  },
  {
   "cell_type": "code",
   "execution_count": 5,
   "metadata": {},
   "outputs": [],
   "source": [
    "import importlib\n",
    "import pandas as pd\n",
    "import requests\n",
    "import geopandas as gpd\n",
    "import declarations as dec\n",
    "import matplotlib.pyplot as plt\n",
    "import mapclassify as mc\n",
    "import folium\n",
    "import os\n",
    "from os.path import isfile"
   ]
  },
  {
   "cell_type": "markdown",
   "metadata": {},
   "source": [
    "#### 1- Récupération et analyse descriptive des données de consommation annuelle d'électricité par département et par secteur d'activité"
   ]
  },
  {
   "cell_type": "markdown",
   "metadata": {},
   "source": [
    "Les données que nous récupérons dans cette partie sont disponibles en Open Data sur le site de l'Agence ORE (Opérateur des Réseaux d'Energie). Plus précisément, le jeu de données que nous utilisons est intitulé \"Consommation annuelle d'électricité et gaz par département et par secteur d'activité\". Nous ne considérons que la consommation d'électricité du secteur résidentiel. De plus, nous nous restreignons aux départements de France métropolitaine uniquement."
   ]
  },
  {
   "cell_type": "code",
   "execution_count": 6,
   "metadata": {},
   "outputs": [
    {
     "ename": "AttributeError",
     "evalue": "module 'declarations' has no attribute 'cons_département'",
     "output_type": "error",
     "traceback": [
      "\u001b[0;31m---------------------------------------------------------------------------\u001b[0m",
      "\u001b[0;31mAttributeError\u001b[0m                            Traceback (most recent call last)",
      "Cell \u001b[0;32mIn[6], line 2\u001b[0m\n\u001b[1;32m      1\u001b[0m \u001b[38;5;66;03m# Base de données provenant du site d'Enedis\u001b[39;00m\n\u001b[0;32m----> 2\u001b[0m df_cons_département\u001b[38;5;241m=\u001b[39mpd\u001b[38;5;241m.\u001b[39mread_csv(\u001b[43mdec\u001b[49m\u001b[38;5;241;43m.\u001b[39;49m\u001b[43mcons_département\u001b[49m, sep\u001b[38;5;241m=\u001b[39m\u001b[38;5;124m\"\u001b[39m\u001b[38;5;124m;\u001b[39m\u001b[38;5;124m\"\u001b[39m)\n\u001b[1;32m      4\u001b[0m \u001b[38;5;66;03m# Sélection des départements de métropole uniquement\u001b[39;00m\n\u001b[1;32m      5\u001b[0m df_cons_département\u001b[38;5;241m=\u001b[39mdf_cons_département\u001b[38;5;241m.\u001b[39mloc[\u001b[38;5;241m~\u001b[39mdf_cons_département[\u001b[38;5;124m'\u001b[39m\u001b[38;5;124mCode Département\u001b[39m\u001b[38;5;124m'\u001b[39m]\u001b[38;5;241m.\u001b[39misin([\u001b[38;5;124m'\u001b[39m\u001b[38;5;124m971\u001b[39m\u001b[38;5;124m'\u001b[39m, \u001b[38;5;124m'\u001b[39m\u001b[38;5;124m972\u001b[39m\u001b[38;5;124m'\u001b[39m, \u001b[38;5;124m'\u001b[39m\u001b[38;5;124m973\u001b[39m\u001b[38;5;124m'\u001b[39m, \u001b[38;5;124m'\u001b[39m\u001b[38;5;124m974\u001b[39m\u001b[38;5;124m'\u001b[39m, \u001b[38;5;124m'\u001b[39m\u001b[38;5;124m975\u001b[39m\u001b[38;5;124m'\u001b[39m,\u001b[38;5;124m'\u001b[39m\u001b[38;5;124m976\u001b[39m\u001b[38;5;124m'\u001b[39m])]\n",
      "\u001b[0;31mAttributeError\u001b[0m: module 'declarations' has no attribute 'cons_département'"
     ]
    }
   ],
   "source": [
    "# Base de données provenant du site d'Enedis\n",
    "df_cons_département=pd.read_csv(dec.cons_département, sep=\";\")\n",
    "\n",
    "# Sélection des départements de métropole uniquement\n",
    "df_cons_département=df_cons_département.loc[~df_cons_département['Code Département'].isin(['971', '972', '973', '974', '975','976'])]"
   ]
  },
  {
   "cell_type": "code",
   "execution_count": 7,
   "metadata": {},
   "outputs": [
    {
     "ename": "NameError",
     "evalue": "name 'df_cons_département' is not defined",
     "output_type": "error",
     "traceback": [
      "\u001b[0;31m---------------------------------------------------------------------------\u001b[0m",
      "\u001b[0;31mNameError\u001b[0m                                 Traceback (most recent call last)",
      "Cell \u001b[0;32mIn[7], line 1\u001b[0m\n\u001b[0;32m----> 1\u001b[0m \u001b[43mdf_cons_département\u001b[49m\u001b[38;5;241m.\u001b[39mcolumns\n",
      "\u001b[0;31mNameError\u001b[0m: name 'df_cons_département' is not defined"
     ]
    }
   ],
   "source": [
    "df_cons_département.columns"
   ]
  },
  {
   "cell_type": "code",
   "execution_count": 8,
   "metadata": {},
   "outputs": [
    {
     "ename": "NameError",
     "evalue": "name 'df_cons_département' is not defined",
     "output_type": "error",
     "traceback": [
      "\u001b[0;31m---------------------------------------------------------------------------\u001b[0m",
      "\u001b[0;31mNameError\u001b[0m                                 Traceback (most recent call last)",
      "Cell \u001b[0;32mIn[8], line 7\u001b[0m\n\u001b[1;32m      1\u001b[0m \u001b[38;5;66;03m# Sélection des variables auxquelles nous nous intéressons\u001b[39;00m\n\u001b[1;32m      2\u001b[0m variables_cons_département\u001b[38;5;241m=\u001b[39m [\u001b[38;5;124m'\u001b[39m\u001b[38;5;124mOpérateur\u001b[39m\u001b[38;5;124m'\u001b[39m, \u001b[38;5;124m'\u001b[39m\u001b[38;5;124mAnnée\u001b[39m\u001b[38;5;124m'\u001b[39m, \u001b[38;5;124m'\u001b[39m\u001b[38;5;124mFilière\u001b[39m\u001b[38;5;124m'\u001b[39m, \n\u001b[1;32m      3\u001b[0m                              \u001b[38;5;124m'\u001b[39m\u001b[38;5;124mConsommation Résidentiel  (MWh)\u001b[39m\u001b[38;5;124m'\u001b[39m, \u001b[38;5;124m'\u001b[39m\u001b[38;5;124mNombre de points Résidentiel\u001b[39m\u001b[38;5;124m'\u001b[39m, \n\u001b[1;32m      4\u001b[0m                              \u001b[38;5;124m'\u001b[39m\u001b[38;5;124mNombre de mailles secretisées (résidentiel)\u001b[39m\u001b[38;5;124m'\u001b[39m,\u001b[38;5;124m'\u001b[39m\u001b[38;5;124mIndice qualité Résidentiel\u001b[39m\u001b[38;5;124m'\u001b[39m,\n\u001b[1;32m      5\u001b[0m                              \u001b[38;5;124m'\u001b[39m\u001b[38;5;124mCode Département\u001b[39m\u001b[38;5;124m'\u001b[39m, \u001b[38;5;124m'\u001b[39m\u001b[38;5;124mLibellé Département\u001b[39m\u001b[38;5;124m'\u001b[39m,\u001b[38;5;124m'\u001b[39m\u001b[38;5;124mCode Région\u001b[39m\u001b[38;5;124m'\u001b[39m, \u001b[38;5;124m'\u001b[39m\u001b[38;5;124mLibellé Région\u001b[39m\u001b[38;5;124m'\u001b[39m, \n\u001b[1;32m      6\u001b[0m                              \u001b[38;5;124m'\u001b[39m\u001b[38;5;124mid_filiere\u001b[39m\u001b[38;5;124m'\u001b[39m,\u001b[38;5;124m'\u001b[39m\u001b[38;5;124mConsommation totale (MWh)\u001b[39m\u001b[38;5;124m'\u001b[39m]\n\u001b[0;32m----> 7\u001b[0m liste_département\u001b[38;5;241m=\u001b[39mpd\u001b[38;5;241m.\u001b[39munique(\u001b[43mdf_cons_département\u001b[49m[\u001b[38;5;124m\"\u001b[39m\u001b[38;5;124mLibellé Département\u001b[39m\u001b[38;5;124m\"\u001b[39m])\n",
      "\u001b[0;31mNameError\u001b[0m: name 'df_cons_département' is not defined"
     ]
    }
   ],
   "source": [
    "# Sélection des variables auxquelles nous nous intéressons\n",
    "variables_cons_département= ['Opérateur', 'Année', 'Filière', \n",
    "                             'Consommation Résidentiel  (MWh)', 'Nombre de points Résidentiel', \n",
    "                             'Nombre de mailles secretisées (résidentiel)','Indice qualité Résidentiel',\n",
    "                             'Code Département', 'Libellé Département','Code Région', 'Libellé Région', \n",
    "                             'id_filiere','Consommation totale (MWh)']\n",
    "liste_département=pd.unique(df_cons_département[\"Libellé Département\"])"
   ]
  },
  {
   "cell_type": "code",
   "execution_count": 9,
   "metadata": {},
   "outputs": [
    {
     "ename": "NameError",
     "evalue": "name 'df_cons_département' is not defined",
     "output_type": "error",
     "traceback": [
      "\u001b[0;31m---------------------------------------------------------------------------\u001b[0m",
      "\u001b[0;31mNameError\u001b[0m                                 Traceback (most recent call last)",
      "Cell \u001b[0;32mIn[9], line 1\u001b[0m\n\u001b[0;32m----> 1\u001b[0m list_années\u001b[38;5;241m=\u001b[39mpd\u001b[38;5;241m.\u001b[39munique(\u001b[43mdf_cons_département\u001b[49m[\u001b[38;5;124m\"\u001b[39m\u001b[38;5;124mAnnée\u001b[39m\u001b[38;5;124m\"\u001b[39m])\n\u001b[1;32m      2\u001b[0m \u001b[38;5;66;03m# Dictionnaire qui à chaque année associe le dataframe de consommation d'électricité \u001b[39;00m\n\u001b[1;32m      3\u001b[0m \u001b[38;5;66;03m# résidentielle par départements :\u001b[39;00m\n\u001b[1;32m      4\u001b[0m dico_cons_département\u001b[38;5;241m=\u001b[39m{} \n",
      "\u001b[0;31mNameError\u001b[0m: name 'df_cons_département' is not defined"
     ]
    }
   ],
   "source": [
    "list_années=pd.unique(df_cons_département[\"Année\"])\n",
    "# Dictionnaire qui à chaque année associe le dataframe de consommation d'électricité \n",
    "# résidentielle par départements :\n",
    "dico_cons_département={} \n",
    "# Dictionnaire qui à chaque année associe le dataframe contenant uniquement : \n",
    "# consommation totale d'électricité et code département :\n",
    "dico_df_cons_tot={}\n",
    "# Dictionnaire qui à chaque année associe la valeur de la consommation totale d'électricité du secteur\n",
    "# résidentiel en France : \n",
    "dico_cons_tot={} \n",
    "for année in list_années:\n",
    "    if année not in dico_cons_département.keys():\n",
    "        df_année=dec.get_data_consumption_department(df_cons_département, année)\n",
    "        dico_cons_département[année]=dec.df_filter(df_année, variables_cons_département) # On sélectionne les variables dont on a besoin\n",
    "        df_cons_tot=dico_cons_département[année].groupby([\"Code Département\",\"Libellé Département\"])['Consommation Résidentiel  (MWh)'].sum().reset_index()\n",
    "        df_cons_tot[\"Legende\"] = [f\"{ligne['Libellé Département']} : {ligne['Consommation Résidentiel  (MWh)']} MWh\" \\\n",
    "                             for _, ligne in df_cons_tot.iterrows()]\n",
    "        dico_df_cons_tot[année]=df_cons_tot\n",
    "        dico_cons_tot[année]=df_cons_tot['Consommation Résidentiel  (MWh)'].sum()\n"
   ]
  },
  {
   "cell_type": "markdown",
   "metadata": {},
   "source": [
    "Premier aperçu de la base de données après sélection des variables d'intérêt : "
   ]
  },
  {
   "cell_type": "code",
   "execution_count": 10,
   "metadata": {},
   "outputs": [
    {
     "ename": "NameError",
     "evalue": "name 'dico_cons_département' is not defined",
     "output_type": "error",
     "traceback": [
      "\u001b[0;31m---------------------------------------------------------------------------\u001b[0m",
      "\u001b[0;31mNameError\u001b[0m                                 Traceback (most recent call last)",
      "Cell \u001b[0;32mIn[10], line 1\u001b[0m\n\u001b[0;32m----> 1\u001b[0m \u001b[43mdico_cons_département\u001b[49m[\u001b[38;5;241m2018\u001b[39m]\u001b[38;5;241m.\u001b[39mhead()\n",
      "\u001b[0;31mNameError\u001b[0m: name 'dico_cons_département' is not defined"
     ]
    }
   ],
   "source": [
    "dico_cons_département[2018].head()"
   ]
  },
  {
   "cell_type": "code",
   "execution_count": 11,
   "metadata": {},
   "outputs": [],
   "source": [
    "# Création d'un GeoDataFrame des départements français\n",
    "departements=dec.df_filter(dec.dep, dec.var_dep)\n",
    "departements=gpd.GeoDataFrame(departements, geometry=departements['geometry'])\n",
    "departements_json=departements.to_json()"
   ]
  },
  {
   "cell_type": "code",
   "execution_count": 12,
   "metadata": {},
   "outputs": [
    {
     "ename": "NameError",
     "evalue": "name 'dico_df_cons_tot' is not defined",
     "output_type": "error",
     "traceback": [
      "\u001b[0;31m---------------------------------------------------------------------------\u001b[0m",
      "\u001b[0;31mNameError\u001b[0m                                 Traceback (most recent call last)",
      "Cell \u001b[0;32mIn[12], line 2\u001b[0m\n\u001b[1;32m      1\u001b[0m quantiles\u001b[38;5;241m=\u001b[39m[\u001b[38;5;241m0.2\u001b[39m,\u001b[38;5;241m0.4\u001b[39m,\u001b[38;5;241m0.6\u001b[39m,\u001b[38;5;241m0.8\u001b[39m]\n\u001b[0;32m----> 2\u001b[0m quantiles_conso\u001b[38;5;241m=\u001b[39m\u001b[43mdico_df_cons_tot\u001b[49m[\u001b[38;5;241m2018\u001b[39m][\u001b[38;5;124m'\u001b[39m\u001b[38;5;124mConsommation Résidentiel  (MWh)\u001b[39m\u001b[38;5;124m'\u001b[39m]\u001b[38;5;241m.\u001b[39mquantile(quantiles)\n\u001b[1;32m      4\u001b[0m \u001b[38;5;28;01mdef\u001b[39;00m \u001b[38;5;21mquantiles\u001b[39m(quantiles, df, var):\n\u001b[1;32m      5\u001b[0m \u001b[38;5;250m    \u001b[39m\u001b[38;5;124;03m'''Returns a list with the values of the wanted quantiles\u001b[39;00m\n\u001b[1;32m      6\u001b[0m \u001b[38;5;124;03m    Args: \u001b[39;00m\n\u001b[1;32m      7\u001b[0m \u001b[38;5;124;03m        quantiles (list)\u001b[39;00m\n\u001b[0;32m   (...)\u001b[0m\n\u001b[1;32m     10\u001b[0m \u001b[38;5;124;03m    Returns: a list with the values for each quantiles\u001b[39;00m\n\u001b[1;32m     11\u001b[0m \u001b[38;5;124;03m    '''\u001b[39;00m\n",
      "\u001b[0;31mNameError\u001b[0m: name 'dico_df_cons_tot' is not defined"
     ]
    }
   ],
   "source": [
    "quantiles=[0.2,0.4,0.6,0.8]\n",
    "quantiles_conso=dico_df_cons_tot[2018]['Consommation Résidentiel  (MWh)'].quantile(quantiles)\n",
    "\n",
    "def quantiles(quantiles, df, var):\n",
    "    '''Returns a list with the values of the wanted quantiles\n",
    "    Args: \n",
    "        quantiles (list)\n",
    "        df (DataFrame)\n",
    "        var (string)\n",
    "    Returns: a list with the values for each quantiles\n",
    "    '''\n",
    "    return df[var].quantile(quantiles)\n"
   ]
  },
  {
   "cell_type": "code",
   "execution_count": 13,
   "metadata": {},
   "outputs": [
    {
     "name": "stderr",
     "output_type": "stream",
     "text": [
      "/tmp/ipykernel_1324/1381974066.py:1: UserWarning: Geometry is in a geographic CRS. Results from 'centroid' are likely incorrect. Use 'GeoSeries.to_crs()' to re-project geometries to a projected CRS before this operation.\n",
      "\n",
      "  center_latitude = departements['geometry'].centroid.y.mean()\n",
      "/tmp/ipykernel_1324/1381974066.py:2: UserWarning: Geometry is in a geographic CRS. Results from 'centroid' are likely incorrect. Use 'GeoSeries.to_crs()' to re-project geometries to a projected CRS before this operation.\n",
      "\n",
      "  center_longitude = departements['geometry'].centroid.x.mean()\n"
     ]
    },
    {
     "ename": "NameError",
     "evalue": "name 'dico_df_cons_tot' is not defined",
     "output_type": "error",
     "traceback": [
      "\u001b[0;31m---------------------------------------------------------------------------\u001b[0m",
      "\u001b[0;31mNameError\u001b[0m                                 Traceback (most recent call last)",
      "Cell \u001b[0;32mIn[13], line 7\u001b[0m\n\u001b[1;32m      2\u001b[0m center_longitude \u001b[38;5;241m=\u001b[39m departements[\u001b[38;5;124m'\u001b[39m\u001b[38;5;124mgeometry\u001b[39m\u001b[38;5;124m'\u001b[39m]\u001b[38;5;241m.\u001b[39mcentroid\u001b[38;5;241m.\u001b[39mx\u001b[38;5;241m.\u001b[39mmean()\n\u001b[1;32m      4\u001b[0m m \u001b[38;5;241m=\u001b[39m folium\u001b[38;5;241m.\u001b[39mMap(location\u001b[38;5;241m=\u001b[39m[center_latitude, center_longitude], zoom_start\u001b[38;5;241m=\u001b[39m\u001b[38;5;241m5\u001b[39m, tiles\u001b[38;5;241m=\u001b[39m\u001b[38;5;124m'\u001b[39m\u001b[38;5;124mcartodbpositron\u001b[39m\u001b[38;5;124m'\u001b[39m)\n\u001b[1;32m      6\u001b[0m choropleth\u001b[38;5;241m=\u001b[39mfolium\u001b[38;5;241m.\u001b[39mChoropleth(geo_data\u001b[38;5;241m=\u001b[39mdepartements_json,\n\u001b[0;32m----> 7\u001b[0m     data\u001b[38;5;241m=\u001b[39m\u001b[43mdico_df_cons_tot\u001b[49m[\u001b[38;5;241m2018\u001b[39m],\n\u001b[1;32m      8\u001b[0m     columns\u001b[38;5;241m=\u001b[39m[\u001b[38;5;124m'\u001b[39m\u001b[38;5;124mCode Département\u001b[39m\u001b[38;5;124m'\u001b[39m,\u001b[38;5;124m'\u001b[39m\u001b[38;5;124mConsommation Résidentiel  (MWh)\u001b[39m\u001b[38;5;124m'\u001b[39m],\n\u001b[1;32m      9\u001b[0m     fill_color\u001b[38;5;241m=\u001b[39m\u001b[38;5;124m\"\u001b[39m\u001b[38;5;124mOrRd\u001b[39m\u001b[38;5;124m\"\u001b[39m,  \u001b[38;5;66;03m# Colormap\u001b[39;00m\n\u001b[1;32m     10\u001b[0m     key_on\u001b[38;5;241m=\u001b[39m\u001b[38;5;124m'\u001b[39m\u001b[38;5;124mfeature.properties.INSEE_DEP\u001b[39m\u001b[38;5;124m'\u001b[39m,\n\u001b[1;32m     11\u001b[0m     fill_opacity\u001b[38;5;241m=\u001b[39m\u001b[38;5;241m0.7\u001b[39m,\n\u001b[1;32m     12\u001b[0m     legend_name\u001b[38;5;241m=\u001b[39m\u001b[38;5;124m'\u001b[39m\u001b[38;5;124mConsommation Résidentiel (MWh)\u001b[39m\u001b[38;5;124m'\u001b[39m,  \u001b[38;5;66;03m# Nom de la légende\u001b[39;00m\n\u001b[1;32m     13\u001b[0m     highlight\u001b[38;5;241m=\u001b[39m\u001b[38;5;28;01mTrue\u001b[39;00m,\n\u001b[1;32m     14\u001b[0m     nan_fill_color\u001b[38;5;241m=\u001b[39m\u001b[38;5;124m'\u001b[39m\u001b[38;5;124mblue\u001b[39m\u001b[38;5;124m'\u001b[39m,  \u001b[38;5;66;03m# Couleur pour les valeurs manquantes\u001b[39;00m\n\u001b[1;32m     15\u001b[0m )\n\u001b[1;32m     16\u001b[0m choropleth\u001b[38;5;241m.\u001b[39mgeojson\u001b[38;5;241m.\u001b[39madd_child(\n\u001b[1;32m     17\u001b[0m     folium\u001b[38;5;241m.\u001b[39mfeatures\u001b[38;5;241m.\u001b[39mGeoJsonTooltip([\u001b[38;5;124m'\u001b[39m\u001b[38;5;124mLegende\u001b[39m\u001b[38;5;124m'\u001b[39m],labels\u001b[38;5;241m=\u001b[39m\u001b[38;5;28;01mFalse\u001b[39;00m))\n\u001b[1;32m     19\u001b[0m choropleth\u001b[38;5;241m.\u001b[39madd_to(m)\n",
      "\u001b[0;31mNameError\u001b[0m: name 'dico_df_cons_tot' is not defined"
     ]
    }
   ],
   "source": [
    "center_latitude = departements['geometry'].centroid.y.mean()\n",
    "center_longitude = departements['geometry'].centroid.x.mean()\n",
    "\n",
    "m = folium.Map(location=[center_latitude, center_longitude], zoom_start=5, tiles='cartodbpositron')\n",
    "\n",
    "choropleth=folium.Choropleth(geo_data=departements_json,\n",
    "    data=dico_df_cons_tot[2018],\n",
    "    columns=['Code Département','Consommation Résidentiel  (MWh)'],\n",
    "    fill_color=\"OrRd\",  # Colormap\n",
    "    key_on='feature.properties.INSEE_DEP',\n",
    "    fill_opacity=0.7,\n",
    "    legend_name='Consommation Résidentiel (MWh)',  # Nom de la légende\n",
    "    highlight=True,\n",
    "    nan_fill_color='blue',  # Couleur pour les valeurs manquantes\n",
    ")\n",
    "choropleth.geojson.add_child(\n",
    "    folium.features.GeoJsonTooltip(['Legende'],labels=False))\n",
    "\n",
    "choropleth.add_to(m)\n",
    "display(m)"
   ]
  },
  {
   "cell_type": "markdown",
   "metadata": {},
   "source": [
    "On représente à présent l'évolution de la consommation d'énergie du résidentiel entre 2011 et 2021"
   ]
  },
  {
   "cell_type": "code",
   "execution_count": 14,
   "metadata": {},
   "outputs": [
    {
     "ename": "NameError",
     "evalue": "name 'dico_cons_tot' is not defined",
     "output_type": "error",
     "traceback": [
      "\u001b[0;31m---------------------------------------------------------------------------\u001b[0m",
      "\u001b[0;31mNameError\u001b[0m                                 Traceback (most recent call last)",
      "Cell \u001b[0;32mIn[14], line 10\u001b[0m\n\u001b[1;32m      6\u001b[0m fig, ax \u001b[38;5;241m=\u001b[39m plt\u001b[38;5;241m.\u001b[39msubplots(sharex\u001b[38;5;241m=\u001b[39m\u001b[38;5;28;01mTrue\u001b[39;00m, facecolor\u001b[38;5;241m=\u001b[39m\u001b[38;5;124m'\u001b[39m\u001b[38;5;124mlightcyan\u001b[39m\u001b[38;5;124m'\u001b[39m)\n\u001b[1;32m      7\u001b[0m \u001b[38;5;66;03m#On utilise \"facecolor\" pour donner une couleur au fond du graphique\u001b[39;00m\n\u001b[1;32m      8\u001b[0m \n\u001b[1;32m      9\u001b[0m \u001b[38;5;66;03m#Notre abscisse\u001b[39;00m\n\u001b[0;32m---> 10\u001b[0m conso_par_an\u001b[38;5;241m=\u001b[39m\u001b[38;5;28mlist\u001b[39m(\u001b[43mdico_cons_tot\u001b[49m\u001b[38;5;241m.\u001b[39mvalues())\n\u001b[1;32m     12\u001b[0m \u001b[38;5;66;03m#On trace le graphique\u001b[39;00m\n\u001b[1;32m     13\u001b[0m ax\u001b[38;5;241m.\u001b[39mplot(list_années, conso_par_an, color\u001b[38;5;241m=\u001b[39m\u001b[38;5;124m'\u001b[39m\u001b[38;5;124mblue\u001b[39m\u001b[38;5;124m'\u001b[39m)\n",
      "\u001b[0;31mNameError\u001b[0m: name 'dico_cons_tot' is not defined"
     ]
    },
    {
     "data": {
      "image/png": "[encoded data removed]",
      "text/plain": [
       "<Figure size 640x480 with 1 Axes>"
      ]
     },
     "metadata": {},
     "output_type": "display_data"
    }
   ],
   "source": [
    "import matplotlib\n",
    "matplotlib.rcParams['font.family'] = 'sans serif'\n",
    "\n",
    "#On importe la librairie matplotlib pour tracer les graphiques\n",
    "import matplotlib.pyplot as plt\n",
    "fig, ax = plt.subplots(sharex=True, facecolor='lightcyan')\n",
    "#On utilise \"facecolor\" pour donner une couleur au fond du graphique\n",
    "\n",
    "#Notre abscisse\n",
    "conso_par_an=list(dico_cons_tot.values())\n",
    "\n",
    "#On trace le graphique\n",
    "ax.plot(list_années, conso_par_an, color='blue')\n",
    "#Remarque : on peut aussi remplacer \"fill_between\" par \"plot\" pour tracer sans remplir\n",
    "\n",
    "ax.label_outer()\n",
    "#On donne un nom à l'axe des ordonnées\n",
    "ax.set_xlabel('Année')\n",
    "ax.set_ylabel(\"Consommation d'électricité totale (en MWh)\")\n",
    "#On affiche la grille\n",
    "ax.grid(True)\n",
    "ax.set_title(\"Évolution de la consommation d'électricité (en MWh) du secteur résidentiel entre 2011 et 2021\")\n",
    "\n",
    "plt.xticks(list_années)\n",
    "\n",
    "#On donne un titre au graphique\n",
    "fig.suptitle('Profil journalier moyen de consommation',size=16)"
   ]
  },
  {
   "cell_type": "code",
   "execution_count": 15,
   "metadata": {},
   "outputs": [
    {
     "ename": "NameError",
     "evalue": "name 'dico_cons_tot' is not defined",
     "output_type": "error",
     "traceback": [
      "\u001b[0;31m---------------------------------------------------------------------------\u001b[0m",
      "\u001b[0;31mNameError\u001b[0m                                 Traceback (most recent call last)",
      "Cell \u001b[0;32mIn[15], line 1\u001b[0m\n\u001b[0;32m----> 1\u001b[0m conso_par_an\u001b[38;5;241m=\u001b[39m\u001b[38;5;28mlist\u001b[39m(\u001b[43mdico_cons_tot\u001b[49m\u001b[38;5;241m.\u001b[39mvalues())\n\u001b[1;32m      2\u001b[0m plt\u001b[38;5;241m.\u001b[39mplot(list_années, conso_par_an, marker\u001b[38;5;241m=\u001b[39m\u001b[38;5;124m'\u001b[39m\u001b[38;5;124mo\u001b[39m\u001b[38;5;124m'\u001b[39m, linestyle\u001b[38;5;241m=\u001b[39m\u001b[38;5;124m'\u001b[39m\u001b[38;5;124m-\u001b[39m\u001b[38;5;124m'\u001b[39m, color\u001b[38;5;241m=\u001b[39m\u001b[38;5;124m'\u001b[39m\u001b[38;5;124mb\u001b[39m\u001b[38;5;124m'\u001b[39m)\n\u001b[1;32m      3\u001b[0m plt\u001b[38;5;241m.\u001b[39mtitle(\u001b[38;5;124m\"\u001b[39m\u001b[38;5;124mÉvolution de la consommation d\u001b[39m\u001b[38;5;124m'\u001b[39m\u001b[38;5;124mélectricité (en MWh) du secteur résidentiel entre 2011 et 2021\u001b[39m\u001b[38;5;124m\"\u001b[39m)\n",
      "\u001b[0;31mNameError\u001b[0m: name 'dico_cons_tot' is not defined"
     ]
    }
   ],
   "source": [
    "conso_par_an=list(dico_cons_tot.values())\n",
    "plt.plot(list_années, conso_par_an, marker='o', linestyle='-', color='b')\n",
    "plt.title(\"Évolution de la consommation d'électricité (en MWh) du secteur résidentiel entre 2011 et 2021\")\n",
    "plt.xlabel('Année')\n",
    "plt.ylabel(\"Consommation d'électricité totale (en MWh)\")\n",
    "plt.xticks(list_années)\n",
    "plt.show()"
   ]
  },
  {
   "cell_type": "markdown",
   "metadata": {},
   "source": [
    "### Récupération des données de températures annuelles à l'échelle des départements"
   ]
  },
  {
   "cell_type": "markdown",
   "metadata": {},
   "source": [
    "Il s'agit à présent de récupérer les températures moyennes annuelles par département pour au moins l'une des années pour lesquelles nous avons des données de consommation. Pour cela nous avons trouvé le jeu de données disponible en Open Data sur le site de l'ODRE, donnant les températures quotidiennes départementales depuis janvier 2018.\\\n",
    "La manière la plus efficace d'obtenir des températures moyennes annuelles (et minimales et maximales puisqu'elles sont aussi à disposition) par département est d'utiliser l'API en effectuant directement la requête adaptée. Dans le cas des températures moyennes, on utilise `group_by(code_insee_departement)` avec `select(avg(tmoy))`."
   ]
  },
  {
   "cell_type": "code",
   "execution_count": 16,
   "metadata": {},
   "outputs": [
    {
     "ename": "AttributeError",
     "evalue": "module 'declarations' has no attribute 'get_data_from_api'",
     "output_type": "error",
     "traceback": [
      "\u001b[0;31m---------------------------------------------------------------------------\u001b[0m",
      "\u001b[0;31mAttributeError\u001b[0m                            Traceback (most recent call last)",
      "Cell \u001b[0;32mIn[16], line 6\u001b[0m\n\u001b[1;32m      4\u001b[0m \u001b[38;5;28;01mfor\u001b[39;00m année \u001b[38;5;129;01min\u001b[39;00m [\u001b[38;5;241m2018\u001b[39m,\u001b[38;5;241m2019\u001b[39m,\u001b[38;5;241m2020\u001b[39m,\u001b[38;5;241m2021\u001b[39m]:\n\u001b[1;32m      5\u001b[0m     \u001b[38;5;28;01mif\u001b[39;00m année \u001b[38;5;129;01mnot\u001b[39;00m \u001b[38;5;129;01min\u001b[39;00m dico_df_temp\u001b[38;5;241m.\u001b[39mkeys():\n\u001b[0;32m----> 6\u001b[0m         df_tmoy\u001b[38;5;241m=\u001b[39m\u001b[43mdec\u001b[49m\u001b[38;5;241;43m.\u001b[39;49m\u001b[43mget_data_from_api\u001b[49m(dec\u001b[38;5;241m.\u001b[39mapi_root_temp, dec\u001b[38;5;241m.\u001b[39mapi_req_tmoy, année)\n\u001b[1;32m      7\u001b[0m         df_tmin\u001b[38;5;241m=\u001b[39mdec\u001b[38;5;241m.\u001b[39mget_data_from_api(dec\u001b[38;5;241m.\u001b[39mapi_root_temp, dec\u001b[38;5;241m.\u001b[39mapi_req_tmin, année)\n\u001b[1;32m      8\u001b[0m         df_tmax\u001b[38;5;241m=\u001b[39mdec\u001b[38;5;241m.\u001b[39mget_data_from_api(dec\u001b[38;5;241m.\u001b[39mapi_root_temp, dec\u001b[38;5;241m.\u001b[39mapi_req_tmax, année)\n",
      "\u001b[0;31mAttributeError\u001b[0m: module 'declarations' has no attribute 'get_data_from_api'"
     ]
    }
   ],
   "source": [
    "# Création d'un dictionnaire qui à chaque année associe un dataframe contenant la température moyenne,\n",
    "# la température minimale et la température maximale enregistrées par département\n",
    "dico_df_temp={}\n",
    "for année in [2018,2019,2020,2021]:\n",
    "    if année not in dico_df_temp.keys():\n",
    "        df_tmoy=dec.get_data_from_api(dec.api_root_temp, dec.api_req_tmoy, année)\n",
    "        df_tmin=dec.get_data_from_api(dec.api_root_temp, dec.api_req_tmin, année)\n",
    "        df_tmax=dec.get_data_from_api(dec.api_root_temp, dec.api_req_tmax, année)\n",
    "        res=df_tmax.merge(df_tmin, on='code_insee_departement',how='left')\n",
    "        df_temp=df_tmoy.merge(res, on='code_insee_departement', how='left')\n",
    "        df_temp.rename(columns={'avg(tmoy)':'tmoy', 'max(tmax)':'tmax', 'min(tmin)':'tmin'}, inplace=True)\n",
    "        dico_df_temp[année]=df_temp"
   ]
  },
  {
   "cell_type": "code",
   "execution_count": 17,
   "metadata": {},
   "outputs": [
    {
     "ename": "KeyError",
     "evalue": "2018",
     "output_type": "error",
     "traceback": [
      "\u001b[0;31m---------------------------------------------------------------------------\u001b[0m",
      "\u001b[0;31mKeyError\u001b[0m                                  Traceback (most recent call last)",
      "Cell \u001b[0;32mIn[17], line 5\u001b[0m\n\u001b[1;32m      1\u001b[0m \u001b[38;5;66;03m# Carte des températures moyennes\u001b[39;00m\n\u001b[1;32m      2\u001b[0m m_temp \u001b[38;5;241m=\u001b[39m folium\u001b[38;5;241m.\u001b[39mMap(location\u001b[38;5;241m=\u001b[39m[center_latitude, center_longitude], zoom_start\u001b[38;5;241m=\u001b[39m\u001b[38;5;241m5\u001b[39m, tiles\u001b[38;5;241m=\u001b[39m\u001b[38;5;124m'\u001b[39m\u001b[38;5;124mcartodbpositron\u001b[39m\u001b[38;5;124m'\u001b[39m)\n\u001b[1;32m      4\u001b[0m choropleth_temp\u001b[38;5;241m=\u001b[39mfolium\u001b[38;5;241m.\u001b[39mChoropleth(geo_data\u001b[38;5;241m=\u001b[39mdepartements_json,\n\u001b[0;32m----> 5\u001b[0m     data\u001b[38;5;241m=\u001b[39m\u001b[43mdico_df_temp\u001b[49m\u001b[43m[\u001b[49m\u001b[38;5;241;43m2018\u001b[39;49m\u001b[43m]\u001b[49m,\n\u001b[1;32m      6\u001b[0m     columns\u001b[38;5;241m=\u001b[39m[\u001b[38;5;124m'\u001b[39m\u001b[38;5;124mcode_insee_departement\u001b[39m\u001b[38;5;124m'\u001b[39m,\u001b[38;5;124m'\u001b[39m\u001b[38;5;124mtmoy\u001b[39m\u001b[38;5;124m'\u001b[39m],\n\u001b[1;32m      7\u001b[0m     fill_color\u001b[38;5;241m=\u001b[39m\u001b[38;5;124m\"\u001b[39m\u001b[38;5;124mOrRd\u001b[39m\u001b[38;5;124m\"\u001b[39m,  \u001b[38;5;66;03m# Colormap\u001b[39;00m\n\u001b[1;32m      8\u001b[0m     key_on\u001b[38;5;241m=\u001b[39m\u001b[38;5;124m'\u001b[39m\u001b[38;5;124mfeature.properties.INSEE_DEP\u001b[39m\u001b[38;5;124m'\u001b[39m,\n\u001b[1;32m      9\u001b[0m     fill_opacity\u001b[38;5;241m=\u001b[39m\u001b[38;5;241m0.7\u001b[39m,\n\u001b[1;32m     10\u001b[0m     legend_name\u001b[38;5;241m=\u001b[39m\u001b[38;5;124m'\u001b[39m\u001b[38;5;124mTempérature moyenne (°C)\u001b[39m\u001b[38;5;124m'\u001b[39m,  \u001b[38;5;66;03m# Nom de la légende\u001b[39;00m\n\u001b[1;32m     11\u001b[0m     highlight\u001b[38;5;241m=\u001b[39m\u001b[38;5;28;01mTrue\u001b[39;00m,\n\u001b[1;32m     12\u001b[0m     nan_fill_color\u001b[38;5;241m=\u001b[39m\u001b[38;5;124m'\u001b[39m\u001b[38;5;124mblue\u001b[39m\u001b[38;5;124m'\u001b[39m,  \u001b[38;5;66;03m# Couleur pour les valeurs manquantes\u001b[39;00m\n\u001b[1;32m     13\u001b[0m )\n\u001b[1;32m     14\u001b[0m choropleth_temp\u001b[38;5;241m.\u001b[39madd_to(m_temp)\n\u001b[1;32m     15\u001b[0m m_temp\u001b[38;5;241m.\u001b[39msave(\u001b[38;5;124m\"\u001b[39m\u001b[38;5;124mcartes\u001b[39m\u001b[38;5;124m\\\u001b[39m\u001b[38;5;124mcarte_temperatures.html\u001b[39m\u001b[38;5;124m\"\u001b[39m)\n",
      "\u001b[0;31mKeyError\u001b[0m: 2018"
     ]
    }
   ],
   "source": [
    "# Carte des températures moyennes\n",
    "m_temp = folium.Map(location=[center_latitude, center_longitude], zoom_start=5, tiles='cartodbpositron')\n",
    "\n",
    "choropleth_temp=folium.Choropleth(geo_data=departements_json,\n",
    "    data=dico_df_temp[2018],\n",
    "    columns=['code_insee_departement','tmoy'],\n",
    "    fill_color=\"OrRd\",  # Colormap\n",
    "    key_on='feature.properties.INSEE_DEP',\n",
    "    fill_opacity=0.7,\n",
    "    legend_name='Température moyenne (°C)',  # Nom de la légende\n",
    "    highlight=True,\n",
    "    nan_fill_color='blue',  # Couleur pour les valeurs manquantes\n",
    ")\n",
    "choropleth_temp.add_to(m_temp)\n",
    "m_temp.save(\"cartes\\carte_temperatures.html\")"
   ]
  },
  {
   "cell_type": "markdown",
   "metadata": {},
   "source": [
    "### Création d'un dataframe alliant données de consommation et données météo\n",
    "On choisit en particulier de s'intéresser au cas de l'année 2021"
   ]
  },
  {
   "cell_type": "code",
   "execution_count": 18,
   "metadata": {},
   "outputs": [
    {
     "ename": "NameError",
     "evalue": "name 'dico_df_cons_tot' is not defined",
     "output_type": "error",
     "traceback": [
      "\u001b[0;31m---------------------------------------------------------------------------\u001b[0m",
      "\u001b[0;31mNameError\u001b[0m                                 Traceback (most recent call last)",
      "Cell \u001b[0;32mIn[18], line 1\u001b[0m\n\u001b[0;32m----> 1\u001b[0m df_2021\u001b[38;5;241m=\u001b[39m\u001b[43mdico_df_cons_tot\u001b[49m[\u001b[38;5;241m2021\u001b[39m]\u001b[38;5;241m.\u001b[39mmerge(dico_df_temp[\u001b[38;5;241m2021\u001b[39m], how\u001b[38;5;241m=\u001b[39m\u001b[38;5;124m'\u001b[39m\u001b[38;5;124mleft\u001b[39m\u001b[38;5;124m'\u001b[39m, left_on\u001b[38;5;241m=\u001b[39m\u001b[38;5;124m'\u001b[39m\u001b[38;5;124mCode Département\u001b[39m\u001b[38;5;124m'\u001b[39m, right_on\u001b[38;5;241m=\u001b[39m\u001b[38;5;124m'\u001b[39m\u001b[38;5;124mcode_insee_departement\u001b[39m\u001b[38;5;124m'\u001b[39m)\n\u001b[1;32m      2\u001b[0m df_2021\u001b[38;5;241m.\u001b[39mhead()\n",
      "\u001b[0;31mNameError\u001b[0m: name 'dico_df_cons_tot' is not defined"
     ]
    }
   ],
   "source": [
    "df_2021=dico_df_cons_tot[2021].merge(dico_df_temp[2021], how='left', left_on='Code Département', right_on='code_insee_departement')\n",
    "df_2021.head()"
   ]
  },
  {
   "cell_type": "markdown",
   "metadata": {},
   "source": [
    "### Téléchargement des données de consommation d'électricité annuelle par adresse"
   ]
  },
  {
   "cell_type": "code",
   "execution_count": 19,
   "metadata": {},
   "outputs": [
    {
     "ename": "NameError",
     "evalue": "name 'get_data_consumption' is not defined",
     "output_type": "error",
     "traceback": [
      "\u001b[0;31m---------------------------------------------------------------------------\u001b[0m",
      "\u001b[0;31mNameError\u001b[0m                                 Traceback (most recent call last)",
      "Cell \u001b[0;32mIn[19], line 1\u001b[0m\n\u001b[0;32m----> 1\u001b[0m df_cons_2018\u001b[38;5;241m=\u001b[39m\u001b[43mget_data_consumption\u001b[49m(dec\u001b[38;5;241m.\u001b[39mconsumption_data_url_2018, \u001b[38;5;124m\"\u001b[39m\u001b[38;5;124m2018\u001b[39m\u001b[38;5;124m\"\u001b[39m)\n\u001b[1;32m      2\u001b[0m df_cons_2019\u001b[38;5;241m=\u001b[39mget_data_consumption(dec\u001b[38;5;241m.\u001b[39mconsumption_data_url_2019, \u001b[38;5;124m\"\u001b[39m\u001b[38;5;124m2019\u001b[39m\u001b[38;5;124m\"\u001b[39m)\n\u001b[1;32m      3\u001b[0m df_cons_2020\u001b[38;5;241m=\u001b[39mget_data_consumption(dec\u001b[38;5;241m.\u001b[39mconsumption_data_url_2020, \u001b[38;5;124m\"\u001b[39m\u001b[38;5;124m2020\u001b[39m\u001b[38;5;124m\"\u001b[39m)\n",
      "\u001b[0;31mNameError\u001b[0m: name 'get_data_consumption' is not defined"
     ]
    }
   ],
   "source": [
    "df_cons_2018=get_data_consumption(dec.consumption_data_url_2018, \"2018\")\n",
    "df_cons_2019=get_data_consumption(dec.consumption_data_url_2019, \"2019\")\n",
    "df_cons_2020=get_data_consumption(dec.consumption_data_url_2020, \"2020\")\n",
    "df_cons_2021=get_data_consumption(dec.consumption_data_url_2021, \"2021\")"
   ]
  },
  {
   "cell_type": "markdown",
   "metadata": {},
   "source": [
    "### Récupération des données de Diagnostics de Performance Energétique (DPE)"
   ]
  },
  {
   "cell_type": "code",
   "execution_count": 20,
   "metadata": {},
   "outputs": [],
   "source": [
    "def get_dpe_from_url(api_url):\n",
    "    '''Imports a database from an API url.\n",
    "    Args:\n",
    "        api_url (string) : url of the wanted API\n",
    "    Returns:\n",
    "        pandas.DataFrame : dataframe\n",
    "    '''\n",
    "    req=requests.get(api_url)\n",
    "    wb=req.json()\n",
    "    df = pd.json_normalize(wb[\"results\"])\n",
    "    dpe = gpd.GeoDataFrame(df, geometry=gpd.points_from_xy(df.longitude, df.latitude), crs = 4326)\n",
    "    dpe = dpe.dropna(subset = ['longitude', 'latitude'])\n",
    "    return dpe"
   ]
  },
  {
   "cell_type": "code",
   "execution_count": 21,
   "metadata": {},
   "outputs": [],
   "source": [
    "# Il est trop couteux de récupérer l'intégralité des données et nous ne disposons de données météo que pour\n",
    "# certaines communes. L'idée est donc de ne récupérer les données de DPE que pour les communes voulues et de\n",
    "# les agréger dans une unique table de données.\n",
    "\n",
    "def get_dpe_dataset(api_root, communes):\n",
    "    '''\n",
    "    Args : \n",
    "    Returns : \n",
    "    '''"
   ]
  }
 ],
 "metadata": {
  "kernelspec": {
   "display_name": "Python 3 (ipykernel)",
   "language": "python",
   "name": "python3"
  },
  "language_info": {
   "codemirror_mode": {
    "name": "ipython",
    "version": 3
   },
   "file_extension": ".py",
   "mimetype": "text/x-python",
   "name": "python",
   "nbconvert_exporter": "python",
   "pygments_lexer": "ipython3",
   "version": "3.10.13"
  }
 },
 "nbformat": 4,
 "nbformat_minor": 4
}
