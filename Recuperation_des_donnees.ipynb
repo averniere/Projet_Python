{
 "cells": [
  {
   "cell_type": "markdown",
   "metadata": {},
   "source": [
    "## Récupération des données de consommation d'électricité et de températures"
   ]
  },
  {
   "cell_type": "markdown",
   "metadata": {},
   "source": [
    "Dans ce fichier, nous récupérons les données de consommation d'électricité annuelle par département et les valeurs des températures moyennes annuelles par département. Nous mettons en forme les bases de données, dans le but de pouvoir les réutiliser dans la partie modélisation et procédons à une analhyse descriptive non exhaustive des données récupérées. Nos données étant avant tout géographiques, nous choisissons de les visualiser avant tout sous forme de carte. \n",
    "\n",
    "Ce notebook s'organise de la manière suivante :\n",
    "1. Récupération et analyse descriptive des données de consommation annuelle d'électricité par département et par secteur d'activité\n",
    "\n",
    "2. Récupération et visualisation des données de températures annuelles à l'échelle des départements\n",
    "\n",
    "3. Téléchargement des données de consommation d'électricité annuelle par adresse"
   ]
  },
  {
   "cell_type": "code",
   "execution_count": null,
   "metadata": {},
   "outputs": [],
   "source": [
    "!pip install pandas\n",
    "!pip install geopandas\n",
    "!pip install lxml\n",
    "!pip install urllib\n",
    "!pip install matplotlib\n",
    "!pip install requests py7zr geopandas openpyxl tqdm s3fs PyYAML xlrd\n",
    "!pip install git+https://github.com/inseefrlab/cartiflette@80b8a5a28371feb6df31d55bcc2617948a5f9b1a\n",
    "!pip install mapclassify\n",
    "!pip install folium"
   ]
  },
  {
   "cell_type": "code",
   "execution_count": null,
   "metadata": {},
   "outputs": [],
   "source": [
    "import importlib\n",
    "import pandas as pd\n",
    "import requests\n",
    "import geopandas as gpd\n",
    "import declarations as dec\n",
    "import matplotlib.pyplot as plt\n",
    "import mapclassify as mc\n",
    "import folium\n",
    "import os\n",
    "from os.path import isfile\n",
    "import json"
   ]
  },
  {
   "cell_type": "markdown",
   "metadata": {},
   "source": [
    "Notre travail se décompose en deux études à des échelles différentes. Nous nous sommes d'abord donnés pour but d'essayer de prédire la consommation d'électricité du secteur résidentiel en fonction des données météo à l'échelle des départements français.\\\n",
    "En effet, grâce aux données disponibles sur le site de l'Agence ORE (Opérateurs des Réseaux d'Energie), nous récupérons les données de consommation d'électricté du secteur résidentiel à l'échelle des départements pour les années 2011 à 2021. De plus, nous récupérons via l'API \"<i>Température quotidienne départementale depuis janvier 2018</i>\" d'Open Data Réseaux Energie (ODRE) les températures moyennes, minimales et maximales par département.\\\n",
    "La deuxième partie de notre travail sera consacrée, si nous avons le temps, à une régression de la consommation d'électricté sur des variables additionnelles, notamment les Diagnostics de Performance Energétique (DPE), auxquels nous avons uniquement accès par adresse. Nous nous restreindrons alors uniquement aux communes pour lesquelles nous avons aussi pu webscrapper des données météo. \n"
   ]
  },
  {
   "cell_type": "markdown",
   "metadata": {},
   "source": [
    "#### 1- Récupération et analyse descriptive des données de consommation annuelle d'électricité par département et par secteur d'activité"
   ]
  },
  {
   "cell_type": "markdown",
   "metadata": {},
   "source": [
    "Les données que nous récupérons dans cette partie sont disponibles en Open Data sur le site de l'Agence ORE (Opérateur des Réseaux d'Energie). Plus précisément, le jeu de données que nous utilisons est intitulé \"<i>Consommation annuelle d'électricité et gaz par département et par secteur d'activité</i>\" et existe pour les années de 2011 à 2021. Nous ne considérons que la consommation d'électricité du secteur résidentiel. De plus, nous nous restreignons aux départements de France métropolitaine uniquement."
   ]
  },
  {
   "cell_type": "code",
   "execution_count": 3,
   "metadata": {},
   "outputs": [],
   "source": [
    "# Base de données provenant du site de l'Agence ORE\n",
    "df_cons_département=pd.read_csv(dec.cons_département, sep=\";\")\n",
    "\n",
    "# Sélection des départements de métropole uniquement\n",
    "df_cons_département=df_cons_département.loc[~df_cons_département['Code Département'].isin(['971', '972', '973', '974', '975','976'])]"
   ]
  },
  {
   "cell_type": "code",
   "execution_count": 4,
   "metadata": {},
   "outputs": [
    {
     "data": {
      "text/plain": [
       "Index(['Opérateur', 'Année', 'Filière', 'Consommation Agriculture (MWh)',\n",
       "       'Nombre de points Agriculture',\n",
       "       'Nombre de mailles secretisées (agriculture)',\n",
       "       'Indique qualité Agriculture', 'Consommation Industrie (MWh)',\n",
       "       'Nombre de points Industrie',\n",
       "       'Nombre de mailles secretisées (industrie)', 'Indice qualité Industrie',\n",
       "       'Consommation Tertiaire  (MWh)', 'Nombre de points Tertiaire',\n",
       "       'Nombre de mailles secretisées (tertiaire)', 'Indice qualité Tertiaire',\n",
       "       'Consommation Résidentiel  (MWh)', 'Nombre de points Résidentiel',\n",
       "       'Nombre de mailles secretisées (résidentiel)',\n",
       "       'Indice qualité Résidentiel', 'Consommation Secteur Inconnu (MWh)',\n",
       "       'Nombre de points Secteur Inconnu',\n",
       "       'Nombre de mailles secretisées (secteur inconnu)',\n",
       "       'Indice qualité Non Affecté', 'Code Département', 'Libellé Département',\n",
       "       'Code Région', 'Libellé Région', 'id_filiere', 'geom',\n",
       "       'Consommation totale (MWh)'],\n",
       "      dtype='object')"
      ]
     },
     "execution_count": 4,
     "metadata": {},
     "output_type": "execute_result"
    }
   ],
   "source": [
    "df_cons_département.columns"
   ]
  },
  {
   "cell_type": "code",
   "execution_count": 5,
   "metadata": {},
   "outputs": [],
   "source": [
    "# Sélection des variables auxquelles nous nous intéressons\n",
    "variables_cons_département= ['Opérateur', 'Année', 'Filière', \n",
    "                             'Consommation Résidentiel  (MWh)', 'Nombre de points Résidentiel', \n",
    "                             'Nombre de mailles secretisées (résidentiel)','Indice qualité Résidentiel',\n",
    "                             'Code Département', 'Libellé Département','Code Région', 'Libellé Région', \n",
    "                             'id_filiere','Consommation totale (MWh)']\n",
    "liste_département=pd.unique(df_cons_département[\"Libellé Département\"])"
   ]
  },
  {
   "cell_type": "code",
   "execution_count": null,
   "metadata": {},
   "outputs": [],
   "source": [
    "# Récupération du nombre d'habitants par département \n",
    "df_pop=pd.read_json('tables_donnees\\data_pop.json')\n",
    "dico_df_pop={}\n",
    "for annee in range (2011,2021):\n",
    "    df=pd.DataFrame(df_pop[annee])\n",
    "    df['Code Département']=df.index\n",
    "    df=df.loc[~df['Code Département'].isin(['971', '972', '973', '974', '975','976'])]\n",
    "    df=df.rename(columns={annee:'Population'})\n",
    "    dico_df_pop[annee]=df"
   ]
  },
  {
   "cell_type": "code",
   "execution_count": 7,
   "metadata": {},
   "outputs": [
    {
     "data": {
      "text/html": [
       "<div>\n",
       "<style scoped>\n",
       "    .dataframe tbody tr th:only-of-type {\n",
       "        vertical-align: middle;\n",
       "    }\n",
       "\n",
       "    .dataframe tbody tr th {\n",
       "        vertical-align: top;\n",
       "    }\n",
       "\n",
       "    .dataframe thead th {\n",
       "        text-align: right;\n",
       "    }\n",
       "</style>\n",
       "<table border=\"1\" class=\"dataframe\">\n",
       "  <thead>\n",
       "    <tr style=\"text-align: right;\">\n",
       "      <th></th>\n",
       "      <th>Population</th>\n",
       "      <th>Code Département</th>\n",
       "    </tr>\n",
       "  </thead>\n",
       "  <tbody>\n",
       "    <tr>\n",
       "      <th>01</th>\n",
       "      <td>652432</td>\n",
       "      <td>01</td>\n",
       "    </tr>\n",
       "    <tr>\n",
       "      <th>02</th>\n",
       "      <td>531345</td>\n",
       "      <td>02</td>\n",
       "    </tr>\n",
       "    <tr>\n",
       "      <th>03</th>\n",
       "      <td>335975</td>\n",
       "      <td>03</td>\n",
       "    </tr>\n",
       "  </tbody>\n",
       "</table>\n",
       "</div>"
      ],
      "text/plain": [
       "    Population Code Département\n",
       "01      652432               01\n",
       "02      531345               02\n",
       "03      335975               03"
      ]
     },
     "execution_count": 7,
     "metadata": {},
     "output_type": "execute_result"
    }
   ],
   "source": [
    "dico_df_pop[2019].head(3)"
   ]
  },
  {
   "cell_type": "code",
   "execution_count": 8,
   "metadata": {},
   "outputs": [],
   "source": [
    "list_années=range(2011,2021)\n",
    "# Dictionnaire qui à chaque année associe le dataframe de consommation d'électricité \n",
    "# résidentielle par départements :\n",
    "dico_cons_département={} \n",
    "# Dictionnaire qui à chaque année associe le dataframe contenant uniquement : \n",
    "# consommation totale d'électricité et code département :\n",
    "dico_df_cons_tot={}\n",
    "# Dictionnaire qui à chaque année associe la valeur de la consommation totale d'électricité du secteur\n",
    "# résidentiel en France : \n",
    "dico_cons_tot={} \n",
    "for année in list_années:\n",
    "    if année not in dico_cons_département.keys():\n",
    "        df_année=dec.get_data_consumption_department(df_cons_département, année)\n",
    "        dico_cons_département[année]=dec.df_filter(df_année, variables_cons_département) # On sélectionne les variables dont on a besoin\n",
    "        df_cons_tot=dico_cons_département[année].groupby([\"Code Département\",\"Libellé Département\"])['Consommation Résidentiel  (MWh)'].sum().reset_index()\n",
    "        df_cons_tot=df_cons_tot.merge(dico_df_pop[année], how='left', on='Code Département')\n",
    "        df_cons_tot['Consommation Résidentiel par habitant (MWh)']=round(df_cons_tot['Consommation Résidentiel  (MWh)']/df_cons_tot['Population'],3)\n",
    "        dico_df_cons_tot[année]=df_cons_tot\n",
    "        dico_cons_tot[année]=df_cons_tot['Consommation Résidentiel  (MWh)'].sum()\n"
   ]
  },
  {
   "cell_type": "markdown",
   "metadata": {},
   "source": [
    "Premier aperçu de la base de données après sélection des variables d'intérêt : "
   ]
  },
  {
   "cell_type": "code",
   "execution_count": 10,
   "metadata": {},
   "outputs": [
    {
     "data": {
      "text/html": [
       "<div>\n",
       "<style scoped>\n",
       "    .dataframe tbody tr th:only-of-type {\n",
       "        vertical-align: middle;\n",
       "    }\n",
       "\n",
       "    .dataframe tbody tr th {\n",
       "        vertical-align: top;\n",
       "    }\n",
       "\n",
       "    .dataframe thead th {\n",
       "        text-align: right;\n",
       "    }\n",
       "</style>\n",
       "<table border=\"1\" class=\"dataframe\">\n",
       "  <thead>\n",
       "    <tr style=\"text-align: right;\">\n",
       "      <th></th>\n",
       "      <th>Opérateur</th>\n",
       "      <th>Année</th>\n",
       "      <th>Filière</th>\n",
       "      <th>Consommation Résidentiel  (MWh)</th>\n",
       "      <th>Nombre de points Résidentiel</th>\n",
       "      <th>Nombre de mailles secretisées (résidentiel)</th>\n",
       "      <th>Indice qualité Résidentiel</th>\n",
       "      <th>Code Département</th>\n",
       "      <th>Libellé Département</th>\n",
       "      <th>Code Région</th>\n",
       "      <th>Libellé Région</th>\n",
       "      <th>id_filiere</th>\n",
       "      <th>Consommation totale (MWh)</th>\n",
       "    </tr>\n",
       "  </thead>\n",
       "  <tbody>\n",
       "    <tr>\n",
       "      <th>1355</th>\n",
       "      <td>EdF-SEI</td>\n",
       "      <td>2019</td>\n",
       "      <td>Electricité</td>\n",
       "      <td>5.419439e+05</td>\n",
       "      <td>115484</td>\n",
       "      <td>0</td>\n",
       "      <td>0.000</td>\n",
       "      <td>2B</td>\n",
       "      <td>Haute-Corse</td>\n",
       "      <td>94</td>\n",
       "      <td>Corse</td>\n",
       "      <td>100</td>\n",
       "      <td>9.885053e+05</td>\n",
       "    </tr>\n",
       "    <tr>\n",
       "      <th>1356</th>\n",
       "      <td>EdF-SEI</td>\n",
       "      <td>2019</td>\n",
       "      <td>Electricité</td>\n",
       "      <td>0.000000e+00</td>\n",
       "      <td>0</td>\n",
       "      <td>0</td>\n",
       "      <td>0.000</td>\n",
       "      <td>50</td>\n",
       "      <td>Manche</td>\n",
       "      <td>28</td>\n",
       "      <td>Normandie</td>\n",
       "      <td>100</td>\n",
       "      <td>3.885500e+01</td>\n",
       "    </tr>\n",
       "    <tr>\n",
       "      <th>1359</th>\n",
       "      <td>Enedis</td>\n",
       "      <td>2019</td>\n",
       "      <td>Electricité</td>\n",
       "      <td>1.695718e+06</td>\n",
       "      <td>304568</td>\n",
       "      <td>12</td>\n",
       "      <td>0.578</td>\n",
       "      <td>01</td>\n",
       "      <td>Ain</td>\n",
       "      <td>84</td>\n",
       "      <td>Auvergne-Rhône-Alpes</td>\n",
       "      <td>100</td>\n",
       "      <td>4.149650e+06</td>\n",
       "    </tr>\n",
       "  </tbody>\n",
       "</table>\n",
       "</div>"
      ],
      "text/plain": [
       "     Opérateur  Année      Filière  Consommation Résidentiel  (MWh)  \\\n",
       "1355   EdF-SEI   2019  Electricité                     5.419439e+05   \n",
       "1356   EdF-SEI   2019  Electricité                     0.000000e+00   \n",
       "1359    Enedis   2019  Electricité                     1.695718e+06   \n",
       "\n",
       "      Nombre de points Résidentiel  \\\n",
       "1355                        115484   \n",
       "1356                             0   \n",
       "1359                        304568   \n",
       "\n",
       "      Nombre de mailles secretisées (résidentiel)  Indice qualité Résidentiel  \\\n",
       "1355                                            0                       0.000   \n",
       "1356                                            0                       0.000   \n",
       "1359                                           12                       0.578   \n",
       "\n",
       "     Code Département Libellé Département  Code Région        Libellé Région  \\\n",
       "1355               2B         Haute-Corse           94                 Corse   \n",
       "1356               50              Manche           28             Normandie   \n",
       "1359               01                 Ain           84  Auvergne-Rhône-Alpes   \n",
       "\n",
       "      id_filiere  Consommation totale (MWh)  \n",
       "1355         100               9.885053e+05  \n",
       "1356         100               3.885500e+01  \n",
       "1359         100               4.149650e+06  "
      ]
     },
     "execution_count": 10,
     "metadata": {},
     "output_type": "execute_result"
    }
   ],
   "source": [
    "dico_cons_département[2019].head(3)"
   ]
  },
  {
   "cell_type": "code",
   "execution_count": 11,
   "metadata": {},
   "outputs": [
    {
     "data": {
      "text/html": [
       "<div>\n",
       "<style scoped>\n",
       "    .dataframe tbody tr th:only-of-type {\n",
       "        vertical-align: middle;\n",
       "    }\n",
       "\n",
       "    .dataframe tbody tr th {\n",
       "        vertical-align: top;\n",
       "    }\n",
       "\n",
       "    .dataframe thead th {\n",
       "        text-align: right;\n",
       "    }\n",
       "</style>\n",
       "<table border=\"1\" class=\"dataframe\">\n",
       "  <thead>\n",
       "    <tr style=\"text-align: right;\">\n",
       "      <th></th>\n",
       "      <th>Code Département</th>\n",
       "      <th>Libellé Département</th>\n",
       "      <th>Consommation Résidentiel  (MWh)</th>\n",
       "      <th>Population</th>\n",
       "      <th>Consommation Résidentiel par habitant (MWh)</th>\n",
       "    </tr>\n",
       "  </thead>\n",
       "  <tbody>\n",
       "    <tr>\n",
       "      <th>0</th>\n",
       "      <td>01</td>\n",
       "      <td>Ain</td>\n",
       "      <td>1.772622e+06</td>\n",
       "      <td>652432</td>\n",
       "      <td>2.717</td>\n",
       "    </tr>\n",
       "    <tr>\n",
       "      <th>1</th>\n",
       "      <td>02</td>\n",
       "      <td>Aisne</td>\n",
       "      <td>1.302495e+06</td>\n",
       "      <td>531345</td>\n",
       "      <td>2.451</td>\n",
       "    </tr>\n",
       "    <tr>\n",
       "      <th>2</th>\n",
       "      <td>03</td>\n",
       "      <td>Allier</td>\n",
       "      <td>8.791846e+05</td>\n",
       "      <td>335975</td>\n",
       "      <td>2.617</td>\n",
       "    </tr>\n",
       "  </tbody>\n",
       "</table>\n",
       "</div>"
      ],
      "text/plain": [
       "  Code Département Libellé Département  Consommation Résidentiel  (MWh)  \\\n",
       "0               01                 Ain                     1.772622e+06   \n",
       "1               02               Aisne                     1.302495e+06   \n",
       "2               03              Allier                     8.791846e+05   \n",
       "\n",
       "   Population  Consommation Résidentiel par habitant (MWh)  \n",
       "0      652432                                        2.717  \n",
       "1      531345                                        2.451  \n",
       "2      335975                                        2.617  "
      ]
     },
     "execution_count": 11,
     "metadata": {},
     "output_type": "execute_result"
    }
   ],
   "source": [
    "dico_df_cons_tot[2019].head(3)"
   ]
  },
  {
   "cell_type": "code",
   "execution_count": 12,
   "metadata": {},
   "outputs": [],
   "source": [
    "# Création d'un GeoDataFrame des départements français\n",
    "departements=dec.df_filter(dec.dep, dec.var_dep)\n",
    "departements=gpd.GeoDataFrame(departements, geometry=departements['geometry'])\n",
    "departements_json=departements.to_json()"
   ]
  },
  {
   "cell_type": "code",
   "execution_count": 13,
   "metadata": {},
   "outputs": [],
   "source": [
    "# Dictionnaire de GeoDataFrame alliant les données de \"departements\" et les données des dataframes de consommation\n",
    "# pour chaque année.\n",
    "dico_carte={}\n",
    "for annee in list_années:\n",
    "    dico_carte[annee]=gpd.GeoDataFrame(dico_df_cons_tot[annee].merge(departements, left_on='Code Département',\n",
    "                                                    right_on='INSEE_DEP', how='left'))\n",
    "    dico_carte[annee].drop('INSEE_DEP', axis='columns')\n",
    "\n",
    "# Fonction permettant de remplacer les chiffres de la légende par les valeurs des intervalles\n",
    "def replace_legend_items(legend, mapping):\n",
    "    for txt in legend.texts:\n",
    "        for k, v in mapping.items():\n",
    "            if txt.get_text() == str(k):\n",
    "                txt.set_text(v)\n"
   ]
  },
  {
   "cell_type": "code",
   "execution_count": null,
   "metadata": {},
   "outputs": [],
   "source": [
    "# On trace la carte\n",
    "replace=False\n",
    "for annee in [2018,2019,2020]:\n",
    "    q5=mc.Quantiles(dico_carte[annee]['Consommation Résidentiel par habitant (MWh)'], k=5)\n",
    "    mapping=dict([(i, s) for i, s in enumerate(q5.get_legend_classes())])\n",
    "    ax = dico_carte[annee].plot(\n",
    "        column=q5.yb,\n",
    "        categorical=True,\n",
    "        k=5,\n",
    "        cmap=\"OrRd\",\n",
    "        linewidth=0.1,\n",
    "        edgecolor=\"black\",\n",
    "        legend=True,\n",
    "        legend_kwds=dict(loc='lower left',\n",
    "                                bbox_to_anchor=(1, .5),\n",
    "                                fontsize='small',\n",
    "                                title=\"Consommation Résidentiel par Habitant en \"+f\"{annee} (MWh)\",\n",
    "                                frameon=False),\n",
    "    )\n",
    "    \n",
    "    ax.set_axis_off()\n",
    "    replace_legend_items(ax.get_legend(), mapping)\n",
    "    path_to_file='cartes\\conso_'+f\"{annee}.png\"\n",
    "    \n",
    "    if not (isfile (path_to_file) and not replace):\n",
    "        plt.savefig(path_to_file, bbox_inches='tight', pad_inches=0.1) # On enregistre les cartes dans le dossier associé"
   ]
  },
  {
   "cell_type": "markdown",
   "metadata": {},
   "source": [
    "Les cartes montrent de plus grandes valeurs de consommation d'électricité par habitant du secteur résidentiel dan sles départements de l'Ouest et du Sud de la France pour les trois années. Ceci peut paraître surprenant, car l'on s'attendrait à ce que la consommation soit plus importante dans les départements où il fait le plus froid (généralement au Nord) ou où le climat est moins clément, car cela requiert par exemple une plus grande utilisation du chauffage. Bien que ces cartes ne soient que descriptives, elles nous amènent à nous demander si les résultats de consommation ne sont pas aussi influencés par la présence plus importante de résidences secondaires dans le Sud, ou par une répartition particulière de la présence de chauffages électriques entre départements métropolitains. "
   ]
  },
  {
   "cell_type": "markdown",
   "metadata": {},
   "source": [
    "On représente à présent l'évolution de la consommation d'énergie du résidentiel entre 2011 et 2021 :"
   ]
  },
  {
   "cell_type": "code",
   "execution_count": 15,
   "metadata": {},
   "outputs": [
    {
     "data": {
      "image/png": "[encoded data removed]",
      "text/plain": [
       "<Figure size 640x480 with 1 Axes>"
      ]
     },
     "metadata": {},
     "output_type": "display_data"
    }
   ],
   "source": [
    "conso_par_an=list(dico_cons_tot.values())\n",
    "plt.plot(list_années, conso_par_an, marker='o', linestyle='-', color='b')\n",
    "plt.title(\"Évolution de la consommation d'électricité (en MWh) du secteur résidentiel entre 2011 et 2021\")\n",
    "plt.xlabel('Année')\n",
    "plt.ylabel(\"Consommation d'électricité totale (en MWh)\")\n",
    "plt.xticks(list_années)\n",
    "plt.show()"
   ]
  },
  {
   "cell_type": "markdown",
   "metadata": {},
   "source": [
    "Entre 2011 et 2021 la consommation d'électricité totale du secteur résidentiel en France métropolitaine a fortement varié. En particulier, on observe une chute de la consommation du secteur résidentiel entre 2017 et 2018, sa valeur passant de plus de 2x10^8 MWh à 1.6x10^8 MWh. La valeur de la consommation est demeurée stable entre 2018 et 2020 et a amorcé une réaugmentation en 2021.\\\n",
    "Nous ne nous intéresserons cependant pas dans notre projet à l'évolution temporelle de la consommation."
   ]
  },
  {
   "cell_type": "markdown",
   "metadata": {},
   "source": [
    "### 2- Récupération et visualisation des données de températures annuelles à l'échelle des départements"
   ]
  },
  {
   "cell_type": "markdown",
   "metadata": {},
   "source": [
    "Il s'agit à présent de récupérer les températures moyennes annuelles par département pour au moins l'une des années pour lesquelles nous avons des données de consommation. Pour cela nous avons trouvé le jeu de données disponible en Open Data sur le site de l'ODRE, donnant les températures quotidiennes départementales depuis janvier 2018.\\\n",
    "La manière la plus efficace d'obtenir des températures moyennes annuelles (et minimales et maximales puisqu'elles sont aussi à disposition) par département est d'utiliser l'API en effectuant directement la requête adaptée. Dans le cas des températures moyennes, on utilise `group_by(code_insee_departement)` avec `select(avg(tmoy))`."
   ]
  },
  {
   "cell_type": "code",
   "execution_count": 16,
   "metadata": {},
   "outputs": [],
   "source": [
    "# Création d'un dictionnaire qui à chaque année associe un dataframe contenant la température moyenne,\n",
    "# la température minimale et la température maximale enregistrées par département\n",
    "dico_df_temp={}\n",
    "for année in [2018,2019,2020,2021]:\n",
    "    df_tmoy=dec.get_data_from_api(dec.api_root_temp, dec.api_req_tmoy, année)\n",
    "    df_tmin=dec.get_data_from_api(dec.api_root_temp, dec.api_req_tmin, année)\n",
    "    df_tmax=dec.get_data_from_api(dec.api_root_temp, dec.api_req_tmax, année)\n",
    "    res=df_tmax.merge(df_tmin, on='code_insee_departement',how='left')\n",
    "    df_temp=df_tmoy.merge(res, on='code_insee_departement', how='left')\n",
    "    df_temp.rename(columns={'avg(tmoy)':'tmoy', 'max(tmax)':'tmax', 'min(tmin)':'tmin'}, inplace=True)\n",
    "    df_temp=df_temp.drop(['departement_x','departement_y'],axis='columns')\n",
    "    dico_df_temp[année]=df_temp"
   ]
  },
  {
   "cell_type": "markdown",
   "metadata": {},
   "source": [
    "On visualise le dataframe obtenu avec les températures : "
   ]
  },
  {
   "cell_type": "code",
   "execution_count": 17,
   "metadata": {},
   "outputs": [
    {
     "data": {
      "text/html": [
       "<div>\n",
       "<style scoped>\n",
       "    .dataframe tbody tr th:only-of-type {\n",
       "        vertical-align: middle;\n",
       "    }\n",
       "\n",
       "    .dataframe tbody tr th {\n",
       "        vertical-align: top;\n",
       "    }\n",
       "\n",
       "    .dataframe thead th {\n",
       "        text-align: right;\n",
       "    }\n",
       "</style>\n",
       "<table border=\"1\" class=\"dataframe\">\n",
       "  <thead>\n",
       "    <tr style=\"text-align: right;\">\n",
       "      <th></th>\n",
       "      <th>code_insee_departement</th>\n",
       "      <th>departement</th>\n",
       "      <th>tmoy</th>\n",
       "      <th>tmax</th>\n",
       "      <th>tmin</th>\n",
       "    </tr>\n",
       "  </thead>\n",
       "  <tbody>\n",
       "    <tr>\n",
       "      <th>0</th>\n",
       "      <td>01</td>\n",
       "      <td>Ain</td>\n",
       "      <td>12.291096</td>\n",
       "      <td>38.4</td>\n",
       "      <td>-6.8</td>\n",
       "    </tr>\n",
       "    <tr>\n",
       "      <th>1</th>\n",
       "      <td>02</td>\n",
       "      <td>Aisne</td>\n",
       "      <td>11.403151</td>\n",
       "      <td>40.7</td>\n",
       "      <td>-5.7</td>\n",
       "    </tr>\n",
       "    <tr>\n",
       "      <th>2</th>\n",
       "      <td>03</td>\n",
       "      <td>Allier</td>\n",
       "      <td>12.577397</td>\n",
       "      <td>41.3</td>\n",
       "      <td>-7.0</td>\n",
       "    </tr>\n",
       "  </tbody>\n",
       "</table>\n",
       "</div>"
      ],
      "text/plain": [
       "  code_insee_departement departement       tmoy  tmax  tmin\n",
       "0                     01         Ain  12.291096  38.4  -6.8\n",
       "1                     02       Aisne  11.403151  40.7  -5.7\n",
       "2                     03      Allier  12.577397  41.3  -7.0"
      ]
     },
     "execution_count": 17,
     "metadata": {},
     "output_type": "execute_result"
    }
   ],
   "source": [
    "dico_df_temp[2019].head(3)"
   ]
  },
  {
   "cell_type": "code",
   "execution_count": null,
   "metadata": {},
   "outputs": [],
   "source": [
    "# Fonction permettant d'ajouter le bon argument 'Légende' au dataframe 'departements', dans le but d'ajouter des\n",
    "# étiquettes à la carte folium créée par la suite.\n",
    "\n",
    "def f(df, gdf):\n",
    "    '''Ajoute une colonne 'Legende' au GeoDataFrame 'departements', en prenant les valeurs de températures \n",
    "    moyennes, minimales et maximales pour un DataFrame du dictionnaire 'dico_df_temp'.\n",
    "    Entrées:\n",
    "            df (DataFrame) : dans cette fonction un des DataFrames de 'dico_df_temp'\n",
    "            gdf (GeoDataFrame) : dans cette fonction le GeoDataFrame 'departements'\n",
    "    Sortie:\n",
    "            new_df (GeoDataFrame) : 'departements' auquel a été ajoutée une colonne 'Légende\n",
    "    '''\n",
    "    new_df=gdf\n",
    "    new_df['Legende']=[0 for ligne in new_df.iterrows()]\n",
    "    for code_dep in new_df['INSEE_DEP']:\n",
    "        nom_dep=new_df.loc[new_df['INSEE_DEP'] == code_dep, 'NOM'].iloc[0]\n",
    "        t_moy=df.loc[df['code_insee_departement']== code_dep,'tmoy'].iloc[0]\n",
    "        t_min=df.loc[df['code_insee_departement']== code_dep,'tmin'].iloc[0]\n",
    "        t_max=df.loc[df['code_insee_departement']== code_dep,'tmax'].iloc[0]\n",
    "        new_df['Legende'][new_df['INSEE_DEP'] == code_dep]=f'{nom_dep} : tmoy={round(t_moy)}°C ; tmin={round(t_min)}°C ; tmax={round(t_max)}°C'\n",
    "    return new_df\n",
    "\n",
    "dep_2019=f(dico_df_temp[2019],departements)"
   ]
  },
  {
   "cell_type": "code",
   "execution_count": null,
   "metadata": {},
   "outputs": [],
   "source": [
    "# Carte des températures moyennes\n",
    "center_latitude = departements['geometry'].centroid.y.mean()\n",
    "center_longitude = departements['geometry'].centroid.x.mean()\n",
    "\n",
    "m = folium.Map(location=[center_latitude, center_longitude], zoom_start=5, tiles='cartodbpositron')\n",
    "\n",
    "chloropleth_temp=folium.Choropleth(geo_data=dep_2019,\n",
    "    data=dico_df_temp[2019],\n",
    "    columns=['code_insee_departement','tmoy'],\n",
    "    fill_color=\"OrRd\",  # Colormap\n",
    "    key_on='feature.properties.INSEE_DEP',\n",
    "    fill_opacity=0.7,\n",
    "    legend_name='Température moyenne (°C)',  # Nom de la légende\n",
    "    highlight=True,\n",
    "    nan_fill_color='blue',  # Couleur pour les valeurs manquantes\n",
    ")\n",
    "chloropleth_temp.geojson.add_child(\n",
    "    folium.features.GeoJsonTooltip(['Legende'],labels=False))\n",
    "chloropleth_temp.add_to(m)\n",
    "#display(m) (La carte est trop volumineuse pour être visualisable sur github)"
   ]
  },
  {
   "cell_type": "markdown",
   "metadata": {},
   "source": [
    "La carte obtenue montre des températures moyennes élevées dans le Sud-Ouest de la France, sur la côte Atlantique, ainsi que dans les départements situés sur la côte méditerranéenne. Ces températures sont supérieures à 15°C et atteignent jusqu'à 18°C de moyenne en Haute Corse. Dans le reste des départements de France métropolitaine, les températures moyennes en 2020 avoisinent les 13°C. Les départements les plus froids sont la Lozère, la Haute-Savoie, les Ardennes et la Haute Loire, avec des températures annuelles moyennes de 11°C et 10°C."
   ]
  },
  {
   "cell_type": "code",
   "execution_count": 20,
   "metadata": {},
   "outputs": [
    {
     "data": {
      "image/png": "[encoded data removed]",
      "text/plain": [
       "<Figure size 640x480 with 3 Axes>"
      ]
     },
     "metadata": {},
     "output_type": "display_data"
    }
   ],
   "source": [
    "# Distributions des températures moyennes, minimales et maximales en 2020\n",
    "plt.subplot(3,1,1)\n",
    "(markers, stemlines, baseline) = plt.stem(dico_df_temp[2019]['tmoy']) \n",
    "plt.setp(stemlines, linestyle=\"-\", color=\"olive\", linewidth=0.5 )\n",
    "plt.title('Températures moyennes des départements de France en 2019')\n",
    "plt.ylabel('Températures moyennes (°C)')\n",
    "\n",
    "plt.subplot(3,1,2)\n",
    "(markers1, stemlines1, baseline1) = plt.stem(dico_df_temp[2019]['tmax'])\n",
    "plt.setp(stemlines1, linestyle=\"-\", color=\"olive\", linewidth=0.5 )\n",
    "plt.title('Températures maximales des départements de France en 2019')\n",
    "plt.ylabel('Températures maximales (°C)')\n",
    "\n",
    "plt.subplot(3,1,3)\n",
    "(markers2, stemlines2, baseline2) = plt.stem(dico_df_temp[2019]['tmin'])\n",
    "plt.setp(stemlines2, linestyle=\"-\", color=\"olive\", linewidth=0.5 )\n",
    "plt.title('Températures minimales des départements de France en 2019')\n",
    "plt.ylabel('Températures minimales (°C)')\n",
    "\n",
    "plt.tight_layout()\n",
    "plt.subplots_adjust(top=1.4, bottom=0.1, left=0.1, right=1.2, hspace=1., wspace=2)\n",
    "plt.show()"
   ]
  },
  {
   "cell_type": "markdown",
   "metadata": {},
   "source": [
    "### 3- Téléchargement des données de consommation d'électricité annuelle par adresse"
   ]
  },
  {
   "cell_type": "markdown",
   "metadata": {},
   "source": [
    "Nous chargeons dans cette partie les données de consommation d'électricité par adresse disponibles sur le site Open Data d'Enedis, sous le titre \"<i>Consommation annuelle résidentielle par adresse</i>\". Ces données sont utilisées dans l'étude à l'échelle des communes/adresses."
   ]
  },
  {
   "cell_type": "code",
   "execution_count": null,
   "metadata": {},
   "outputs": [],
   "source": [
    "df_cons_2018=dec.get_data_consumption(dec.consumption_data_url_2018, \"2018\")\n",
    "df_cons_2019=dec.get_data_consumption(dec.consumption_data_url_2019, \"2019\")\n",
    "df_cons_2020=dec.get_data_consumption(dec.consumption_data_url_2020, \"2020\")\n",
    "df_cons_2021=dec.get_data_consumption(dec.consumption_data_url_2021, \"2021\")"
   ]
  }
 ],
 "metadata": {
  "kernelspec": {
   "display_name": "Python 3",
   "language": "python",
   "name": "python3"
  },
  "language_info": {
   "codemirror_mode": {
    "name": "ipython",
    "version": 3
   },
   "file_extension": ".py",
   "mimetype": "text/x-python",
   "name": "python",
   "nbconvert_exporter": "python",
   "pygments_lexer": "ipython3",
   "version": "3.10.11"
  }
 },
 "nbformat": 4,
 "nbformat_minor": 2
}
