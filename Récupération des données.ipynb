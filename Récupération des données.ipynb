{
 "cells": [
  {
   "cell_type": "code",
   "execution_count": 3,
   "metadata": {},
   "outputs": [
    {
     "name": "stdout",
     "output_type": "stream",
     "text": [
      "Requirement already satisfied: pandas in c:\\users\\auran\\appdata\\local\\packages\\pythonsoftwarefoundation.python.3.10_qbz5n2kfra8p0\\localcache\\local-packages\\python310\\site-packages (2.1.3)Note: you may need to restart the kernel to use updated packages.\n"
     ]
    },
    {
     "name": "stderr",
     "output_type": "stream",
     "text": [
      "\n",
      "[notice] A new release of pip is available: 23.0.1 -> 23.3.1\n",
      "[notice] To update, run: C:\\Users\\auran\\AppData\\Local\\Microsoft\\WindowsApps\\PythonSoftwareFoundation.Python.3.10_qbz5n2kfra8p0\\python.exe -m pip install --upgrade pip\n"
     ]
    },
    {
     "name": "stdout",
     "output_type": "stream",
     "text": [
      "\n",
      "Requirement already satisfied: pytz>=2020.1 in c:\\users\\auran\\appdata\\local\\packages\\pythonsoftwarefoundation.python.3.10_qbz5n2kfra8p0\\localcache\\local-packages\\python310\\site-packages (from pandas) (2023.3.post1)\n",
      "Requirement already satisfied: tzdata>=2022.1 in c:\\users\\auran\\appdata\\local\\packages\\pythonsoftwarefoundation.python.3.10_qbz5n2kfra8p0\\localcache\\local-packages\\python310\\site-packages (from pandas) (2023.3)\n",
      "Requirement already satisfied: numpy<2,>=1.22.4 in c:\\users\\auran\\appdata\\local\\packages\\pythonsoftwarefoundation.python.3.10_qbz5n2kfra8p0\\localcache\\local-packages\\python310\\site-packages (from pandas) (1.26.2)\n",
      "Requirement already satisfied: python-dateutil>=2.8.2 in c:\\users\\auran\\appdata\\local\\packages\\pythonsoftwarefoundation.python.3.10_qbz5n2kfra8p0\\localcache\\local-packages\\python310\\site-packages (from pandas) (2.8.2)\n",
      "Requirement already satisfied: six>=1.5 in c:\\users\\auran\\appdata\\local\\packages\\pythonsoftwarefoundation.python.3.10_qbz5n2kfra8p0\\localcache\\local-packages\\python310\\site-packages (from python-dateutil>=2.8.2->pandas) (1.16.0)\n"
     ]
    },
    {
     "name": "stderr",
     "output_type": "stream",
     "text": [
      "\n",
      "[notice] A new release of pip is available: 23.0.1 -> 23.3.1\n",
      "[notice] To update, run: C:\\Users\\auran\\AppData\\Local\\Microsoft\\WindowsApps\\PythonSoftwareFoundation.Python.3.10_qbz5n2kfra8p0\\python.exe -m pip install --upgrade pip\n"
     ]
    },
    {
     "name": "stdout",
     "output_type": "stream",
     "text": [
      "Collecting pandas\n",
      "  Downloading pandas-2.1.3-cp310-cp310-win_amd64.whl (10.7 MB)\n",
      "     ---------------------------------------- 0.0/10.7 MB ? eta -:--:--\n",
      "      --------------------------------------- 0.2/10.7 MB 5.0 MB/s eta 0:00:03\n",
      "     - -------------------------------------- 0.5/10.7 MB 6.2 MB/s eta 0:00:02\n",
      "     -- ------------------------------------- 0.8/10.7 MB 6.0 MB/s eta 0:00:02\n",
      "     --- ------------------------------------ 1.0/10.7 MB 6.5 MB/s eta 0:00:02\n",
      "     ---- ----------------------------------- 1.3/10.7 MB 6.5 MB/s eta 0:00:02\n",
      "     ------ --------------------------------- 1.8/10.7 MB 6.5 MB/s eta 0:00:02\n",
      "     ------- -------------------------------- 2.0/10.7 MB 6.9 MB/s eta 0:00:02\n",
      "     --------- ------------------------------ 2.5/10.7 MB 7.2 MB/s eta 0:00:02\n",
      "     ---------- ----------------------------- 2.8/10.7 MB 7.2 MB/s eta 0:00:02\n",
      "     ------------ --------------------------- 3.2/10.7 MB 7.4 MB/s eta 0:00:02\n",
      "     ------------- -------------------------- 3.6/10.7 MB 7.7 MB/s eta 0:00:01\n",
      "     --------------- ------------------------ 4.0/10.7 MB 7.5 MB/s eta 0:00:01\n",
      "     ---------------- ----------------------- 4.5/10.7 MB 7.7 MB/s eta 0:00:01\n",
      "     ------------------ --------------------- 4.9/10.7 MB 7.8 MB/s eta 0:00:01\n",
      "     ------------------- -------------------- 5.2/10.7 MB 8.0 MB/s eta 0:00:01\n",
      "     -------------------- ------------------- 5.6/10.7 MB 7.9 MB/s eta 0:00:01\n",
      "     ---------------------- ----------------- 6.0/10.7 MB 7.8 MB/s eta 0:00:01\n",
      "     ----------------------- ---------------- 6.4/10.7 MB 7.9 MB/s eta 0:00:01\n",
      "     ------------------------- -------------- 6.7/10.7 MB 7.9 MB/s eta 0:00:01\n",
      "     -------------------------- ------------- 7.0/10.7 MB 7.9 MB/s eta 0:00:01\n",
      "     --------------------------- ------------ 7.4/10.7 MB 7.9 MB/s eta 0:00:01\n",
      "     ----------------------------- ---------- 7.7/10.7 MB 7.9 MB/s eta 0:00:01\n",
      "     ------------------------------ --------- 8.1/10.7 MB 7.8 MB/s eta 0:00:01\n",
      "     ------------------------------- -------- 8.5/10.7 MB 7.8 MB/s eta 0:00:01\n",
      "     --------------------------------- ------ 8.9/10.7 MB 7.9 MB/s eta 0:00:01\n",
      "     ---------------------------------- ----- 9.2/10.7 MB 7.9 MB/s eta 0:00:01\n",
      "     ------------------------------------ --- 9.6/10.7 MB 7.9 MB/s eta 0:00:01\n",
      "     ------------------------------------- -- 10.0/10.7 MB 7.9 MB/s eta 0:00:01\n",
      "     -------------------------------------- - 10.2/10.7 MB 7.8 MB/s eta 0:00:01\n",
      "     ---------------------------------------  10.5/10.7 MB 8.0 MB/s eta 0:00:01\n",
      "     ---------------------------------------  10.7/10.7 MB 8.0 MB/s eta 0:00:01\n",
      "     ---------------------------------------- 10.7/10.7 MB 7.7 MB/s eta 0:00:00\n",
      "Collecting pytz>=2020.1\n",
      "  Downloading pytz-2023.3.post1-py2.py3-none-any.whl (502 kB)\n",
      "     ---------------------------------------- 0.0/502.5 kB ? eta -:--:--\n",
      "     ------------------ ------------------- 245.8/502.5 kB 7.6 MB/s eta 0:00:01\n",
      "     ------------------------------------ - 481.3/502.5 kB 6.0 MB/s eta 0:00:01\n",
      "     -------------------------------------- 502.5/502.5 kB 5.2 MB/s eta 0:00:00\n",
      "Requirement already satisfied: python-dateutil>=2.8.2 in c:\\users\\auran\\appdata\\local\\packages\\pythonsoftwarefoundation.python.3.10_qbz5n2kfra8p0\\localcache\\local-packages\\python310\\site-packages (from pandas) (2.8.2)\n",
      "Collecting tzdata>=2022.1\n",
      "  Downloading tzdata-2023.3-py2.py3-none-any.whl (341 kB)\n",
      "     ---------------------------------------- 0.0/341.8 kB ? eta -:--:--\n",
      "     ------------------------------------  337.9/341.8 kB 10.6 MB/s eta 0:00:01\n",
      "     -------------------------------------- 341.8/341.8 kB 7.1 MB/s eta 0:00:00\n",
      "Collecting numpy<2,>=1.22.4\n",
      "  Downloading numpy-1.26.2-cp310-cp310-win_amd64.whl (15.8 MB)\n",
      "     ---------------------------------------- 0.0/15.8 MB ? eta -:--:--\n",
      "      --------------------------------------- 0.3/15.8 MB 10.6 MB/s eta 0:00:02\n",
      "     - -------------------------------------- 0.7/15.8 MB 7.0 MB/s eta 0:00:03\n",
      "     -- ------------------------------------- 1.0/15.8 MB 7.0 MB/s eta 0:00:03\n",
      "     --- ------------------------------------ 1.4/15.8 MB 7.2 MB/s eta 0:00:03\n",
      "     ---- ----------------------------------- 1.6/15.8 MB 7.4 MB/s eta 0:00:02\n",
      "     ----- ---------------------------------- 2.1/15.8 MB 7.7 MB/s eta 0:00:02\n",
      "     ------ --------------------------------- 2.5/15.8 MB 7.9 MB/s eta 0:00:02\n",
      "     ------- -------------------------------- 2.8/15.8 MB 7.5 MB/s eta 0:00:02\n",
      "     ------- -------------------------------- 3.2/15.8 MB 7.7 MB/s eta 0:00:02\n",
      "     -------- ------------------------------- 3.5/15.8 MB 7.8 MB/s eta 0:00:02\n",
      "     --------- ------------------------------ 3.8/15.8 MB 7.6 MB/s eta 0:00:02\n",
      "     ---------- ----------------------------- 4.1/15.8 MB 7.8 MB/s eta 0:00:02\n",
      "     ----------- ---------------------------- 4.5/15.8 MB 7.6 MB/s eta 0:00:02\n",
      "     ------------ --------------------------- 4.8/15.8 MB 7.4 MB/s eta 0:00:02\n",
      "     ------------ --------------------------- 5.0/15.8 MB 7.4 MB/s eta 0:00:02\n",
      "     ------------- -------------------------- 5.3/15.8 MB 7.3 MB/s eta 0:00:02\n",
      "     -------------- ------------------------- 5.6/15.8 MB 7.3 MB/s eta 0:00:02\n",
      "     --------------- ------------------------ 6.0/15.8 MB 7.4 MB/s eta 0:00:02\n",
      "     ---------------- ----------------------- 6.3/15.8 MB 7.2 MB/s eta 0:00:02\n",
      "     ----------------- ---------------------- 6.7/15.8 MB 7.4 MB/s eta 0:00:02\n",
      "     ------------------ --------------------- 7.1/15.8 MB 7.5 MB/s eta 0:00:02\n",
      "     ------------------ --------------------- 7.5/15.8 MB 7.4 MB/s eta 0:00:02\n",
      "     ------------------- -------------------- 7.8/15.8 MB 7.5 MB/s eta 0:00:02\n",
      "     -------------------- ------------------- 8.1/15.8 MB 7.4 MB/s eta 0:00:02\n",
      "     --------------------- ------------------ 8.5/15.8 MB 7.5 MB/s eta 0:00:01\n",
      "     ---------------------- ----------------- 8.9/15.8 MB 7.5 MB/s eta 0:00:01\n",
      "     ----------------------- ---------------- 9.2/15.8 MB 7.6 MB/s eta 0:00:01\n",
      "     ------------------------ --------------- 9.7/15.8 MB 7.6 MB/s eta 0:00:01\n",
      "     ------------------------- -------------- 10.0/15.8 MB 7.6 MB/s eta 0:00:01\n",
      "     -------------------------- ------------- 10.4/15.8 MB 7.6 MB/s eta 0:00:01\n",
      "     --------------------------- ------------ 10.7/15.8 MB 7.6 MB/s eta 0:00:01\n",
      "     ---------------------------- ----------- 11.1/15.8 MB 7.7 MB/s eta 0:00:01\n",
      "     ----------------------------- ---------- 11.5/15.8 MB 7.7 MB/s eta 0:00:01\n",
      "     ------------------------------ --------- 11.9/15.8 MB 7.8 MB/s eta 0:00:01\n",
      "     ------------------------------- -------- 12.3/15.8 MB 7.8 MB/s eta 0:00:01\n",
      "     ------------------------------- -------- 12.5/15.8 MB 7.8 MB/s eta 0:00:01\n",
      "     -------------------------------- ------- 12.9/15.8 MB 7.8 MB/s eta 0:00:01\n",
      "     --------------------------------- ------ 13.3/15.8 MB 7.8 MB/s eta 0:00:01\n",
      "     ---------------------------------- ----- 13.7/15.8 MB 7.8 MB/s eta 0:00:01\n",
      "     ----------------------------------- ---- 14.1/15.8 MB 7.8 MB/s eta 0:00:01\n",
      "     ------------------------------------ --- 14.4/15.8 MB 7.9 MB/s eta 0:00:01\n",
      "     ------------------------------------- -- 14.8/15.8 MB 8.0 MB/s eta 0:00:01\n",
      "     -------------------------------------- - 15.2/15.8 MB 8.0 MB/s eta 0:00:01\n",
      "     ---------------------------------------  15.5/15.8 MB 8.1 MB/s eta 0:00:01\n",
      "     ---------------------------------------  15.8/15.8 MB 8.1 MB/s eta 0:00:01\n",
      "     ---------------------------------------- 15.8/15.8 MB 7.8 MB/s eta 0:00:00\n",
      "Requirement already satisfied: six>=1.5 in c:\\users\\auran\\appdata\\local\\packages\\pythonsoftwarefoundation.python.3.10_qbz5n2kfra8p0\\localcache\\local-packages\\python310\\site-packages (from python-dateutil>=2.8.2->pandas) (1.16.0)\n",
      "Installing collected packages: pytz, tzdata, numpy, pandas\n",
      "Successfully installed numpy-1.26.2 pandas-2.1.3 pytz-2023.3.post1 tzdata-2023.3\n"
     ]
    }
   ],
   "source": [
    "pip install pandas"
   ]
  },
  {
   "cell_type": "code",
   "execution_count": 7,
   "metadata": {},
   "outputs": [],
   "source": [
    "import pandas as pd\n",
    "import requests"
   ]
  },
  {
   "cell_type": "code",
   "execution_count": 13,
   "metadata": {},
   "outputs": [],
   "source": [
    "\n"
   ]
  }
 ],
 "metadata": {
  "kernelspec": {
   "display_name": "Python 3",
   "language": "python",
   "name": "python3"
  },
  "language_info": {
   "codemirror_mode": {
    "name": "ipython",
    "version": 3
   },
   "file_extension": ".py",
   "mimetype": "text/x-python",
   "name": "python",
   "nbconvert_exporter": "python",
   "pygments_lexer": "ipython3",
   "version": "3.10.11"
  }
 },
 "nbformat": 4,
 "nbformat_minor": 2
}
