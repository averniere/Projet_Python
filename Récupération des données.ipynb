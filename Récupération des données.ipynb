{
 "cells": [
  {
   "cell_type": "code",
   "execution_count": 15,
   "metadata": {},
   "outputs": [
    {
     "name": "stdout",
     "output_type": "stream",
     "text": [
      "Requirement already satisfied: pandas in c:\\users\\auran\\appdata\\local\\packages\\pythonsoftwarefoundation.python.3.10_qbz5n2kfra8p0\\localcache\\local-packages\\python310\\site-packages (2.1.3)\n",
      "Requirement already satisfied: numpy<2,>=1.22.4 in c:\\users\\auran\\appdata\\local\\packages\\pythonsoftwarefoundation.python.3.10_qbz5n2kfra8p0\\localcache\\local-packages\\python310\\site-packages (from pandas) (1.26.2)\n",
      "Requirement already satisfied: python-dateutil>=2.8.2 in c:\\users\\auran\\appdata\\local\\packages\\pythonsoftwarefoundation.python.3.10_qbz5n2kfra8p0\\localcache\\local-packages\\python310\\site-packages (from pandas) (2.8.2)\n",
      "Requirement already satisfied: pytz>=2020.1 in c:\\users\\auran\\appdata\\local\\packages\\pythonsoftwarefoundation.python.3.10_qbz5n2kfra8p0\\localcache\\local-packages\\python310\\site-packages (from pandas) (2023.3.post1)\n",
      "Requirement already satisfied: tzdata>=2022.1 in c:\\users\\auran\\appdata\\local\\packages\\pythonsoftwarefoundation.python.3.10_qbz5n2kfra8p0\\localcache\\local-packages\\python310\\site-packages (from pandas) (2023.3)\n",
      "Requirement already satisfied: six>=1.5 in c:\\users\\auran\\appdata\\local\\packages\\pythonsoftwarefoundation.python.3.10_qbz5n2kfra8p0\\localcache\\local-packages\\python310\\site-packages (from python-dateutil>=2.8.2->pandas) (1.16.0)\n",
      "Collecting geopandas\n",
      "  Downloading geopandas-0.14.1-py3-none-any.whl.metadata (1.5 kB)\n",
      "Collecting fiona>=1.8.21 (from geopandas)\n",
      "  Downloading fiona-1.9.5-cp310-cp310-win_amd64.whl.metadata (51 kB)\n",
      "     ---------------------------------------- 0.0/51.1 kB ? eta -:--:--\n",
      "     ------------------------------ ------- 41.0/51.1 kB 960.0 kB/s eta 0:00:01\n",
      "     -------------------------------------- 51.1/51.1 kB 648.8 kB/s eta 0:00:00\n",
      "Requirement already satisfied: packaging in c:\\users\\auran\\appdata\\local\\packages\\pythonsoftwarefoundation.python.3.10_qbz5n2kfra8p0\\localcache\\local-packages\\python310\\site-packages (from geopandas) (23.0)\n",
      "Requirement already satisfied: pandas>=1.4.0 in c:\\users\\auran\\appdata\\local\\packages\\pythonsoftwarefoundation.python.3.10_qbz5n2kfra8p0\\localcache\\local-packages\\python310\\site-packages (from geopandas) (2.1.3)\n",
      "Collecting pyproj>=3.3.0 (from geopandas)\n",
      "  Downloading pyproj-3.6.1-cp310-cp310-win_amd64.whl.metadata (31 kB)\n",
      "Collecting shapely>=1.8.0 (from geopandas)\n",
      "  Downloading shapely-2.0.2-cp310-cp310-win_amd64.whl.metadata (7.2 kB)\n",
      "Requirement already satisfied: attrs>=19.2.0 in c:\\users\\auran\\appdata\\local\\packages\\pythonsoftwarefoundation.python.3.10_qbz5n2kfra8p0\\localcache\\local-packages\\python310\\site-packages (from fiona>=1.8.21->geopandas) (22.2.0)\n",
      "Requirement already satisfied: certifi in c:\\users\\auran\\appdata\\local\\packages\\pythonsoftwarefoundation.python.3.10_qbz5n2kfra8p0\\localcache\\local-packages\\python310\\site-packages (from fiona>=1.8.21->geopandas) (2022.12.7)\n",
      "Collecting click~=8.0 (from fiona>=1.8.21->geopandas)\n",
      "  Downloading click-8.1.7-py3-none-any.whl.metadata (3.0 kB)\n",
      "Collecting click-plugins>=1.0 (from fiona>=1.8.21->geopandas)\n",
      "  Downloading click_plugins-1.1.1-py2.py3-none-any.whl (7.5 kB)\n",
      "Collecting cligj>=0.5 (from fiona>=1.8.21->geopandas)\n",
      "  Downloading cligj-0.7.2-py3-none-any.whl (7.1 kB)\n",
      "Requirement already satisfied: six in c:\\users\\auran\\appdata\\local\\packages\\pythonsoftwarefoundation.python.3.10_qbz5n2kfra8p0\\localcache\\local-packages\\python310\\site-packages (from fiona>=1.8.21->geopandas) (1.16.0)\n",
      "Requirement already satisfied: setuptools in c:\\program files\\windowsapps\\pythonsoftwarefoundation.python.3.10_3.10.3056.0_x64__qbz5n2kfra8p0\\lib\\site-packages (from fiona>=1.8.21->geopandas) (65.5.0)\n",
      "Requirement already satisfied: numpy<2,>=1.22.4 in c:\\users\\auran\\appdata\\local\\packages\\pythonsoftwarefoundation.python.3.10_qbz5n2kfra8p0\\localcache\\local-packages\\python310\\site-packages (from pandas>=1.4.0->geopandas) (1.26.2)\n",
      "Requirement already satisfied: python-dateutil>=2.8.2 in c:\\users\\auran\\appdata\\local\\packages\\pythonsoftwarefoundation.python.3.10_qbz5n2kfra8p0\\localcache\\local-packages\\python310\\site-packages (from pandas>=1.4.0->geopandas) (2.8.2)\n",
      "Requirement already satisfied: pytz>=2020.1 in c:\\users\\auran\\appdata\\local\\packages\\pythonsoftwarefoundation.python.3.10_qbz5n2kfra8p0\\localcache\\local-packages\\python310\\site-packages (from pandas>=1.4.0->geopandas) (2023.3.post1)\n",
      "Requirement already satisfied: tzdata>=2022.1 in c:\\users\\auran\\appdata\\local\\packages\\pythonsoftwarefoundation.python.3.10_qbz5n2kfra8p0\\localcache\\local-packages\\python310\\site-packages (from pandas>=1.4.0->geopandas) (2023.3)\n",
      "Requirement already satisfied: colorama in c:\\users\\auran\\appdata\\local\\packages\\pythonsoftwarefoundation.python.3.10_qbz5n2kfra8p0\\localcache\\local-packages\\python310\\site-packages (from click~=8.0->fiona>=1.8.21->geopandas) (0.4.6)\n",
      "Downloading geopandas-0.14.1-py3-none-any.whl (1.1 MB)\n",
      "   ---------------------------------------- 0.0/1.1 MB ? eta -:--:--\n",
      "   -------- ------------------------------- 0.2/1.1 MB 6.9 MB/s eta 0:00:01\n",
      "   ------------------- -------------------- 0.5/1.1 MB 5.6 MB/s eta 0:00:01\n",
      "   -------------------------------- ------- 0.9/1.1 MB 7.1 MB/s eta 0:00:01\n",
      "   ---------------------------------------  1.1/1.1 MB 7.8 MB/s eta 0:00:01\n",
      "   ---------------------------------------- 1.1/1.1 MB 6.4 MB/s eta 0:00:00\n",
      "Downloading fiona-1.9.5-cp310-cp310-win_amd64.whl (22.9 MB)\n",
      "   ---------------------------------------- 0.0/22.9 MB ? eta -:--:--\n",
      "    --------------------------------------- 0.4/22.9 MB 8.5 MB/s eta 0:00:03\n",
      "   - -------------------------------------- 0.8/22.9 MB 10.0 MB/s eta 0:00:03\n",
      "   -- ------------------------------------- 1.2/22.9 MB 9.6 MB/s eta 0:00:03\n",
      "   -- ------------------------------------- 1.7/22.9 MB 9.6 MB/s eta 0:00:03\n",
      "   --- ------------------------------------ 2.0/22.9 MB 8.9 MB/s eta 0:00:03\n",
      "   --- ------------------------------------ 2.2/22.9 MB 8.4 MB/s eta 0:00:03\n",
      "   ---- ----------------------------------- 2.6/22.9 MB 8.3 MB/s eta 0:00:03\n",
      "   ----- ---------------------------------- 3.0/22.9 MB 8.4 MB/s eta 0:00:03\n",
      "   ------ --------------------------------- 3.4/22.9 MB 8.1 MB/s eta 0:00:03\n",
      "   ------ --------------------------------- 3.8/22.9 MB 8.6 MB/s eta 0:00:03\n",
      "   ------- -------------------------------- 4.2/22.9 MB 8.3 MB/s eta 0:00:03\n",
      "   ------- -------------------------------- 4.5/22.9 MB 8.2 MB/s eta 0:00:03\n",
      "   -------- ------------------------------- 4.9/22.9 MB 8.3 MB/s eta 0:00:03\n",
      "   --------- ------------------------------ 5.3/22.9 MB 8.4 MB/s eta 0:00:03\n",
      "   --------- ------------------------------ 5.7/22.9 MB 8.5 MB/s eta 0:00:03\n",
      "   ---------- ----------------------------- 6.1/22.9 MB 8.4 MB/s eta 0:00:02\n",
      "   ----------- ---------------------------- 6.4/22.9 MB 8.2 MB/s eta 0:00:03\n",
      "   ----------- ---------------------------- 6.8/22.9 MB 8.4 MB/s eta 0:00:02\n",
      "   ------------ --------------------------- 7.2/22.9 MB 8.3 MB/s eta 0:00:02\n",
      "   ------------- -------------------------- 7.6/22.9 MB 8.3 MB/s eta 0:00:02\n",
      "   ------------- -------------------------- 7.9/22.9 MB 8.4 MB/s eta 0:00:02\n",
      "   -------------- ------------------------- 8.3/22.9 MB 8.5 MB/s eta 0:00:02\n",
      "   --------------- ------------------------ 8.8/22.9 MB 8.4 MB/s eta 0:00:02\n",
      "   ---------------- ----------------------- 9.2/22.9 MB 8.4 MB/s eta 0:00:02\n",
      "   ---------------- ----------------------- 9.6/22.9 MB 8.5 MB/s eta 0:00:02\n",
      "   ----------------- ---------------------- 10.0/22.9 MB 8.5 MB/s eta 0:00:02\n",
      "   ------------------ --------------------- 10.4/22.9 MB 8.5 MB/s eta 0:00:02\n",
      "   ------------------ --------------------- 10.8/22.9 MB 8.5 MB/s eta 0:00:02\n",
      "   ------------------- -------------------- 11.2/22.9 MB 8.5 MB/s eta 0:00:02\n",
      "   -------------------- ------------------- 11.6/22.9 MB 8.4 MB/s eta 0:00:02\n",
      "   -------------------- ------------------- 12.0/22.9 MB 8.5 MB/s eta 0:00:02\n",
      "   --------------------- ------------------ 12.3/22.9 MB 8.5 MB/s eta 0:00:02\n",
      "   --------------------- ------------------ 12.6/22.9 MB 8.5 MB/s eta 0:00:02\n",
      "   ---------------------- ----------------- 13.0/22.9 MB 8.4 MB/s eta 0:00:02\n",
      "   ----------------------- ---------------- 13.4/22.9 MB 8.5 MB/s eta 0:00:02\n",
      "   ------------------------ --------------- 13.9/22.9 MB 8.5 MB/s eta 0:00:02\n",
      "   ------------------------ --------------- 14.3/22.9 MB 8.4 MB/s eta 0:00:02\n",
      "   ------------------------- -------------- 14.7/22.9 MB 8.6 MB/s eta 0:00:01\n",
      "   -------------------------- ------------- 15.1/22.9 MB 8.5 MB/s eta 0:00:01\n",
      "   -------------------------- ------------- 15.4/22.9 MB 8.6 MB/s eta 0:00:01\n",
      "   --------------------------- ------------ 15.9/22.9 MB 8.6 MB/s eta 0:00:01\n",
      "   ---------------------------- ----------- 16.3/22.9 MB 8.7 MB/s eta 0:00:01\n",
      "   ----------------------------- ---------- 16.8/22.9 MB 8.7 MB/s eta 0:00:01\n",
      "   ----------------------------- ---------- 17.2/22.9 MB 8.8 MB/s eta 0:00:01\n",
      "   ------------------------------ --------- 17.5/22.9 MB 8.6 MB/s eta 0:00:01\n",
      "   ------------------------------- -------- 17.9/22.9 MB 8.6 MB/s eta 0:00:01\n",
      "   ------------------------------- -------- 18.2/22.9 MB 8.5 MB/s eta 0:00:01\n",
      "   -------------------------------- ------- 18.5/22.9 MB 8.4 MB/s eta 0:00:01\n",
      "   --------------------------------- ------ 18.9/22.9 MB 8.6 MB/s eta 0:00:01\n",
      "   --------------------------------- ------ 19.3/22.9 MB 8.5 MB/s eta 0:00:01\n",
      "   ---------------------------------- ----- 19.9/22.9 MB 8.5 MB/s eta 0:00:01\n",
      "   ----------------------------------- ---- 20.2/22.9 MB 8.5 MB/s eta 0:00:01\n",
      "   ------------------------------------ --- 20.7/22.9 MB 8.4 MB/s eta 0:00:01\n",
      "   ------------------------------------ --- 21.1/22.9 MB 8.5 MB/s eta 0:00:01\n",
      "   ------------------------------------- -- 21.5/22.9 MB 8.4 MB/s eta 0:00:01\n",
      "   -------------------------------------- - 21.9/22.9 MB 8.4 MB/s eta 0:00:01\n",
      "   ---------------------------------------  22.4/22.9 MB 8.5 MB/s eta 0:00:01\n",
      "   ---------------------------------------  22.8/22.9 MB 8.6 MB/s eta 0:00:01\n",
      "   ---------------------------------------  22.9/22.9 MB 8.6 MB/s eta 0:00:01\n",
      "   ---------------------------------------- 22.9/22.9 MB 8.3 MB/s eta 0:00:00\n",
      "Downloading pyproj-3.6.1-cp310-cp310-win_amd64.whl (6.1 MB)\n",
      "   ---------------------------------------- 0.0/6.1 MB ? eta -:--:--\n",
      "   -- ------------------------------------- 0.4/6.1 MB 12.6 MB/s eta 0:00:01\n",
      "   ----- ---------------------------------- 0.8/6.1 MB 12.6 MB/s eta 0:00:01\n",
      "   ------- -------------------------------- 1.2/6.1 MB 10.8 MB/s eta 0:00:01\n",
      "   ---------- ----------------------------- 1.5/6.1 MB 11.0 MB/s eta 0:00:01\n",
      "   ------------ --------------------------- 2.0/6.1 MB 10.5 MB/s eta 0:00:01\n",
      "   --------------- ------------------------ 2.4/6.1 MB 9.7 MB/s eta 0:00:01\n",
      "   ------------------ --------------------- 2.8/6.1 MB 9.8 MB/s eta 0:00:01\n",
      "   -------------------- ------------------- 3.1/6.1 MB 9.4 MB/s eta 0:00:01\n",
      "   ----------------------- ---------------- 3.5/6.1 MB 9.4 MB/s eta 0:00:01\n",
      "   -------------------------- ------------- 4.0/6.1 MB 9.4 MB/s eta 0:00:01\n",
      "   ---------------------------- ----------- 4.3/6.1 MB 9.4 MB/s eta 0:00:01\n",
      "   ------------------------------ --------- 4.7/6.1 MB 9.0 MB/s eta 0:00:01\n",
      "   --------------------------------- ------ 5.1/6.1 MB 9.0 MB/s eta 0:00:01\n",
      "   ----------------------------------- ---- 5.4/6.1 MB 9.1 MB/s eta 0:00:01\n",
      "   -------------------------------------- - 5.9/6.1 MB 9.1 MB/s eta 0:00:01\n",
      "   ---------------------------------------  6.1/6.1 MB 9.0 MB/s eta 0:00:01\n",
      "   ---------------------------------------- 6.1/6.1 MB 8.6 MB/s eta 0:00:00\n",
      "Downloading shapely-2.0.2-cp310-cp310-win_amd64.whl (1.4 MB)\n",
      "   ---------------------------------------- 0.0/1.4 MB ? eta -:--:--\n",
      "   -------- ------------------------------- 0.3/1.4 MB 9.6 MB/s eta 0:00:01\n",
      "   ------------------ --------------------- 0.7/1.4 MB 8.3 MB/s eta 0:00:01\n",
      "   ---------------------------- ----------- 1.0/1.4 MB 7.3 MB/s eta 0:00:01\n",
      "   ---------------------------------------  1.4/1.4 MB 8.3 MB/s eta 0:00:01\n",
      "   ---------------------------------------- 1.4/1.4 MB 7.0 MB/s eta 0:00:00\n",
      "Downloading click-8.1.7-py3-none-any.whl (97 kB)\n",
      "   ---------------------------------------- 0.0/97.9 kB ? eta -:--:--\n",
      "   ---------------------------------------- 97.9/97.9 kB 5.5 MB/s eta 0:00:00\n",
      "Installing collected packages: shapely, pyproj, click, cligj, click-plugins, fiona, geopandas\n",
      "Successfully installed click-8.1.7 click-plugins-1.1.1 cligj-0.7.2 fiona-1.9.5 geopandas-0.14.1 pyproj-3.6.1 shapely-2.0.2\n"
     ]
    }
   ],
   "source": [
    "!pip install pandas\n",
    "!pip install geopandas"
   ]
  },
  {
   "cell_type": "code",
   "execution_count": 3,
   "metadata": {},
   "outputs": [],
   "source": [
    "import pandas as pd\n",
    "import requests\n",
    "import geopandas as gpd\n",
    "from os.path import isfile"
   ]
  },
  {
   "cell_type": "markdown",
   "metadata": {},
   "source": [
    "### Téléchargement des données de consommation d'électricité annuelle par adresse"
   ]
  },
  {
   "cell_type": "code",
   "execution_count": 14,
   "metadata": {},
   "outputs": [],
   "source": [
    "def get_data_consumption(url, year, replace:bool = False):\n",
    "    '''Gets the data of home's electricity consumption\n",
    "    Args:\n",
    "        url(string)\n",
    "        year(string)\n",
    "        replace(bool): True to replace consommation{year}.csv if it exists. Defaults to False.\n",
    "    Returns:\n",
    "        df (dataframe): dataframe of the home's electricity consumption for the wanted year \n",
    "    '''\n",
    "    path_to_data=\"consommation\"+f\"{year}\"+\".csv\"\n",
    "    if (isfile(path_to_data) and not replace):\n",
    "        df=pd.read_csv(path_to_data, sep=\";\")\n",
    "    else:\n",
    "        print(\"Chargement des données, cette étape peut prendre quelques minutes\")\n",
    "        response=requests.get(url)\n",
    "        if response.status_code == 200:\n",
    "            with open(path_to_data, \"wb\") as file:\n",
    "                file.write(response.content)\n",
    "            print(\"Téléchargement réussi.\")\n",
    "        else:\n",
    "            print(f\"Échec du téléchargement. Code d'état : {response.status_code}\")\n",
    "        df=pd.read_csv(path_to_data, sep=\";\")\n",
    "    return df\n"
   ]
  },
  {
   "cell_type": "code",
   "execution_count": 1,
   "metadata": {},
   "outputs": [],
   "source": [
    "# URL des bases de données à charger \n",
    "\n",
    "consumption_data_url_2018=\"https://enedis.opendatasoft.com/api/explore/v2.1/catalog/datasets/consommation-annuelle-residentielle-par-adresse/exports/csv?lang=fr&refine=annee%3A%222018%22&timezone=Europe%2FBerlin&use_labels=true&delimiter=%3B\"\n",
    "consumption_data_url_2019= \"https://enedis.opendatasoft.com/api/explore/v2.1/catalog/datasets/consommation-annuelle-residentielle-par-adresse/exports/csv?lang=fr&refine=annee%3A%222019%22&timezone=Europe%2FBerlin&use_labels=true&delimiter=%3B\"\n",
    "consumption_data_url_2020=\"https://enedis.opendatasoft.com/api/explore/v2.1/catalog/datasets/consommation-annuelle-residentielle-par-adresse/exports/csv?lang=fr&refine=annee%3A%222020%22&timezone=Europe%2FBerlin&use_labels=true&delimiter=%3B\"\n",
    "consumption_data_url_2021=\"https://enedis.opendatasoft.com/api/explore/v2.1/catalog/datasets/consommation-annuelle-residentielle-par-adresse/exports/csv?lang=fr&refine=annee%3A%222021%22&timezone=Europe%2FBerlin&use_labels=true&delimiter=%3B\""
   ]
  },
  {
   "cell_type": "code",
   "execution_count": 17,
   "metadata": {},
   "outputs": [
    {
     "name": "stderr",
     "output_type": "stream",
     "text": [
      "C:\\Users\\auran\\AppData\\Local\\Temp\\ipykernel_14392\\3130095385.py:12: DtypeWarning: Columns (16) have mixed types. Specify dtype option on import or set low_memory=False.\n",
      "  df=pd.read_csv(path_to_data, sep=\";\")\n"
     ]
    },
    {
     "name": "stdout",
     "output_type": "stream",
     "text": [
      "Chargement des données, cette étape peut prendre quelques minutes\n",
      "Téléchargement réussi.\n"
     ]
    },
    {
     "name": "stderr",
     "output_type": "stream",
     "text": [
      "C:\\Users\\auran\\AppData\\Local\\Temp\\ipykernel_14392\\3130095385.py:22: DtypeWarning: Columns (16) have mixed types. Specify dtype option on import or set low_memory=False.\n",
      "  df=pd.read_csv(path_to_data, sep=\";\")\n"
     ]
    }
   ],
   "source": [
    "df_cons_2018=get_data_consumption(consumption_data_url_2018, \"2018\")\n",
    "df_cons_2019=get_data_consumption(consumption_data_url_2019, \"2019\")\n",
    "df_cons_2020=get_data_consumption(consumption_data_url_2020, \"2020\")\n",
    "df_cons_2021=get_data_consumption(consumption_data_url_2021, \"2021\")"
   ]
  },
  {
   "cell_type": "markdown",
   "metadata": {},
   "source": [
    "### Récupération des données de Diagnostics de Performance Energétique (DPE)"
   ]
  },
  {
   "cell_type": "code",
   "execution_count": 19,
   "metadata": {},
   "outputs": [],
   "source": [
    "def get_dpe_from_url(api_url):\n",
    "    '''Imports a database from an API url.\n",
    "    Args:\n",
    "        api_url (string) : url of the wanted API\n",
    "    Returns:\n",
    "        pandas.DataFrame : dataframe\n",
    "    '''\n",
    "    req=requests.get(api_url)\n",
    "    wb=req.json()\n",
    "    df = pd.json_normalize(wb[\"results\"])\n",
    "    dpe = gpd.GeoDataFrame(df, geometry=gpd.points_from_xy(df.longitude, df.latitude), crs = 4326)\n",
    "    dpe = dpe.dropna(subset = ['longitude', 'latitude'])\n",
    "    return dpe"
   ]
  },
  {
   "cell_type": "code",
   "execution_count": 21,
   "metadata": {},
   "outputs": [],
   "source": [
    "# Il est trop couteux de récupérer l'intégralité des données et nous ne disposons de données météo que pour\n",
    "# certaines communes. L'idée est donc de ne récupérer les données de DPE que pour les communes voulues et de\n",
    "# les agréger dans une unique table de données.\n",
    "\n",
    "def get_dpe_dataset(api_root, communes):\n",
    "    "
   ]
  }
 ],
 "metadata": {
  "kernelspec": {
   "display_name": "Python 3",
   "language": "python",
   "name": "python3"
  },
  "language_info": {
   "codemirror_mode": {
    "name": "ipython",
    "version": 3
   },
   "file_extension": ".py",
   "mimetype": "text/x-python",
   "name": "python",
   "nbconvert_exporter": "python",
   "pygments_lexer": "ipython3",
   "version": "3.10.11"
  }
 },
 "nbformat": 4,
 "nbformat_minor": 2
}
