{
 "cells": [
  {
   "cell_type": "code",
   "execution_count": 54,
   "metadata": {},
   "outputs": [
    {
     "name": "stdout",
     "output_type": "stream",
     "text": [
      "Requirement already satisfied: pandas in c:\\users\\auran\\appdata\\local\\packages\\pythonsoftwarefoundation.python.3.10_qbz5n2kfra8p0\\localcache\\local-packages\\python310\\site-packages (2.1.3)\n",
      "Requirement already satisfied: numpy<2,>=1.22.4 in c:\\users\\auran\\appdata\\local\\packages\\pythonsoftwarefoundation.python.3.10_qbz5n2kfra8p0\\localcache\\local-packages\\python310\\site-packages (from pandas) (1.26.2)\n",
      "Requirement already satisfied: python-dateutil>=2.8.2 in c:\\users\\auran\\appdata\\local\\packages\\pythonsoftwarefoundation.python.3.10_qbz5n2kfra8p0\\localcache\\local-packages\\python310\\site-packages (from pandas) (2.8.2)\n",
      "Requirement already satisfied: pytz>=2020.1 in c:\\users\\auran\\appdata\\local\\packages\\pythonsoftwarefoundation.python.3.10_qbz5n2kfra8p0\\localcache\\local-packages\\python310\\site-packages (from pandas) (2023.3.post1)\n",
      "Requirement already satisfied: tzdata>=2022.1 in c:\\users\\auran\\appdata\\local\\packages\\pythonsoftwarefoundation.python.3.10_qbz5n2kfra8p0\\localcache\\local-packages\\python310\\site-packages (from pandas) (2023.3)\n",
      "Requirement already satisfied: six>=1.5 in c:\\users\\auran\\appdata\\local\\packages\\pythonsoftwarefoundation.python.3.10_qbz5n2kfra8p0\\localcache\\local-packages\\python310\\site-packages (from python-dateutil>=2.8.2->pandas) (1.16.0)\n",
      "Requirement already satisfied: geopandas in c:\\users\\auran\\appdata\\local\\packages\\pythonsoftwarefoundation.python.3.10_qbz5n2kfra8p0\\localcache\\local-packages\\python310\\site-packages (0.14.1)\n",
      "Requirement already satisfied: fiona>=1.8.21 in c:\\users\\auran\\appdata\\local\\packages\\pythonsoftwarefoundation.python.3.10_qbz5n2kfra8p0\\localcache\\local-packages\\python310\\site-packages (from geopandas) (1.9.5)\n",
      "Requirement already satisfied: packaging in c:\\users\\auran\\appdata\\local\\packages\\pythonsoftwarefoundation.python.3.10_qbz5n2kfra8p0\\localcache\\local-packages\\python310\\site-packages (from geopandas) (23.0)\n",
      "Requirement already satisfied: pandas>=1.4.0 in c:\\users\\auran\\appdata\\local\\packages\\pythonsoftwarefoundation.python.3.10_qbz5n2kfra8p0\\localcache\\local-packages\\python310\\site-packages (from geopandas) (2.1.3)\n",
      "Requirement already satisfied: pyproj>=3.3.0 in c:\\users\\auran\\appdata\\local\\packages\\pythonsoftwarefoundation.python.3.10_qbz5n2kfra8p0\\localcache\\local-packages\\python310\\site-packages (from geopandas) (3.6.1)\n",
      "Requirement already satisfied: shapely>=1.8.0 in c:\\users\\auran\\appdata\\local\\packages\\pythonsoftwarefoundation.python.3.10_qbz5n2kfra8p0\\localcache\\local-packages\\python310\\site-packages (from geopandas) (2.0.2)\n",
      "Requirement already satisfied: attrs>=19.2.0 in c:\\users\\auran\\appdata\\local\\packages\\pythonsoftwarefoundation.python.3.10_qbz5n2kfra8p0\\localcache\\local-packages\\python310\\site-packages (from fiona>=1.8.21->geopandas) (22.2.0)\n",
      "Requirement already satisfied: certifi in c:\\users\\auran\\appdata\\local\\packages\\pythonsoftwarefoundation.python.3.10_qbz5n2kfra8p0\\localcache\\local-packages\\python310\\site-packages (from fiona>=1.8.21->geopandas) (2022.12.7)\n",
      "Requirement already satisfied: click~=8.0 in c:\\users\\auran\\appdata\\local\\packages\\pythonsoftwarefoundation.python.3.10_qbz5n2kfra8p0\\localcache\\local-packages\\python310\\site-packages (from fiona>=1.8.21->geopandas) (8.1.7)\n",
      "Requirement already satisfied: click-plugins>=1.0 in c:\\users\\auran\\appdata\\local\\packages\\pythonsoftwarefoundation.python.3.10_qbz5n2kfra8p0\\localcache\\local-packages\\python310\\site-packages (from fiona>=1.8.21->geopandas) (1.1.1)\n",
      "Requirement already satisfied: cligj>=0.5 in c:\\users\\auran\\appdata\\local\\packages\\pythonsoftwarefoundation.python.3.10_qbz5n2kfra8p0\\localcache\\local-packages\\python310\\site-packages (from fiona>=1.8.21->geopandas) (0.7.2)\n",
      "Requirement already satisfied: six in c:\\users\\auran\\appdata\\local\\packages\\pythonsoftwarefoundation.python.3.10_qbz5n2kfra8p0\\localcache\\local-packages\\python310\\site-packages (from fiona>=1.8.21->geopandas) (1.16.0)\n",
      "Requirement already satisfied: setuptools in c:\\program files\\windowsapps\\pythonsoftwarefoundation.python.3.10_3.10.3056.0_x64__qbz5n2kfra8p0\\lib\\site-packages (from fiona>=1.8.21->geopandas) (65.5.0)\n",
      "Requirement already satisfied: numpy<2,>=1.22.4 in c:\\users\\auran\\appdata\\local\\packages\\pythonsoftwarefoundation.python.3.10_qbz5n2kfra8p0\\localcache\\local-packages\\python310\\site-packages (from pandas>=1.4.0->geopandas) (1.26.2)\n",
      "Requirement already satisfied: python-dateutil>=2.8.2 in c:\\users\\auran\\appdata\\local\\packages\\pythonsoftwarefoundation.python.3.10_qbz5n2kfra8p0\\localcache\\local-packages\\python310\\site-packages (from pandas>=1.4.0->geopandas) (2.8.2)\n",
      "Requirement already satisfied: pytz>=2020.1 in c:\\users\\auran\\appdata\\local\\packages\\pythonsoftwarefoundation.python.3.10_qbz5n2kfra8p0\\localcache\\local-packages\\python310\\site-packages (from pandas>=1.4.0->geopandas) (2023.3.post1)\n",
      "Requirement already satisfied: tzdata>=2022.1 in c:\\users\\auran\\appdata\\local\\packages\\pythonsoftwarefoundation.python.3.10_qbz5n2kfra8p0\\localcache\\local-packages\\python310\\site-packages (from pandas>=1.4.0->geopandas) (2023.3)\n",
      "Requirement already satisfied: colorama in c:\\users\\auran\\appdata\\local\\packages\\pythonsoftwarefoundation.python.3.10_qbz5n2kfra8p0\\localcache\\local-packages\\python310\\site-packages (from click~=8.0->fiona>=1.8.21->geopandas) (0.4.6)\n",
      "Collecting lxml\n",
      "  Downloading lxml-4.9.3-cp310-cp310-win_amd64.whl.metadata (3.9 kB)\n",
      "Downloading lxml-4.9.3-cp310-cp310-win_amd64.whl (3.8 MB)\n",
      "   ---------------------------------------- 0.0/3.8 MB ? eta -:--:--\n",
      "   - -------------------------------------- 0.1/3.8 MB 3.8 MB/s eta 0:00:01\n",
      "   ---- ----------------------------------- 0.4/3.8 MB 5.2 MB/s eta 0:00:01\n",
      "   ------ --------------------------------- 0.6/3.8 MB 5.8 MB/s eta 0:00:01\n",
      "   ----------- ---------------------------- 1.1/3.8 MB 6.1 MB/s eta 0:00:01\n",
      "   --------------- ------------------------ 1.4/3.8 MB 6.5 MB/s eta 0:00:01\n",
      "   ------------------ --------------------- 1.8/3.8 MB 6.7 MB/s eta 0:00:01\n",
      "   --------------------- ------------------ 2.0/3.8 MB 6.9 MB/s eta 0:00:01\n",
      "   ------------------------- -------------- 2.4/3.8 MB 7.0 MB/s eta 0:00:01\n",
      "   ----------------------------- ---------- 2.8/3.8 MB 7.1 MB/s eta 0:00:01\n",
      "   -------------------------------- ------- 3.1/3.8 MB 7.0 MB/s eta 0:00:01\n",
      "   ------------------------------------ --- 3.4/3.8 MB 7.1 MB/s eta 0:00:01\n",
      "   ---------------------------------------  3.8/3.8 MB 7.1 MB/s eta 0:00:01\n",
      "   ---------------------------------------- 3.8/3.8 MB 6.7 MB/s eta 0:00:00\n",
      "Installing collected packages: lxml\n",
      "Successfully installed lxml-4.9.3\n"
     ]
    },
    {
     "name": "stderr",
     "output_type": "stream",
     "text": [
      "ERROR: Could not find a version that satisfies the requirement urllib (from versions: none)\n",
      "ERROR: No matching distribution found for urllib\n"
     ]
    }
   ],
   "source": [
    "!pip install pandas\n",
    "!pip install geopandas\n",
    "!pip install lxml\n",
    "!pip install urllib\n"
   ]
  },
  {
   "cell_type": "code",
   "execution_count": 55,
   "metadata": {},
   "outputs": [],
   "source": [
    "import importlib\n",
    "import pandas as pd\n",
    "import requests\n",
    "import geopandas as gpd\n",
    "from os.path import isfile\n",
    "import declarations"
   ]
  },
  {
   "cell_type": "markdown",
   "metadata": {},
   "source": [
    "### Téléchargement des données de consommation d'électricité annuelle par adresse"
   ]
  },
  {
   "cell_type": "code",
   "execution_count": 2,
   "metadata": {},
   "outputs": [],
   "source": [
    "def get_data_consumption(url, year, replace:bool = False):\n",
    "    '''Gets the data of home's electricity consumption\n",
    "    Args:\n",
    "        url(string)\n",
    "        year(string)\n",
    "        replace(bool): True to replace consommation{year}.csv if it exists. Defaults to False.\n",
    "    Returns:\n",
    "        df (dataframe): dataframe of the home's electricity consumption for the wanted year \n",
    "    '''\n",
    "    path_to_data=\"consommation\"+f\"{year}\"+\".csv\"\n",
    "    if (isfile(path_to_data) and not replace):\n",
    "        df=pd.read_csv(path_to_data, sep=\";\")\n",
    "    else:\n",
    "        print(\"Chargement des données, cette étape peut prendre quelques minutes\")\n",
    "        response=requests.get(url)\n",
    "        if response.status_code == 200:\n",
    "            with open(path_to_data, \"wb\") as file:\n",
    "                file.write(response.content)\n",
    "            print(\"Téléchargement réussi.\")\n",
    "        else:\n",
    "            print(f\"Échec du téléchargement. Code d'état : {response.status_code}\")\n",
    "        df=pd.read_csv(path_to_data, sep=\";\")\n",
    "    return df\n"
   ]
  },
  {
   "cell_type": "code",
   "execution_count": 1,
   "metadata": {},
   "outputs": [],
   "source": [
    "# URL des bases de données à charger \n",
    "\n",
    "consumption_data_url_2018=\"https://enedis.opendatasoft.com/api/explore/v2.1/catalog/datasets/consommation-annuelle-residentielle-par-adresse/exports/csv?lang=fr&refine=annee%3A%222018%22&timezone=Europe%2FBerlin&use_labels=true&delimiter=%3B\"\n",
    "consumption_data_url_2019= \"https://enedis.opendatasoft.com/api/explore/v2.1/catalog/datasets/consommation-annuelle-residentielle-par-adresse/exports/csv?lang=fr&refine=annee%3A%222019%22&timezone=Europe%2FBerlin&use_labels=true&delimiter=%3B\"\n",
    "consumption_data_url_2020=\"https://enedis.opendatasoft.com/api/explore/v2.1/catalog/datasets/consommation-annuelle-residentielle-par-adresse/exports/csv?lang=fr&refine=annee%3A%222020%22&timezone=Europe%2FBerlin&use_labels=true&delimiter=%3B\"\n",
    "consumption_data_url_2021=\"https://enedis.opendatasoft.com/api/explore/v2.1/catalog/datasets/consommation-annuelle-residentielle-par-adresse/exports/csv?lang=fr&refine=annee%3A%222021%22&timezone=Europe%2FBerlin&use_labels=true&delimiter=%3B\""
   ]
  },
  {
   "cell_type": "code",
   "execution_count": 17,
   "metadata": {},
   "outputs": [
    {
     "name": "stderr",
     "output_type": "stream",
     "text": [
      "C:\\Users\\auran\\AppData\\Local\\Temp\\ipykernel_14392\\3130095385.py:12: DtypeWarning: Columns (16) have mixed types. Specify dtype option on import or set low_memory=False.\n",
      "  df=pd.read_csv(path_to_data, sep=\";\")\n"
     ]
    },
    {
     "name": "stdout",
     "output_type": "stream",
     "text": [
      "Chargement des données, cette étape peut prendre quelques minutes\n",
      "Téléchargement réussi.\n"
     ]
    },
    {
     "name": "stderr",
     "output_type": "stream",
     "text": [
      "C:\\Users\\auran\\AppData\\Local\\Temp\\ipykernel_14392\\3130095385.py:22: DtypeWarning: Columns (16) have mixed types. Specify dtype option on import or set low_memory=False.\n",
      "  df=pd.read_csv(path_to_data, sep=\";\")\n"
     ]
    }
   ],
   "source": [
    "df_cons_2018=get_data_consumption(consumption_data_url_2018, \"2018\")\n",
    "df_cons_2019=get_data_consumption(consumption_data_url_2019, \"2019\")\n",
    "df_cons_2020=get_data_consumption(consumption_data_url_2020, \"2020\")\n",
    "df_cons_2021=get_data_consumption(consumption_data_url_2021, \"2021\")"
   ]
  },
  {
   "cell_type": "markdown",
   "metadata": {},
   "source": [
    "### Récupération des données de Diagnostics de Performance Energétique (DPE)"
   ]
  },
  {
   "cell_type": "code",
   "execution_count": 3,
   "metadata": {},
   "outputs": [],
   "source": [
    "def get_dpe_from_url(api_url):\n",
    "    '''Imports a database from an API url.\n",
    "    Args:\n",
    "        api_url (string) : url of the wanted API\n",
    "    Returns:\n",
    "        pandas.DataFrame : dataframe\n",
    "    '''\n",
    "    req=requests.get(api_url)\n",
    "    wb=req.json()\n",
    "    df = pd.json_normalize(wb[\"results\"])\n",
    "    dpe = gpd.GeoDataFrame(df, geometry=gpd.points_from_xy(df.longitude, df.latitude), crs = 4326)\n",
    "    dpe = dpe.dropna(subset = ['longitude', 'latitude'])\n",
    "    return dpe"
   ]
  },
  {
   "cell_type": "code",
   "execution_count": 21,
   "metadata": {},
   "outputs": [],
   "source": [
    "# Il est trop couteux de récupérer l'intégralité des données et nous ne disposons de données météo que pour\n",
    "# certaines communes. L'idée est donc de ne récupérer les données de DPE que pour les communes voulues et de\n",
    "# les agréger dans une unique table de données.\n",
    "\n",
    "def get_dpe_dataset(api_root, communes):\n",
    "    '''\n",
    "    Args : \n",
    "    Returns : \n",
    "    '''\n"
   ]
  },
  {
   "cell_type": "markdown",
   "metadata": {},
   "source": [
    "### Récupération des données de consommation annuelle d'électricité et gaz par département et par secteur d'activité"
   ]
  },
  {
   "cell_type": "code",
   "execution_count": 41,
   "metadata": {},
   "outputs": [],
   "source": [
    "def get_data_consumption_department(df, year):\n",
    "    '''Gets the data of the annual electricity consumption per \"département\" for a specific year\n",
    "    Args:\n",
    "        df (DataFrame)\n",
    "        year(string)\n",
    "    Returns:\n",
    "        df (dataframe): dataframe of the home's electricity consumption for the wanted year \n",
    "    '''\n",
    "    df_year= df[(df[\"Année\"]==year) & (df[\"Filière\"]==\"Electricité\")]\n",
    "    return df_year\n"
   ]
  },
  {
   "cell_type": "code",
   "execution_count": 39,
   "metadata": {},
   "outputs": [
    {
     "data": {
      "text/html": [
       "<div>\n",
       "<style scoped>\n",
       "    .dataframe tbody tr th:only-of-type {\n",
       "        vertical-align: middle;\n",
       "    }\n",
       "\n",
       "    .dataframe tbody tr th {\n",
       "        vertical-align: top;\n",
       "    }\n",
       "\n",
       "    .dataframe thead th {\n",
       "        text-align: right;\n",
       "    }\n",
       "</style>\n",
       "<table border=\"1\" class=\"dataframe\">\n",
       "  <thead>\n",
       "    <tr style=\"text-align: right;\">\n",
       "      <th></th>\n",
       "      <th>Opérateur</th>\n",
       "      <th>Année</th>\n",
       "      <th>Filière</th>\n",
       "      <th>Consommation Agriculture (MWh)</th>\n",
       "      <th>Nombre de points Agriculture</th>\n",
       "      <th>Nombre de mailles secretisées (agriculture)</th>\n",
       "      <th>Indique qualité Agriculture</th>\n",
       "      <th>Consommation Industrie (MWh)</th>\n",
       "      <th>Nombre de points Industrie</th>\n",
       "      <th>Nombre de mailles secretisées (industrie)</th>\n",
       "      <th>...</th>\n",
       "      <th>Nombre de points Secteur Inconnu</th>\n",
       "      <th>Nombre de mailles secretisées (secteur inconnu)</th>\n",
       "      <th>Indice qualité Non Affecté</th>\n",
       "      <th>Code Département</th>\n",
       "      <th>Libellé Département</th>\n",
       "      <th>Code Région</th>\n",
       "      <th>Libellé Région</th>\n",
       "      <th>id_filiere</th>\n",
       "      <th>geom</th>\n",
       "      <th>Consommation totale (MWh)</th>\n",
       "    </tr>\n",
       "  </thead>\n",
       "  <tbody>\n",
       "    <tr>\n",
       "      <th>0</th>\n",
       "      <td>Enedis</td>\n",
       "      <td>2011</td>\n",
       "      <td>Electricité</td>\n",
       "      <td>26490.69</td>\n",
       "      <td>334</td>\n",
       "      <td>0</td>\n",
       "      <td>0.957</td>\n",
       "      <td>838010.71</td>\n",
       "      <td>633</td>\n",
       "      <td>0</td>\n",
       "      <td>...</td>\n",
       "      <td>44</td>\n",
       "      <td>0</td>\n",
       "      <td>0.568</td>\n",
       "      <td>02</td>\n",
       "      <td>Aisne</td>\n",
       "      <td>32</td>\n",
       "      <td>Hauts-de-France</td>\n",
       "      <td>100</td>\n",
       "      <td>NaN</td>\n",
       "      <td>2855280.66</td>\n",
       "    </tr>\n",
       "    <tr>\n",
       "      <th>1</th>\n",
       "      <td>Enedis</td>\n",
       "      <td>2011</td>\n",
       "      <td>Electricité</td>\n",
       "      <td>25747.90</td>\n",
       "      <td>373</td>\n",
       "      <td>0</td>\n",
       "      <td>0.976</td>\n",
       "      <td>426364.02</td>\n",
       "      <td>553</td>\n",
       "      <td>0</td>\n",
       "      <td>...</td>\n",
       "      <td>47</td>\n",
       "      <td>0</td>\n",
       "      <td>0.871</td>\n",
       "      <td>03</td>\n",
       "      <td>Allier</td>\n",
       "      <td>84</td>\n",
       "      <td>Auvergne-Rhône-Alpes</td>\n",
       "      <td>100</td>\n",
       "      <td>NaN</td>\n",
       "      <td>2017190.64</td>\n",
       "    </tr>\n",
       "    <tr>\n",
       "      <th>2</th>\n",
       "      <td>Enedis</td>\n",
       "      <td>2011</td>\n",
       "      <td>Electricité</td>\n",
       "      <td>13601.05</td>\n",
       "      <td>118</td>\n",
       "      <td>0</td>\n",
       "      <td>0.946</td>\n",
       "      <td>105074.61</td>\n",
       "      <td>252</td>\n",
       "      <td>0</td>\n",
       "      <td>...</td>\n",
       "      <td>31</td>\n",
       "      <td>0</td>\n",
       "      <td>0.574</td>\n",
       "      <td>04</td>\n",
       "      <td>Alpes-de-Haute-Provence</td>\n",
       "      <td>93</td>\n",
       "      <td>Provence-Alpes-Côte d'Azur</td>\n",
       "      <td>100</td>\n",
       "      <td>NaN</td>\n",
       "      <td>1055358.03</td>\n",
       "    </tr>\n",
       "  </tbody>\n",
       "</table>\n",
       "<p>3 rows × 30 columns</p>\n",
       "</div>"
      ],
      "text/plain": [
       "  Opérateur  Année      Filière  Consommation Agriculture (MWh)  \\\n",
       "0    Enedis   2011  Electricité                        26490.69   \n",
       "1    Enedis   2011  Electricité                        25747.90   \n",
       "2    Enedis   2011  Electricité                        13601.05   \n",
       "\n",
       "   Nombre de points Agriculture  Nombre de mailles secretisées (agriculture)  \\\n",
       "0                           334                                            0   \n",
       "1                           373                                            0   \n",
       "2                           118                                            0   \n",
       "\n",
       "   Indique qualité Agriculture  Consommation Industrie (MWh)  \\\n",
       "0                        0.957                     838010.71   \n",
       "1                        0.976                     426364.02   \n",
       "2                        0.946                     105074.61   \n",
       "\n",
       "   Nombre de points Industrie  Nombre de mailles secretisées (industrie)  ...  \\\n",
       "0                         633                                          0  ...   \n",
       "1                         553                                          0  ...   \n",
       "2                         252                                          0  ...   \n",
       "\n",
       "   Nombre de points Secteur Inconnu  \\\n",
       "0                                44   \n",
       "1                                47   \n",
       "2                                31   \n",
       "\n",
       "   Nombre de mailles secretisées (secteur inconnu)  \\\n",
       "0                                                0   \n",
       "1                                                0   \n",
       "2                                                0   \n",
       "\n",
       "   Indice qualité Non Affecté  Code Département      Libellé Département  \\\n",
       "0                       0.568                02                    Aisne   \n",
       "1                       0.871                03                   Allier   \n",
       "2                       0.574                04  Alpes-de-Haute-Provence   \n",
       "\n",
       "   Code Région              Libellé Région  id_filiere  geom  \\\n",
       "0           32             Hauts-de-France         100   NaN   \n",
       "1           84        Auvergne-Rhône-Alpes         100   NaN   \n",
       "2           93  Provence-Alpes-Côte d'Azur         100   NaN   \n",
       "\n",
       "   Consommation totale (MWh)  \n",
       "0                 2855280.66  \n",
       "1                 2017190.64  \n",
       "2                 1055358.03  \n",
       "\n",
       "[3 rows x 30 columns]"
      ]
     },
     "execution_count": 39,
     "metadata": {},
     "output_type": "execute_result"
    }
   ],
   "source": [
    "# Base de données \n",
    "cons_département=\"https://opendata.agenceore.fr/api/explore/v2.1/catalog/datasets/conso-elec-gaz-annuelle-par-secteur-dactivite-agregee-departement/exports/csv?lang=fr&timezone=Europe%2FBerlin&use_labels=true&delimiter=%3B\"\n",
    "df_cons_département=pd.read_csv(cons_département, sep=\";\")\n",
    "df_cons_département.head(3)"
   ]
  },
  {
   "cell_type": "code",
   "execution_count": 42,
   "metadata": {},
   "outputs": [],
   "source": [
    "list_années=pd.unique(df_cons_département[\"Année\"])\n",
    "dico_cons_département={}\n",
    "for année in list_années:\n",
    "    if année not in dico_cons_département: \n",
    "        dico_cons_département[année]=get_data_consumption_department(df_cons_département, année)\n"
   ]
  },
  {
   "cell_type": "code",
   "execution_count": 43,
   "metadata": {},
   "outputs": [],
   "source": [
    "def df_filter(df, wanted_variables):\n",
    "    ''' Returns a dataframe with the only variables we need for the study.\n",
    "    Args: \n",
    "        df (DataFrame)\n",
    "        wanted_variables (list)\n",
    "    Returns: the dataframe with only the variables needed\n",
    "    '''\n",
    "    return df[wanted_variables]"
   ]
  },
  {
   "cell_type": "code",
   "execution_count": 56,
   "metadata": {},
   "outputs": [],
   "source": [
    "variables_cons_département= ['Opérateur', 'Année', 'Filière', \n",
    "                             'Consommation Résidentiel (MWh)', 'Nombre de points Résidentiel', \n",
    "                             'Nombre de mailles secretisées (résidentiel)','Indice qualité Résidentiel',\n",
    "                             'Code Département', 'Libellé Département','Code Région', 'Libellé Région', \n",
    "                             'id_filiere', 'geom','Consommation totale (MWh)']"
   ]
  }
 ],
 "metadata": {
  "kernelspec": {
   "display_name": "Python 3",
   "language": "python",
   "name": "python3"
  },
  "language_info": {
   "codemirror_mode": {
    "name": "ipython",
    "version": 3
   },
   "file_extension": ".py",
   "mimetype": "text/x-python",
   "name": "python",
   "nbconvert_exporter": "python",
   "pygments_lexer": "ipython3",
   "version": "3.10.11"
  }
 },
 "nbformat": 4,
 "nbformat_minor": 2
}
