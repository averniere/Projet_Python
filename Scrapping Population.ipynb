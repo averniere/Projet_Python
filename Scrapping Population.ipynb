{
 "cells": [
  {
   "cell_type": "code",
   "execution_count": 2,
   "id": "a44e504f-130d-403d-b644-9866cff880d0",
   "metadata": {},
   "outputs": [],
   "source": [
    "!pip install -q lxml"
   ]
  },
  {
   "cell_type": "code",
   "execution_count": 3,
   "id": "7c3b458d-88b3-456a-b5ae-14a3b484c02e",
   "metadata": {},
   "outputs": [],
   "source": [
    "import bs4\n",
    "import lxml\n",
    "import pandas\n",
    "import urllib\n",
    "from tqdm.auto import tqdm\n",
    "\n",
    "from urllib import request"
   ]
  },
  {
   "cell_type": "code",
   "execution_count": 4,
   "id": "70f19a11-8cbb-4501-9fe5-9e9308852c61",
   "metadata": {},
   "outputs": [],
   "source": [
    "\"\"\" Définition de la classe finale utilisée \"\"\"\n",
    "\n",
    "class Population_departement :\n",
    "    \"\"\"\n",
    "    Class permettant de scrapper et d'effectuer des opérations sur les données de l'INSEE concernant la population officielle des départements entre\n",
    "    2011 et 2020.\n",
    "    \n",
    "    \"\"\"\n",
    "    def __init__ (self) :\n",
    "        \"\"\"\n",
    "        Initialisation de la classe contenant :\n",
    "            self.data_pop : Dictionnaire contenant les données\n",
    "            self.urls : liste des urls nécessaire au scrapping\n",
    "        \"\"\"\n",
    "        self.data_pop = {\n",
    "            i : {} for i in range(2011,2021)\n",
    "            }\n",
    "        self.urls = [\n",
    "            'https://www.insee.fr/fr/statistiques/2119745?sommaire=2119751',\n",
    "            'https://www.insee.fr/fr/statistiques/2119678?sommaire=2119686',\n",
    "            'https://www.insee.fr/fr/statistiques/2119468?sommaire=2119504',\n",
    "            'https://www.insee.fr/fr/statistiques/2525762?sommaire=2525768',\n",
    "            'https://www.insee.fr/fr/statistiques/3292643?sommaire=3292701',\n",
    "            'https://www.insee.fr/fr/statistiques/3677771?sommaire=3677855',#\n",
    "            'https://www.insee.fr/fr/statistiques/4265390?sommaire=4265511',\n",
    "            'https://www.insee.fr/fr/statistiques/4989753?sommaire=4989761',\n",
    "            'https://www.insee.fr/fr/statistiques/6013867?sommaire=6011075',\n",
    "            'https://www.insee.fr/fr/statistiques/6683015?sommaire=6683037'\n",
    "        ]\n",
    "\n",
    "    def scrap(self):\n",
    "        \"\"\" \n",
    "        Fonction permettant de scrapper les données voulues, i.e. la population officielle de chaque département de 2011 à 2020 depuis le site\n",
    "        de l'INSEE.\n",
    "\n",
    "            Paramètres:\n",
    "            ------------\n",
    "                self.data_pop : dict\n",
    "                    Dictionnaire contenant toutes les données par années\n",
    "        \n",
    "            Output:\n",
    "            ----------\n",
    "                self.data_pop : dict\n",
    "                    Dictionnaire contenant toutes les données par années actualisées\n",
    "            \n",
    "        \"\"\"\n",
    "        for i in range (len(self.urls)) :\n",
    "            url = self.urls[i]\n",
    "            raw_text = request.urlopen(url).read()\n",
    "            page = bs4.BeautifulSoup(raw_text) #,'lxml')\n",
    "            if i < 6 :\n",
    "                fig = '1'\n",
    "            else :\n",
    "                fig = '2'\n",
    "            tableau = page.find('table', {'id' : 'produit-tableau-figure' + fig})\n",
    "            rows = tableau.find_all('tr')\n",
    "            \n",
    "            if 2011 + i < 2015 :\n",
    "                self.data_pop[2011 + i] = {\n",
    "                rows[j].text.split(\"\\n\")[1] : int(rows[j].text.split(\"\\n\")[3].replace('\\xa0','').replace(' ','')) for j in range(3,len(rows))\n",
    "                }\n",
    "            elif 2011 + i == 2017 :\n",
    "                self.data_pop[2011 + i] = {\n",
    "                '0'+rows[j].text.split(\"\\n\")[1] : int(rows[j].text.split(\"\\n\")[3].replace('\\xa0','').replace(' ','')) for j in range(1,10)\n",
    "                }\n",
    "                for j in range (10,len(rows)):\n",
    "                    self.data_pop[2011 + i][rows[j].text.split(\"\\n\")[1]] = int(rows[j].text.split(\"\\n\")[3].replace('\\xa0','').replace(' ',''))\n",
    "            else :\n",
    "                self.data_pop[2011 + i] = {\n",
    "                    rows[j].text.split(\"\\n\")[1] : int(rows[j].text.split(\"\\n\")[3].replace('\\xa0','').replace(' ','')) for j in range(1,len(rows))\n",
    "                }\n",
    "        \n",
    "\n",
    "            \n",
    "    def export(self) :\n",
    "        \"\"\"\n",
    "        Fonction intégrée d'export pour permettant de faciliter les manipulations.\n",
    "\n",
    "        Paramètres:\n",
    "            ------------\n",
    "                self.df_pop : DataFrame\n",
    "                    Dictionnaire contenant toutes les données par années\n",
    "        \n",
    "            Output:\n",
    "            ----------\n",
    "                Aucun\n",
    "        \"\"\"\n",
    "        self.df_pop = pandas.DataFrame(self.data_pop)\n",
    "        self.df_pop.to_json('data_pop.json')"
   ]
  },
  {
   "cell_type": "code",
   "execution_count": 5,
   "id": "0784245e-86c9-41c3-95d8-d4800cdedcbd",
   "metadata": {},
   "outputs": [],
   "source": [
    "population = Population_departement()"
   ]
  },
  {
   "cell_type": "code",
   "execution_count": 6,
   "id": "3c268c54-c2d5-4e2f-bd95-75948130ee89",
   "metadata": {},
   "outputs": [],
   "source": [
    "population.scrap()"
   ]
  },
  {
   "cell_type": "code",
   "execution_count": 7,
   "id": "c1d28165-d1c3-40f7-9374-a96a54171c2e",
   "metadata": {},
   "outputs": [],
   "source": [
    "population.export()"
   ]
  },
  {
   "cell_type": "code",
   "execution_count": null,
   "id": "dbc80bb4-231d-427f-8e1b-64a1aa0a861e",
   "metadata": {},
   "outputs": [],
   "source": []
  }
 ],
 "metadata": {
  "kernelspec": {
   "display_name": "Python 3 (ipykernel)",
   "language": "python",
   "name": "python3"
  },
  "language_info": {
   "codemirror_mode": {
    "name": "ipython",
    "version": 3
   },
   "file_extension": ".py",
   "mimetype": "text/x-python",
   "name": "python",
   "nbconvert_exporter": "python",
   "pygments_lexer": "ipython3",
   "version": "3.10.13"
  }
 },
 "nbformat": 4,
 "nbformat_minor": 5
}
