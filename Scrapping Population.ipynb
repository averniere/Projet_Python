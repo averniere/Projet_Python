{
 "cells": [
  {
   "cell_type": "code",
   "execution_count": 1,
   "id": "a44e504f-130d-403d-b644-9866cff880d0",
   "metadata": {},
   "outputs": [],
   "source": [
    "!pip install -q lxml"
   ]
  },
  {
   "cell_type": "code",
   "execution_count": 11,
   "id": "7c3b458d-88b3-456a-b5ae-14a3b484c02e",
   "metadata": {},
   "outputs": [],
   "source": [
    "import bs4\n",
    "import lxml\n",
    "import pandas\n",
    "import urllib\n",
    "from tqdm.auto import tqdm\n",
    "\n",
    "from urllib import request"
   ]
  },
  {
   "cell_type": "code",
   "execution_count": 12,
   "id": "8a189f3a-5710-4e5e-b48f-c4f822b9393e",
   "metadata": {},
   "outputs": [],
   "source": [
    "\"\"\" Scrapping du site insee.fr \"\"\"\n",
    "\n",
    "url = 'https://www.insee.fr/fr/statistiques/6683015?sommaire=6683037'\n",
    "raw_text = request.urlopen(url).read()\n",
    "page = bs4.BeautifulSoup(raw_text) #,'lxml')\n",
    "tableau = page.find('table', {'id' : 'produit-tableau-figure2'})\n",
    "rows = tableau.find_all('tr')"
   ]
  },
  {
   "cell_type": "code",
   "execution_count": 21,
   "id": "faa32646-c087-4080-a53d-5e0ddf1be00e",
   "metadata": {},
   "outputs": [],
   "source": [
    "\"\"\" Création d'un dictionnaire pour manipuler plus aisément les données \"\"\"\n",
    "\n",
    "data_pop = {\n",
    "    rows[i].text.split(\"\\n\")[1] : [rows[i].text.split(\"\\n\")[2], rows[1].text.split(\"\\n\")[3].replace('\\xa0',' ')] for i in range(1,len(rows))\n",
    "}"
   ]
  },
  {
   "cell_type": "code",
   "execution_count": 19,
   "id": "b8fca0dd-e4b6-43e7-972c-46c98b7759a2",
   "metadata": {},
   "outputs": [],
   "source": [
    "\"\"\" Conversion en DataFrame pour exporter \"\"\"\n",
    "\n",
    "df_pop = pandas.DataFrame(data_pop)"
   ]
  },
  {
   "cell_type": "code",
   "execution_count": 20,
   "id": "10ad30f8-391d-422f-8423-851e592ac93f",
   "metadata": {},
   "outputs": [],
   "source": [
    "\"\"\" Exportation au format json \"\"\"\n",
    "\n",
    "df_pop.to_json('data_pop.json')"
   ]
  },
  {
   "cell_type": "code",
   "execution_count": null,
   "id": "70f19a11-8cbb-4501-9fe5-9e9308852c61",
   "metadata": {},
   "outputs": [],
   "source": []
  }
 ],
 "metadata": {
  "kernelspec": {
   "display_name": "Python 3 (ipykernel)",
   "language": "python",
   "name": "python3"
  },
  "language_info": {
   "codemirror_mode": {
    "name": "ipython",
    "version": 3
   },
   "file_extension": ".py",
   "mimetype": "text/x-python",
   "name": "python",
   "nbconvert_exporter": "python",
   "pygments_lexer": "ipython3",
   "version": "3.10.13"
  }
 },
 "nbformat": 4,
 "nbformat_minor": 5
}
