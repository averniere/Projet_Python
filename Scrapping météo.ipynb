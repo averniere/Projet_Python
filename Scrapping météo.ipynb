{
 "cells": [
  {
   "cell_type": "code",
   "execution_count": 13,
   "id": "d0ad9531-7c7a-410c-bdc2-171cfed804ae",
   "metadata": {},
   "outputs": [],
   "source": [
    "!pip install -q lxml"
   ]
  },
  {
   "cell_type": "code",
   "execution_count": 44,
   "id": "6bb8f02e-0e8d-4e61-a92e-0eb8e0be40d6",
   "metadata": {},
   "outputs": [],
   "source": [
    "#!pip install -q lxml\n",
    "\n",
    "import bs4\n",
    "import lxml\n",
    "import pandas\n",
    "import urllib\n",
    "from tqdm.auto import tqdm\n",
    "\n",
    "from urllib import request"
   ]
  },
  {
   "cell_type": "code",
   "execution_count": 45,
   "id": "38f6cd9b-46f5-4169-adbf-dba238df3cbc",
   "metadata": {},
   "outputs": [],
   "source": [
    "\"\"\" Création du dictionnaire Racine \"\"\"\n",
    "\n",
    "data_all = {\n",
    "    i : {j : {} for j in range(1,13)} for i in range(2011,2019)\n",
    "}"
   ]
  },
  {
   "cell_type": "code",
   "execution_count": 2,
   "id": "983dd27d-1b16-4dbb-870a-9e53e9f990e1",
   "metadata": {},
   "outputs": [
    {
     "ename": "NameError",
     "evalue": "name 'tqdm' is not defined",
     "output_type": "error",
     "traceback": [
      "\u001b[0;31m---------------------------------------------------------------------------\u001b[0m",
      "\u001b[0;31mNameError\u001b[0m                                 Traceback (most recent call last)",
      "Cell \u001b[0;32mIn[2], line 4\u001b[0m\n\u001b[1;32m      1\u001b[0m \u001b[38;5;124;03m\"\"\" Scrapping du site infoclimat.fr et organisation des données sous forme de dictionnaire \"\"\"\u001b[39;00m\n\u001b[1;32m      2\u001b[0m \u001b[38;5;66;03m# Il faut optimiser la création en ne créant qu'une seule fois le Df lié aux villes\u001b[39;00m\n\u001b[0;32m----> 4\u001b[0m \u001b[38;5;28;01mfor\u001b[39;00m i \u001b[38;5;129;01min\u001b[39;00m \u001b[43mtqdm\u001b[49m(\u001b[38;5;28mrange\u001b[39m(\u001b[38;5;28mlen\u001b[39m(data_all))):\n\u001b[1;32m      5\u001b[0m     \u001b[38;5;28;01mfor\u001b[39;00m y \u001b[38;5;129;01min\u001b[39;00m data_all :\n\u001b[1;32m      6\u001b[0m         \u001b[38;5;28;01mfor\u001b[39;00m m \u001b[38;5;129;01min\u001b[39;00m data_all[y] :\n",
      "\u001b[0;31mNameError\u001b[0m: name 'tqdm' is not defined"
     ]
    }
   ],
   "source": [
    "\"\"\" Scrapping du site infoclimat.fr et organisation des données sous forme de dictionnaire \"\"\"\n",
    "# Il faut optimiser la création en ne créant qu'une seule fois le Df lié aux villes\n",
    "\n",
    "for i in tqdm(range(len(data_all))):\n",
    "    for y in data_all :\n",
    "        for m in data_all[y] :\n",
    "            url_temp = 'https://www.infoclimat.fr/stations-meteo/analyses-mensuelles.php?mois=' + str(m) + '&annee=' + str(y)\n",
    "            raw_text = request.urlopen(url_temp).read()\n",
    "            page = bs4.BeautifulSoup(raw_text) #,'lxml')\n",
    "            tableau = page.find('table', {'id' : 'tableau-releves'})\n",
    "            rows = tableau.find_all('tr')\n",
    "    \n",
    "            df = {\n",
    "        'Villes' : [rows[i].find('a').text for i in range(1,len(rows))], #[rows[i].find_all('div')[0].text for i in range(1,len(rows))], #[rows[i].find('a').text for i in range(1,len(rows))],\n",
    "        'Température minimale extrême du mois' : [rows[i].find('div').text for i in range(1,len(rows))],\n",
    "        'Moyenne des températures minimales du mois' : [rows[i].find_all('td')[2].text for i in range(1,len(rows))],\n",
    "        'Température moyenne du mois' : [rows[i].find_all('td')[3].text for i in range(1,len(rows))],\n",
    "        'Moyenne des températures maximales du mois' : [rows[i].find_all('td')[4].text for i in range(1,len(rows))],\n",
    "        'Température maximale extrême du mois' : [rows[i].find_all('td')[5].find('div').text for i in range(1,len(rows))],\n",
    "        'Cumul de précipitation du mois' : [rows[i].find_all('td')[6].text for i in range(1,len(rows))],\n",
    "        \"Heure d'ensolleiment du mois\" : [rows[i].find_all('td')[7].text for i in range(1,len(rows))],\n",
    "        'Rafale maximale du mois' : [rows[i].find_all('td')[8].text for i in range(1,len(rows))] \n",
    "                }\n",
    "    \n",
    "            data_all[y][m] = df"
   ]
  },
  {
   "cell_type": "code",
   "execution_count": 173,
   "id": "61b8b293-47e3-409c-ba20-0c5c5237083f",
   "metadata": {},
   "outputs": [],
   "source": [
    "\"\"\" Conversion en DataFrame pour exporter \"\"\"\n",
    "\n",
    "df_all = pandas.DataFrame(data_all)"
   ]
  },
  {
   "cell_type": "code",
   "execution_count": null,
   "id": "8bc8d6fd-6a9c-450d-a11d-e7b7b0c79a64",
   "metadata": {},
   "outputs": [],
   "source": [
    "\"\"\" Exportation au format json \"\"\"\n",
    "\n",
    "df_all.to_json('data_base.json')"
   ]
  },
  {
   "cell_type": "code",
   "execution_count": 175,
   "id": "1223b75c-5d86-48d7-a5b4-e888f58246b2",
   "metadata": {},
   "outputs": [],
   "source": [
    "\"\"\" Normalisation des variables suivant la nomenclature de la source \"\"\"\n",
    "\n",
    "db.rename({'Villes' : 'ville', \n",
    "           'Température minimale extrême du mois' : 'tnn',\n",
    "           'Moyenne des températures minimales du mois' : 'tnm', \n",
    "           'Température moyenne du mois' : 'tmm', \n",
    "           'Moyenne des températures maximales du mois' : 'txm', \n",
    "           'Température maximale extrême du mois' : 'txx', \n",
    "           'Cumul de précipitation du mois' : 'rr', \n",
    "           \"Heure d'ensolleiment du mois\" : 'ens', \n",
    "           'Rafale maximale du mois' : 'rafale'},axis=1,inplace = True)"
   ]
  },
  {
   "cell_type": "code",
   "execution_count": 1,
   "id": "4d62384f-93a5-482b-8910-b56ac21d15ca",
   "metadata": {},
   "outputs": [],
   "source": [
    "class Meteo :\n",
    "    def __init__(self):\n",
    "        self.data_all = {\n",
    "                i : {j : {} for j in range(1,13)} for i in range(2011,2019)\n",
    "            }\n",
    "\n",
    "    def scrap(self):\n",
    "        for y in self.data_all :\n",
    "            for m in self.data_all[y] :\n",
    "                url_temp = 'https://www.infoclimat.fr/stations-meteo/analyses-mensuelles.php?mois=' + str(m) + '&annee=' + str(y)\n",
    "                raw_text = request.urlopen(url_temp).read()\n",
    "                page = bs4.BeautifulSoup(raw_text,'lxml')\n",
    "                tableau = page.find('table', {'id' : 'tableau-releves'})\n",
    "                rows = tableau.find_all('tr')\n",
    "        \n",
    "                df = {\n",
    "            'Villes' : [rows[i].find('a').text for i in range(1,len(rows))], #[rows[i].find_all('div')[0].text for i in range(1,len(rows))], #[rows[i].find('a').text for i in range(1,len(rows))],\n",
    "            'Température minimale extrême du mois' : [rows[i].find('div').text for i in range(1,len(rows))],\n",
    "            'Moyenne des températures minimales du mois' : [rows[i].find_all('td')[2].text for i in range(1,len(rows))],\n",
    "            'Température moyenne du mois' : [rows[i].find_all('td')[3].text for i in range(1,len(rows))],\n",
    "            'Moyenne des températures maximales du mois' : [rows[i].find_all('td')[4].text for i in range(1,len(rows))],\n",
    "            'Température maximale extrême du mois' : [rows[i].find_all('td')[5].find('div').text for i in range(1,len(rows))],\n",
    "            'Cumul de précipitation du mois' : [rows[i].find_all('td')[6].text for i in range(1,len(rows))],\n",
    "            \"Heure d'ensolleiment du mois\" : [rows[i].find_all('td')[7].text for i in range(1,len(rows))],\n",
    "            'Rafale maximale du mois' : [rows[i].find_all('td')[8].text for i in range(1,len(rows))] \n",
    "                    }\n",
    "        \n",
    "                self.data_all[y][m] = df\n",
    "\n",
    "    def export(self):\n",
    "        self.df_all = pandas.DataFrame(self.data_all)\n",
    "        self.df_all.to_json('data_base.json')\n",
    "\n",
    "    def rename(self):\n",
    "        self.df_all = pandas.DataFrame(self.data_all)\n",
    "        self.df_all.rename({'Villes' : 'ville', \n",
    "           'Température minimale extrême du mois' : 'tnn',\n",
    "           'Moyenne des températures minimales du mois' : 'tnm', \n",
    "           'Température moyenne du mois' : 'tmm', \n",
    "           'Moyenne des températures maximales du mois' : 'txm', \n",
    "           'Température maximale extrême du mois' : 'txx', \n",
    "           'Cumul de précipitation du mois' : 'rr', \n",
    "           \"Heure d'ensolleiment du mois\" : 'ens', \n",
    "           'Rafale maximale du mois' : 'rafale'},axis=1,inplace = True)\n",
    "    "
   ]
  },
  {
   "cell_type": "code",
   "execution_count": null,
   "id": "a81a7343-6975-4bf4-9977-66f8df5a5ff0",
   "metadata": {},
   "outputs": [],
   "source": []
  }
 ],
 "metadata": {
  "kernelspec": {
   "display_name": "Python 3 (ipykernel)",
   "language": "python",
   "name": "python3"
  },
  "language_info": {
   "codemirror_mode": {
    "name": "ipython",
    "version": 3
   },
   "file_extension": ".py",
   "mimetype": "text/x-python",
   "name": "python",
   "nbconvert_exporter": "python",
   "pygments_lexer": "ipython3",
   "version": "3.10.13"
  }
 },
 "nbformat": 4,
 "nbformat_minor": 5
}
