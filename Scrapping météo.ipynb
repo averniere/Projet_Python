{
 "cells": [
  {
   "cell_type": "markdown",
   "id": "80c32dcc-3c3a-4f55-b7af-81f0f80bb448",
   "metadata": {},
   "source": [
    "# Scrapping de données météo\n",
    "\n",
    "Dans ce notebook, on cherche à récupérer les données météo de plusieurs communes, afin de rendre pertinente une régression de la consommation d'énergie en fonction de l'indice de performance du bâtiment et de la météo.\n",
    "\n",
    "Cette analyse s'inscrit dans une dimension bien plus locale que l'analyse précédente, qui portait sur une échelle départementale et non communale."
   ]
  },
  {
   "cell_type": "code",
   "execution_count": 1,
   "id": "d0ad9531-7c7a-410c-bdc2-171cfed804ae",
   "metadata": {},
   "outputs": [],
   "source": [
    "!pip install -q lxml"
   ]
  },
  {
   "cell_type": "code",
   "execution_count": 16,
   "id": "6bb8f02e-0e8d-4e61-a92e-0eb8e0be40d6",
   "metadata": {},
   "outputs": [],
   "source": [
    "#!pip install -q lxml\n",
    "\n",
    "import bs4\n",
    "import lxml\n",
    "import pandas as pd\n",
    "import urllib\n",
    "from tqdm.auto import tqdm\n",
    "\n",
    "from urllib import request"
   ]
  },
  {
   "cell_type": "code",
   "execution_count": 3,
   "id": "38f6cd9b-46f5-4169-adbf-dba238df3cbc",
   "metadata": {},
   "outputs": [],
   "source": [
    "\"\"\" Création du dictionnaire Racine \"\"\"\n",
    "\n",
    "data_all = {\n",
    "    i : {j : {} for j in range(1,13)} for i in range(2011,2019)\n",
    "}"
   ]
  },
  {
   "cell_type": "code",
   "execution_count": 4,
   "id": "983dd27d-1b16-4dbb-870a-9e53e9f990e1",
   "metadata": {},
   "outputs": [
    {
     "data": {
      "application/vnd.jupyter.widget-view+json": {
       "model_id": "a32532f00b6a4228a4c5bda8534530c6",
       "version_major": 2,
       "version_minor": 0
      },
      "text/plain": [
       "  0%|          | 0/8 [00:00<?, ?it/s]"
      ]
     },
     "metadata": {},
     "output_type": "display_data"
    }
   ],
   "source": [
    "\"\"\" Scrapping du site infoclimat.fr et organisation des données sous forme de dictionnaire \"\"\"\n",
    "# Il faut optimiser la création en ne créant qu'une seule fois le Df lié aux villes\n",
    "\n",
    "for i in tqdm(range(len(data_all))):\n",
    "    for y in data_all :\n",
    "        for m in data_all[y] :\n",
    "            url_test = 'https://www.infoclimat.fr/stations-meteo/analyses-mensuelles.php?mois=' + str(m) + '&annee=' + str(y)\n",
    "            raw_text = request.urlopen(url_test).read()\n",
    "            page = bs4.BeautifulSoup(raw_text) #,'lxml')\n",
    "            tableau = page.find('table', {'id' : 'tableau-releves'})\n",
    "            rows = tableau.find_all('tr')\n",
    "    \n",
    "            df = {\n",
    "        'Villes' : [rows[i].find('a').text for i in range(1,len(rows))], #[rows[i].find_all('div')[0].text for i in range(1,len(rows))], #[rows[i].find('a').text for i in range(1,len(rows))],\n",
    "        'Température minimale extrême du mois' : [rows[i].find('div').text for i in range(1,len(rows))],\n",
    "        'Moyenne des températures minimales du mois' : [rows[i].find_all('td')[2].text for i in range(1,len(rows))],\n",
    "        'Température moyenne du mois' : [rows[i].find_all('td')[3].text for i in range(1,len(rows))],\n",
    "        'Moyenne des températures maximales du mois' : [rows[i].find_all('td')[4].text for i in range(1,len(rows))],\n",
    "        'Température maximale extrême du mois' : [rows[i].find_all('td')[5].find('div').text for i in range(1,len(rows))],\n",
    "        'Cumul de précipitation du mois' : [rows[i].find_all('td')[6].text for i in range(1,len(rows))],\n",
    "        \"Heure d'ensolleiment du mois\" : [rows[i].find_all('td')[7].text for i in range(1,len(rows))],\n",
    "        'Rafale maximale du mois' : [rows[i].find_all('td')[8].text for i in range(1,len(rows))] \n",
    "                }\n",
    "    \n",
    "            data_all[y][m] = df"
   ]
  },
  {
   "cell_type": "markdown",
   "id": "43c948d1-17d8-43bd-9c76-c42c4962728c",
   "metadata": {},
   "source": [
    "On garde pour la suite le nom des stations utiles. Ces noms nous permettront de filtrer les communes dont nous devons étudier les DPE."
   ]
  },
  {
   "cell_type": "code",
   "execution_count": 23,
   "id": "c04925e3-cc77-4c7f-bcba-9ca113aa12b8",
   "metadata": {},
   "outputs": [
    {
     "data": {
      "text/html": [
       "<div>\n",
       "<style scoped>\n",
       "    .dataframe tbody tr th:only-of-type {\n",
       "        vertical-align: middle;\n",
       "    }\n",
       "\n",
       "    .dataframe tbody tr th {\n",
       "        vertical-align: top;\n",
       "    }\n",
       "\n",
       "    .dataframe thead th {\n",
       "        text-align: right;\n",
       "    }\n",
       "</style>\n",
       "<table border=\"1\" class=\"dataframe\">\n",
       "  <thead>\n",
       "    <tr style=\"text-align: right;\">\n",
       "      <th></th>\n",
       "      <th>Ville</th>\n",
       "    </tr>\n",
       "  </thead>\n",
       "  <tbody>\n",
       "    <tr>\n",
       "      <th>0</th>\n",
       "      <td>Abbeville (80)</td>\n",
       "    </tr>\n",
       "    <tr>\n",
       "      <th>1</th>\n",
       "      <td>Agde (34)</td>\n",
       "    </tr>\n",
       "    <tr>\n",
       "      <th>2</th>\n",
       "      <td>Agde - Le Grau (34)</td>\n",
       "    </tr>\n",
       "    <tr>\n",
       "      <th>3</th>\n",
       "      <td>Agen - La Garenne (47)</td>\n",
       "    </tr>\n",
       "    <tr>\n",
       "      <th>4</th>\n",
       "      <td>Aigrefeuille-d'Aunis (17)</td>\n",
       "    </tr>\n",
       "    <tr>\n",
       "      <th>...</th>\n",
       "      <td>...</td>\n",
       "    </tr>\n",
       "    <tr>\n",
       "      <th>781</th>\n",
       "      <td>Xonrupt-Longemer (88)</td>\n",
       "    </tr>\n",
       "    <tr>\n",
       "      <th>782</th>\n",
       "      <td>Xonrupt-Longemer - Le Poli (88)</td>\n",
       "    </tr>\n",
       "    <tr>\n",
       "      <th>783</th>\n",
       "      <td>Xonrupt-Longemer - Refuge du Sotré (88)</td>\n",
       "    </tr>\n",
       "    <tr>\n",
       "      <th>784</th>\n",
       "      <td>Yssingeaux (43)</td>\n",
       "    </tr>\n",
       "    <tr>\n",
       "      <th>785</th>\n",
       "      <td>Yzeron (69)</td>\n",
       "    </tr>\n",
       "  </tbody>\n",
       "</table>\n",
       "<p>786 rows × 1 columns</p>\n",
       "</div>"
      ],
      "text/plain": [
       "                                       Ville\n",
       "0                             Abbeville (80)\n",
       "1                                  Agde (34)\n",
       "2                        Agde - Le Grau (34)\n",
       "3                     Agen - La Garenne (47)\n",
       "4                  Aigrefeuille-d'Aunis (17)\n",
       "..                                       ...\n",
       "781                    Xonrupt-Longemer (88)\n",
       "782          Xonrupt-Longemer - Le Poli (88)\n",
       "783  Xonrupt-Longemer - Refuge du Sotré (88)\n",
       "784                          Yssingeaux (43)\n",
       "785                              Yzeron (69)\n",
       "\n",
       "[786 rows x 1 columns]"
      ]
     },
     "execution_count": 23,
     "metadata": {},
     "output_type": "execute_result"
    }
   ],
   "source": [
    "#Création d'un Data Frame à partir de la colonne \"Villes\" du dictionnaire précédent\n",
    "stations=pd.DataFrame(df['Villes'],columns=['Ville'])\n",
    "#On ne garde que les stations dans les villes et pas celle de stations de \"Météo à l'école\" (MAE)\n",
    "liste_communes=stations[~stations['Ville'].str[0].isin(['['])]\n",
    "liste_communes"
   ]
  },
  {
   "cell_type": "code",
   "execution_count": 5,
   "id": "61b8b293-47e3-409c-ba20-0c5c5237083f",
   "metadata": {},
   "outputs": [],
   "source": [
    "\"\"\" Conversion en DataFrame pour exporter \"\"\"\n",
    "\n",
    "df_all = pandas.DataFrame(data_all)"
   ]
  },
  {
   "cell_type": "code",
   "execution_count": 6,
   "id": "8bc8d6fd-6a9c-450d-a11d-e7b7b0c79a64",
   "metadata": {},
   "outputs": [],
   "source": [
    "\"\"\" Exportation au format json \"\"\"\n",
    "\n",
    "df_all.to_json('data_base.json')"
   ]
  },
  {
   "cell_type": "code",
   "execution_count": 9,
   "id": "1223b75c-5d86-48d7-a5b4-e888f58246b2",
   "metadata": {},
   "outputs": [],
   "source": [
    "\"\"\" Normalisation des variables suivant la nomenclature de la source \"\"\"\n",
    "\n",
    "df_all.rename({'Villes' : 'ville', \n",
    "           'Température minimale extrême du mois' : 'tnn',\n",
    "           'Moyenne des températures minimales du mois' : 'tnm', \n",
    "           'Température moyenne du mois' : 'tmm', \n",
    "           'Moyenne des températures maximales du mois' : 'txm', \n",
    "           'Température maximale extrême du mois' : 'txx', \n",
    "           'Cumul de précipitation du mois' : 'rr', \n",
    "           \"Heure d'ensolleiment du mois\" : 'ens', \n",
    "           'Rafale maximale du mois' : 'rafale'},axis=1,inplace = True)"
   ]
  },
  {
   "cell_type": "code",
   "execution_count": 10,
   "id": "4d62384f-93a5-482b-8910-b56ac21d15ca",
   "metadata": {},
   "outputs": [],
   "source": [
    "class Meteo :\n",
    "    def __init__(self):\n",
    "        self.data_all = {\n",
    "                i : {j : {} for j in range(1,13)} for i in range(2011,2019)\n",
    "            }\n",
    "\n",
    "    def scrap(self):\n",
    "        for y in self.data_all :\n",
    "            for m in self.data_all[y] :\n",
    "                url_test = 'https://www.infoclimat.fr/stations-meteo/analyses-mensuelles.php?mois=' + str(m) + '&annee=' + str(y)\n",
    "                raw_text = request.urlopen(url_test).read()\n",
    "                page = bs4.BeautifulSoup(raw_text,'lxml')\n",
    "                tableau = page.find('table', {'id' : 'tableau-releves'})\n",
    "                rows = tableau.find_all('tr')\n",
    "        \n",
    "                df = {\n",
    "            'Villes' : [rows[i].find('a').text for i in range(1,len(rows))], #[rows[i].find_all('div')[0].text for i in range(1,len(rows))], #[rows[i].find('a').text for i in range(1,len(rows))],\n",
    "            'Température minimale extrême du mois' : [rows[i].find('div').text for i in range(1,len(rows))],\n",
    "            'Moyenne des températures minimales du mois' : [rows[i].find_all('td')[2].text for i in range(1,len(rows))],\n",
    "            'Température moyenne du mois' : [rows[i].find_all('td')[3].text for i in range(1,len(rows))],\n",
    "            'Moyenne des températures maximales du mois' : [rows[i].find_all('td')[4].text for i in range(1,len(rows))],\n",
    "            'Température maximale extrême du mois' : [rows[i].find_all('td')[5].find('div').text for i in range(1,len(rows))],\n",
    "            'Cumul de précipitation du mois' : [rows[i].find_all('td')[6].text for i in range(1,len(rows))],\n",
    "            \"Heure d'ensolleiment du mois\" : [rows[i].find_all('td')[7].text for i in range(1,len(rows))],\n",
    "            'Rafale maximale du mois' : [rows[i].find_all('td')[8].text for i in range(1,len(rows))] \n",
    "                    }\n",
    "        \n",
    "                self.data_all[y][m] = df\n",
    "\n",
    "    def export(self):\n",
    "        self.df_all = pandas.DataFrame(self.data_all)\n",
    "        self.df_all.to_json('data_base.json')\n",
    "\n",
    "    def rename(self):\n",
    "        self.df_all = pandas.DataFrame(self.data_all)\n",
    "        self.df_all.rename({'Villes' : 'ville', \n",
    "           'Température minimale extrême du mois' : 'tnn',\n",
    "           'Moyenne des températures minimales du mois' : 'tnm', \n",
    "           'Température moyenne du mois' : 'tmm', \n",
    "           'Moyenne des températures maximales du mois' : 'txm', \n",
    "           'Température maximale extrême du mois' : 'txx', \n",
    "           'Cumul de précipitation du mois' : 'rr', \n",
    "           \"Heure d'ensolleiment du mois\" : 'ens', \n",
    "           'Rafale maximale du mois' : 'rafale'},axis=1,inplace = True)\n",
    "    "
   ]
  },
  {
   "cell_type": "code",
   "execution_count": null,
   "id": "a81a7343-6975-4bf4-9977-66f8df5a5ff0",
   "metadata": {},
   "outputs": [],
   "source": []
  }
 ],
 "metadata": {
  "kernelspec": {
   "display_name": "Python 3 (ipykernel)",
   "language": "python",
   "name": "python3"
  },
  "language_info": {
   "codemirror_mode": {
    "name": "ipython",
    "version": 3
   },
   "file_extension": ".py",
   "mimetype": "text/x-python",
   "name": "python",
   "nbconvert_exporter": "python",
   "pygments_lexer": "ipython3",
   "version": "3.10.13"
  }
 },
 "nbformat": 4,
 "nbformat_minor": 5
}
