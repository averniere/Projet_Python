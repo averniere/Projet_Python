{
 "cells": [
  {
   "cell_type": "code",
   "execution_count": 45,
   "id": "9a0ead95-46d6-44f8-bd36-9c0f5b8b9816",
   "metadata": {},
   "outputs": [],
   "source": [
    "\"\"\" Import des modules \"\"\"\n",
    "import pandas as pd\n",
    "import numpy as np"
   ]
  },
  {
   "cell_type": "code",
   "execution_count": 44,
   "id": "6f023346-27fc-4905-b849-cca7bec57866",
   "metadata": {},
   "outputs": [],
   "source": [
    "\"\"\" Lecture du fichier .csv \"\"\"\n",
    "raw = pd.read_csv('temperature-quotidienne-departementale.csv',sep=';')"
   ]
  },
  {
   "cell_type": "code",
   "execution_count": 60,
   "id": "ed1f5a39-7399-46e4-b512-86914d9b1b87",
   "metadata": {},
   "outputs": [],
   "source": [
    "\"\"\" Processing du fichier pour générer un tableau contenant les moyennes/max/min des températures min/max/moyennes par départements par années \"\"\"\n",
    "\n",
    "raw['key'] = raw['departement'] + raw['date_obs'].apply(lambda x : x[:4])\n",
    "\n",
    "moy = raw.groupby('key').mean('tmax')\n",
    "moy.rename({'tmin' : 'tmin_moy', 'tmax' : 'tmax_moy', 'tmoy' : 'tmoy_moy'},axis=1,inplace=True)\n",
    "\n",
    "mini = raw.groupby('key').min('tmax')\n",
    "mini.rename({'tmin' : 'tmin_min', 'tmax' : 'tmax_min', 'tmoy' : 'tmoy_min'},axis=1,inplace=True)\n",
    "\n",
    "maxi = raw.groupby('key').max('tmax')\n",
    "maxi.rename({'tmin' : 'tmin_max', 'tmax' : 'tmax_max', 'tmoy' : 'tmoy_max'},axis=1,inplace=True)\n",
    "\n",
    "\n",
    "merged = mini.merge(moy,how='outer',on='key')\n",
    "merged = merged.merge(maxi,how='outer',on='key')"
   ]
  },
  {
   "cell_type": "code",
   "execution_count": 81,
   "id": "5274c57d-028a-4e95-ad35-99b28775a521",
   "metadata": {},
   "outputs": [],
   "source": [
    "class Temperatures_dep :\n",
    "\n",
    "    def __init__ (self) :\n",
    "        self.data_raw = pd.read_csv('temperature-quotidienne-departementale.csv',sep=';')\n",
    "        self.data_raw['key'] = self.data_raw['departement'] + self.data_raw['date_obs'].apply(lambda x : x[:4])\n",
    "        \n",
    "        self.data_moy = self.data_raw.groupby('key').mean('tmax')\n",
    "        self.data_moy.rename({'tmin' : 'tmin_moy', 'tmax' : 'tmax_moy', 'tmoy' : 'tmoy_moy'},axis=1,inplace=True)\n",
    "        \n",
    "        self.data_max = self.data_raw.groupby('key').max('tmax')\n",
    "        self.data_max.rename({'tmin' : 'tmin_max', 'tmax' : 'tmax_max', 'tmoy' : 'tmoy_max'},axis=1,inplace=True)\n",
    "        \n",
    "        self.data_min = self.data_raw.groupby('key').min('tmax')\n",
    "        self.data_min.rename({'tmin' : 'tmin_min', 'tmax' : 'tmax_min', 'tmoy' : 'tmoy_min'},axis=1,inplace=True)\n",
    "        \n",
    "    def merge(self):\n",
    "        self.data_merged = self.data_min.merge(self.data_moy,how='outer',on='key')\n",
    "        self.data_merged = self.data_merged.merge(self.data_max,how='outer',on='key')\n",
    "        return self.data_merged\n",
    "\n",
    "    def export(self,table):\n",
    "        if table == 'all' :\n",
    "            self.data_raw.to_csv('data_raw.csv')\n",
    "            self.data_moy.to_csv('data_moy.csv')\n",
    "            self.data_max.to_csv('data_max.csv')\n",
    "            self.data_min.to_csv('data_min.csv')\n",
    "            self.data_merged.to_csv('data_merged.csv')\n",
    "            \n",
    "        elif table == 'raw':\n",
    "            self.data_raw.to_csv('data_raw.csv')\n",
    "\n",
    "        elif table == 'merged' :\n",
    "            self.data_merged.to_csv('data_merged.csv')"
   ]
  },
  {
   "cell_type": "code",
   "execution_count": 83,
   "id": "ddbcbef1-4f5d-4a81-beaa-3835bb772291",
   "metadata": {},
   "outputs": [],
   "source": [
    "temps = Temperatures_dep()"
   ]
  },
  {
   "cell_type": "code",
   "execution_count": null,
   "id": "ec651fda-e514-4b22-8467-c62dfca456ba",
   "metadata": {},
   "outputs": [],
   "source": [
    "temps.export('all')"
   ]
  }
 ],
 "metadata": {
  "kernelspec": {
   "display_name": "Python 3 (ipykernel)",
   "language": "python",
   "name": "python3"
  },
  "language_info": {
   "codemirror_mode": {
    "name": "ipython",
    "version": 3
   },
   "file_extension": ".py",
   "mimetype": "text/x-python",
   "name": "python",
   "nbconvert_exporter": "python",
   "pygments_lexer": "ipython3",
   "version": "3.10.13"
  }
 },
 "nbformat": 4,
 "nbformat_minor": 5
}
